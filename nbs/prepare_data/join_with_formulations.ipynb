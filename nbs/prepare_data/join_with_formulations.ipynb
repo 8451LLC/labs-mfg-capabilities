{
 "cells": [
  {
   "cell_type": "code",
   "execution_count": null,
   "id": "ad38d583",
   "metadata": {},
   "outputs": [
    {
     "data": {
      "text/plain": [
       "polars.config.Config"
      ]
     },
     "execution_count": 1,
     "metadata": {},
     "output_type": "execute_result"
    }
   ],
   "source": [
    "import polars as pl\n",
    "\n",
    "from mfg_capabilities.config import config\n",
    "\n",
    "from mfg_capabilities.utils import get_sqlalchemy_engine\n",
    "\n",
    "from thefuzz import process\n",
    "\n",
    "CATALOG = \"manufacturing_dev\"\n",
    "SCHEMA = \"work_agent_barney\"\n",
    "\n",
    "\n",
    "engine = get_sqlalchemy_engine(\n",
    "    catalog=CATALOG,\n",
    "    schema=SCHEMA\n",
    ")\n",
    "\n",
    "\n",
    "pl.Config.set_tbl_rows(20)  # to set the number of rows displayed)\n",
    "# pl.Config.set_tbl_cols(10) # to set the number of columns\n",
    "# pl.Config.set_fmt_str_lengths(50) # to set the max string length displayed"
   ]
  },
  {
   "cell_type": "markdown",
   "id": "6daa09a5",
   "metadata": {},
   "source": [
    "## Load line and product data"
   ]
  },
  {
   "cell_type": "code",
   "execution_count": 26,
   "id": "cde5ece1",
   "metadata": {},
   "outputs": [],
   "source": [
    "# I manually cleaned the Excel sheets from central planning\n",
    "# and stored in a single excel file\n",
    "PRODUCTS_PATH = config.data_dir / \"from_central_planning\" / \"products_from_capacity.xlsx\"\n",
    "\n",
    "# Read all columns as strings first to handle concatenated CSVs with extra headers\n",
    "products_raw = pl.read_excel(\n",
    "    PRODUCTS_PATH,\n",
    "    sheet_name=\"Sheet1\",\n",
    "    has_header=True,\n",
    "    infer_schema_length=0  # Treat all columns as strings\n",
    ")\n",
    "\n",
    "# display(products_raw)"
   ]
  },
  {
   "cell_type": "code",
   "execution_count": 23,
   "id": "70a2d3ee",
   "metadata": {},
   "outputs": [],
   "source": [
    "products_cleaned = (\n",
    "    products_raw\n",
    "    .filter(~pl.col(\"Product\").str.contains(\"(?i)none\"))\n",
    "    .select(\"Plant Number\", \"Plant Name\", \"Line Name\", \"Product\")\n",
    "    .unique()\n",
    "    .sort(\"Plant Number\", \"Plant Name\", \"Line Name\", \"Product\")\n",
    ")\n",
    "\n",
    "# display(products_cleaned)"
   ]
  },
  {
   "cell_type": "markdown",
   "id": "4c12c4e9",
   "metadata": {},
   "source": [
    "## Infer RCK line numbers"
   ]
  },
  {
   "cell_type": "code",
   "execution_count": 22,
   "id": "78b762af",
   "metadata": {},
   "outputs": [
    {
     "data": {
      "text/html": [
       "<div><style>\n",
       ".dataframe > thead > tr,\n",
       ".dataframe > tbody > tr {\n",
       "  text-align: right;\n",
       "  white-space: pre-wrap;\n",
       "}\n",
       "</style>\n",
       "<small>shape: (127, 4)</small><table border=\"1\" class=\"dataframe\"><thead><tr><th>Plant Number</th><th>Plant Name</th><th>Line Name</th><th>Product</th></tr><tr><td>str</td><td>str</td><td>str</td><td>str</td></tr></thead><tbody><tr><td>&quot;714&quot;</td><td>&quot;RCK Foods&quot;</td><td>&quot;Deli Modern&quot;</td><td>&quot;Buffalo Chicken Dip 10 oz.&quot;</td></tr><tr><td>&quot;714&quot;</td><td>&quot;RCK Foods&quot;</td><td>&quot;Deli Modern&quot;</td><td>&quot;Candied Jalapeno Bacon Dip 12 …</td></tr><tr><td>&quot;714&quot;</td><td>&quot;RCK Foods&quot;</td><td>&quot;Deli Modern&quot;</td><td>&quot;Margherita Pizza Dip 12 oz.&quot;</td></tr><tr><td>&quot;714&quot;</td><td>&quot;RCK Foods&quot;</td><td>&quot;Deli Modern&quot;</td><td>&quot;Sweet and Sour Dressing&quot;</td></tr><tr><td>&quot;714&quot;</td><td>&quot;RCK Foods&quot;</td><td>&quot;Deli Multivac 1&quot;</td><td>&quot;Albacore Tuna Salad&quot;</td></tr><tr><td>&quot;714&quot;</td><td>&quot;RCK Foods&quot;</td><td>&quot;Deli Multivac 1&quot;</td><td>&quot;American Potato Salad&quot;</td></tr><tr><td>&quot;714&quot;</td><td>&quot;RCK Foods&quot;</td><td>&quot;Deli Multivac 1&quot;</td><td>&quot;Artisan Mac N Cheese&quot;</td></tr><tr><td>&quot;714&quot;</td><td>&quot;RCK Foods&quot;</td><td>&quot;Deli Multivac 1&quot;</td><td>&quot;BLT Pasta Salad&quot;</td></tr><tr><td>&quot;714&quot;</td><td>&quot;RCK Foods&quot;</td><td>&quot;Deli Multivac 1&quot;</td><td>&quot;Bistro Bow Tie Pasta Salad Bas…</td></tr><tr><td>&quot;714&quot;</td><td>&quot;RCK Foods&quot;</td><td>&quot;Deli Multivac 1&quot;</td><td>&quot;Calico Bean Salad&quot;</td></tr><tr><td>&hellip;</td><td>&hellip;</td><td>&hellip;</td><td>&hellip;</td></tr><tr><td>&quot;714&quot;</td><td>&quot;RCK Foods&quot;</td><td>&quot;Soup Modern&quot;</td><td>&quot;HC Minestrone 24 oz.&quot;</td></tr><tr><td>&quot;714&quot;</td><td>&quot;RCK Foods&quot;</td><td>&quot;Soup Modern&quot;</td><td>&quot;HC Pulled Pork Pozole 24 oz.&quot;</td></tr><tr><td>&quot;714&quot;</td><td>&quot;RCK Foods&quot;</td><td>&quot;Soup Modern&quot;</td><td>&quot;HC Thai Coconut 15oz&quot;</td></tr><tr><td>&quot;714&quot;</td><td>&quot;RCK Foods&quot;</td><td>&quot;Soup Modern&quot;</td><td>&quot;HC Thai Coconut 24oz&quot;</td></tr><tr><td>&quot;714&quot;</td><td>&quot;RCK Foods&quot;</td><td>&quot;Soup Modern&quot;</td><td>&quot;HC Tomato Bisque 15 oz&quot;</td></tr><tr><td>&quot;714&quot;</td><td>&quot;RCK Foods&quot;</td><td>&quot;Soup Modern&quot;</td><td>&quot;HC Tomato Bisque 24 oz&quot;</td></tr><tr><td>&quot;714&quot;</td><td>&quot;RCK Foods&quot;</td><td>&quot;Soup Modern&quot;</td><td>&quot;HC Turkey Gravy&quot;</td></tr><tr><td>&quot;714&quot;</td><td>&quot;RCK Foods&quot;</td><td>&quot;Soup Modern&quot;</td><td>&quot;Home Chef White Chicken Chili&quot;</td></tr><tr><td>&quot;714&quot;</td><td>&quot;RCK Foods&quot;</td><td>&quot;Soup Rovema&quot;</td><td>&quot;German Dressing&quot;</td></tr><tr><td>&quot;714&quot;</td><td>&quot;RCK Foods&quot;</td><td>&quot;Soup Rovema&quot;</td><td>&quot;Pot Pie Filling Component&quot;</td></tr></tbody></table></div>"
      ],
      "text/plain": [
       "shape: (127, 4)\n",
       "┌──────────────┬────────────┬─────────────────┬─────────────────────────────────┐\n",
       "│ Plant Number ┆ Plant Name ┆ Line Name       ┆ Product                         │\n",
       "│ ---          ┆ ---        ┆ ---             ┆ ---                             │\n",
       "│ str          ┆ str        ┆ str             ┆ str                             │\n",
       "╞══════════════╪════════════╪═════════════════╪═════════════════════════════════╡\n",
       "│ 714          ┆ RCK Foods  ┆ Deli Modern     ┆ Buffalo Chicken Dip 10 oz.      │\n",
       "│ 714          ┆ RCK Foods  ┆ Deli Modern     ┆ Candied Jalapeno Bacon Dip 12 … │\n",
       "│ 714          ┆ RCK Foods  ┆ Deli Modern     ┆ Margherita Pizza Dip 12 oz.     │\n",
       "│ 714          ┆ RCK Foods  ┆ Deli Modern     ┆ Sweet and Sour Dressing         │\n",
       "│ 714          ┆ RCK Foods  ┆ Deli Multivac 1 ┆ Albacore Tuna Salad             │\n",
       "│ 714          ┆ RCK Foods  ┆ Deli Multivac 1 ┆ American Potato Salad           │\n",
       "│ 714          ┆ RCK Foods  ┆ Deli Multivac 1 ┆ Artisan Mac N Cheese            │\n",
       "│ 714          ┆ RCK Foods  ┆ Deli Multivac 1 ┆ BLT Pasta Salad                 │\n",
       "│ 714          ┆ RCK Foods  ┆ Deli Multivac 1 ┆ Bistro Bow Tie Pasta Salad Bas… │\n",
       "│ 714          ┆ RCK Foods  ┆ Deli Multivac 1 ┆ Calico Bean Salad               │\n",
       "│ …            ┆ …          ┆ …               ┆ …                               │\n",
       "│ 714          ┆ RCK Foods  ┆ Soup Modern     ┆ HC Minestrone 24 oz.            │\n",
       "│ 714          ┆ RCK Foods  ┆ Soup Modern     ┆ HC Pulled Pork Pozole 24 oz.    │\n",
       "│ 714          ┆ RCK Foods  ┆ Soup Modern     ┆ HC Thai Coconut 15oz            │\n",
       "│ 714          ┆ RCK Foods  ┆ Soup Modern     ┆ HC Thai Coconut 24oz            │\n",
       "│ 714          ┆ RCK Foods  ┆ Soup Modern     ┆ HC Tomato Bisque 15 oz          │\n",
       "│ 714          ┆ RCK Foods  ┆ Soup Modern     ┆ HC Tomato Bisque 24 oz          │\n",
       "│ 714          ┆ RCK Foods  ┆ Soup Modern     ┆ HC Turkey Gravy                 │\n",
       "│ 714          ┆ RCK Foods  ┆ Soup Modern     ┆ Home Chef White Chicken Chili   │\n",
       "│ 714          ┆ RCK Foods  ┆ Soup Rovema     ┆ German Dressing                 │\n",
       "│ 714          ┆ RCK Foods  ┆ Soup Rovema     ┆ Pot Pie Filling Component       │\n",
       "└──────────────┴────────────┴─────────────────┴─────────────────────────────────┘"
      ]
     },
     "metadata": {},
     "output_type": "display_data"
    }
   ],
   "source": [
    "rck_products = (\n",
    "    products_cleaned\n",
    "    .filter(pl.col(\"Plant Number\") == \"714\")\n",
    ")\n",
    "\n",
    "display(rck_products)"
   ]
  },
  {
   "cell_type": "code",
   "execution_count": 29,
   "id": "41df3e10",
   "metadata": {},
   "outputs": [
    {
     "data": {
      "text/html": [
       "<div><style>\n",
       ".dataframe > thead > tr,\n",
       ".dataframe > tbody > tr {\n",
       "  text-align: right;\n",
       "  white-space: pre-wrap;\n",
       "}\n",
       "</style>\n",
       "<small>shape: (150, 7)</small><table border=\"1\" class=\"dataframe\"><thead><tr><th>plant_num</th><th>plant_name</th><th>bsc_fp_num</th><th>line_desc_finished_product</th><th>dept_name_production_plant</th><th>dept_name_sales_plant</th><th>line_market_desc</th></tr><tr><td>str</td><td>str</td><td>str</td><td>str</td><td>str</td><td>str</td><td>str</td></tr></thead><tbody><tr><td>&quot;714&quot;</td><td>&quot;RCK Foods&nbsp;&nbsp;&nbsp;&nbsp;&nbsp;&nbsp;&nbsp;&nbsp;&nbsp;&nbsp;&nbsp;&nbsp;&nbsp;&nbsp;&nbsp;&nbsp;&quot;</td><td>&quot;D03189&quot;</td><td>&quot;6/3LB KRO SOTHRN POTATO SALAD &quot;</td><td>&quot;Deli MFG Salads&nbsp;&nbsp;&nbsp;&nbsp;&nbsp;&nbsp;&nbsp;&nbsp;&nbsp;&nbsp;&quot;</td><td>&quot;Deli MFG Salads&nbsp;&nbsp;&nbsp;&nbsp;&nbsp;&nbsp;&nbsp;&nbsp;&nbsp;&nbsp;&quot;</td><td>&quot;KRO SOTHRN POTATO SALAD&nbsp;&nbsp;&nbsp;&nbsp;&nbsp;&nbsp;&nbsp;&quot;</td></tr><tr><td>&quot;714&quot;</td><td>&quot;RCK Foods&nbsp;&nbsp;&nbsp;&nbsp;&nbsp;&nbsp;&nbsp;&nbsp;&nbsp;&nbsp;&nbsp;&nbsp;&nbsp;&nbsp;&nbsp;&nbsp;&quot;</td><td>&quot;D03218&quot;</td><td>&quot;12/1LB KRO SOUTHRN POTATO SLD &quot;</td><td>&quot;Deli MFG Salads&nbsp;&nbsp;&nbsp;&nbsp;&nbsp;&nbsp;&nbsp;&nbsp;&nbsp;&nbsp;&quot;</td><td>&quot;Deli MFG Salads&nbsp;&nbsp;&nbsp;&nbsp;&nbsp;&nbsp;&nbsp;&nbsp;&nbsp;&nbsp;&quot;</td><td>&quot;KROGER SOUTHERN POTATO SALAD&nbsp;&nbsp;&quot;</td></tr><tr><td>&quot;714&quot;</td><td>&quot;RCK Foods&nbsp;&nbsp;&nbsp;&nbsp;&nbsp;&nbsp;&nbsp;&nbsp;&nbsp;&nbsp;&nbsp;&nbsp;&nbsp;&nbsp;&nbsp;&nbsp;&quot;</td><td>&quot;D03219&quot;</td><td>&quot;12/1LB KRO MUSTRD POTATO SALAD&quot;</td><td>&quot;Deli MFG Salads&nbsp;&nbsp;&nbsp;&nbsp;&nbsp;&nbsp;&nbsp;&nbsp;&nbsp;&nbsp;&quot;</td><td>&quot;Deli MFG Salads&nbsp;&nbsp;&nbsp;&nbsp;&nbsp;&nbsp;&nbsp;&nbsp;&nbsp;&nbsp;&quot;</td><td>&quot;KROGER MUSTARD POTATO SALAD&nbsp;&nbsp;&nbsp;&quot;</td></tr><tr><td>&quot;714&quot;</td><td>&quot;RCK Foods&nbsp;&nbsp;&nbsp;&nbsp;&nbsp;&nbsp;&nbsp;&nbsp;&nbsp;&nbsp;&nbsp;&nbsp;&nbsp;&nbsp;&nbsp;&nbsp;&quot;</td><td>&quot;D03271&quot;</td><td>&quot;12/1LB KRO HMSTYL BAKED BEANS &quot;</td><td>&quot;Deli MFG Salads&nbsp;&nbsp;&nbsp;&nbsp;&nbsp;&nbsp;&nbsp;&nbsp;&nbsp;&nbsp;&quot;</td><td>&quot;Deli MFG Salads&nbsp;&nbsp;&nbsp;&nbsp;&nbsp;&nbsp;&nbsp;&nbsp;&nbsp;&nbsp;&quot;</td><td>&quot;KROGER HOMESTYLE BAKED BEANS&nbsp;&nbsp;&quot;</td></tr><tr><td>&quot;714&quot;</td><td>&quot;RCK Foods&nbsp;&nbsp;&nbsp;&nbsp;&nbsp;&nbsp;&nbsp;&nbsp;&nbsp;&nbsp;&nbsp;&nbsp;&nbsp;&nbsp;&nbsp;&nbsp;&quot;</td><td>&quot;D03322&quot;</td><td>&quot;6/3LB KRO MSTRD POTATO SALAD&nbsp;&nbsp;&quot;</td><td>&quot;Deli MFG Salads&nbsp;&nbsp;&nbsp;&nbsp;&nbsp;&nbsp;&nbsp;&nbsp;&nbsp;&nbsp;&quot;</td><td>&quot;Deli MFG Salads&nbsp;&nbsp;&nbsp;&nbsp;&nbsp;&nbsp;&nbsp;&nbsp;&nbsp;&nbsp;&quot;</td><td>&quot;KROGER MUSTARD POTATO SALAD&nbsp;&nbsp;&nbsp;&quot;</td></tr><tr><td>&quot;714&quot;</td><td>&quot;RCK Foods&nbsp;&nbsp;&nbsp;&nbsp;&nbsp;&nbsp;&nbsp;&nbsp;&nbsp;&nbsp;&nbsp;&nbsp;&nbsp;&nbsp;&nbsp;&nbsp;&quot;</td><td>&quot;D03373&quot;</td><td>&quot;6/3LB KRO HMSTYL BAKED BEANS&nbsp;&nbsp;&quot;</td><td>&quot;Deli MFG Salads&nbsp;&nbsp;&nbsp;&nbsp;&nbsp;&nbsp;&nbsp;&nbsp;&nbsp;&nbsp;&quot;</td><td>&quot;Deli MFG Salads&nbsp;&nbsp;&nbsp;&nbsp;&nbsp;&nbsp;&nbsp;&nbsp;&nbsp;&nbsp;&quot;</td><td>&quot;KROGER HOMESTYLE BAKED BEANS&nbsp;&nbsp;&quot;</td></tr><tr><td>&quot;714&quot;</td><td>&quot;RCK Foods&nbsp;&nbsp;&nbsp;&nbsp;&nbsp;&nbsp;&nbsp;&nbsp;&nbsp;&nbsp;&nbsp;&nbsp;&nbsp;&nbsp;&nbsp;&nbsp;&quot;</td><td>&quot;D03734&quot;</td><td>&quot;WHOLESOME@HOME CRANBERRY CELEB&quot;</td><td>&quot;Deli MFG Salads&nbsp;&nbsp;&nbsp;&nbsp;&nbsp;&nbsp;&nbsp;&nbsp;&nbsp;&nbsp;&quot;</td><td>&quot;Deli MFG Salads&nbsp;&nbsp;&nbsp;&nbsp;&nbsp;&nbsp;&nbsp;&nbsp;&nbsp;&nbsp;&quot;</td><td>&quot;WHOLESOME@HOME CRANBERRY CELEB&quot;</td></tr><tr><td>&quot;714&quot;</td><td>&quot;RCK Foods&nbsp;&nbsp;&nbsp;&nbsp;&nbsp;&nbsp;&nbsp;&nbsp;&nbsp;&nbsp;&nbsp;&nbsp;&nbsp;&nbsp;&nbsp;&nbsp;&quot;</td><td>&quot;D08314&quot;</td><td>&quot;2/5LBS KROGER HOMESTYLE COCKTA&quot;</td><td>&quot;Deli MFG Salads&nbsp;&nbsp;&nbsp;&nbsp;&nbsp;&nbsp;&nbsp;&nbsp;&nbsp;&nbsp;&quot;</td><td>&quot;Deli MFG Salads&nbsp;&nbsp;&nbsp;&nbsp;&nbsp;&nbsp;&nbsp;&nbsp;&nbsp;&nbsp;&quot;</td><td>&quot;KROGER HOMESTYLE COCKTAIL SAUC&quot;</td></tr><tr><td>&quot;714&quot;</td><td>&quot;RCK Foods&nbsp;&nbsp;&nbsp;&nbsp;&nbsp;&nbsp;&nbsp;&nbsp;&nbsp;&nbsp;&nbsp;&nbsp;&nbsp;&nbsp;&nbsp;&nbsp;&quot;</td><td>&quot;D21090&quot;</td><td>&quot;12/15OZ BFR MINI SUGAR CKY 36C&quot;</td><td>&quot;FROZEN MFT COOKIES&nbsp;&nbsp;&nbsp;&nbsp;&nbsp;&nbsp;&nbsp;&quot;</td><td>&quot;FROZEN MFT COOKIES&nbsp;&nbsp;&nbsp;&nbsp;&nbsp;&nbsp;&nbsp;&quot;</td><td>&quot;BFR MINI SUGAR CKY 36CT&nbsp;&nbsp;&nbsp;&nbsp;&nbsp;&nbsp;&nbsp;&quot;</td></tr><tr><td>&quot;714&quot;</td><td>&quot;RCK Foods&nbsp;&nbsp;&nbsp;&nbsp;&nbsp;&nbsp;&nbsp;&nbsp;&nbsp;&nbsp;&nbsp;&nbsp;&nbsp;&nbsp;&nbsp;&nbsp;&quot;</td><td>&quot;D21091&quot;</td><td>&quot;12/15OZ BFR MINI CHOC CH CKY 3&quot;</td><td>&quot;FROZEN MFT COOKIES&nbsp;&nbsp;&nbsp;&nbsp;&nbsp;&nbsp;&nbsp;&quot;</td><td>&quot;FROZEN MFT COOKIES&nbsp;&nbsp;&nbsp;&nbsp;&nbsp;&nbsp;&nbsp;&quot;</td><td>&quot;BFR MINI CHOC CH CKY 36CT&nbsp;&nbsp;&nbsp;&nbsp;&nbsp;&quot;</td></tr><tr><td>&hellip;</td><td>&hellip;</td><td>&hellip;</td><td>&hellip;</td><td>&hellip;</td><td>&hellip;</td><td>&hellip;</td></tr><tr><td>&quot;714&quot;</td><td>&quot;RCK Foods&nbsp;&nbsp;&nbsp;&nbsp;&nbsp;&nbsp;&nbsp;&nbsp;&nbsp;&nbsp;&nbsp;&nbsp;&nbsp;&nbsp;&nbsp;&nbsp;&quot;</td><td>&quot;D95752&quot;</td><td>&quot;8/15OZ HOME CHEF LASAGNA SOUP &quot;</td><td>&quot;MFG Soup&nbsp;&nbsp;&nbsp;&nbsp;&nbsp;&nbsp;&nbsp;&nbsp;&nbsp;&nbsp;&nbsp;&nbsp;&nbsp;&nbsp;&nbsp;&nbsp;&nbsp;&quot;</td><td>&quot;MFG Soup&nbsp;&nbsp;&nbsp;&nbsp;&nbsp;&nbsp;&nbsp;&nbsp;&nbsp;&nbsp;&nbsp;&nbsp;&nbsp;&nbsp;&nbsp;&nbsp;&nbsp;&quot;</td><td>&quot;HOME CHEF LASAGNA SOUP&nbsp;&nbsp;&nbsp;&nbsp;&nbsp;&nbsp;&nbsp;&nbsp;&quot;</td></tr><tr><td>&quot;714&quot;</td><td>&quot;RCK Foods&nbsp;&nbsp;&nbsp;&nbsp;&nbsp;&nbsp;&nbsp;&nbsp;&nbsp;&nbsp;&nbsp;&nbsp;&nbsp;&nbsp;&nbsp;&nbsp;&quot;</td><td>&quot;D95753&quot;</td><td>&quot;8/15OZ HOME CHEF BLK BEAN&nbsp;&nbsp;SOU&quot;</td><td>&quot;MFG Soup&nbsp;&nbsp;&nbsp;&nbsp;&nbsp;&nbsp;&nbsp;&nbsp;&nbsp;&nbsp;&nbsp;&nbsp;&nbsp;&nbsp;&nbsp;&nbsp;&nbsp;&quot;</td><td>&quot;MFG Soup&nbsp;&nbsp;&nbsp;&nbsp;&nbsp;&nbsp;&nbsp;&nbsp;&nbsp;&nbsp;&nbsp;&nbsp;&nbsp;&nbsp;&nbsp;&nbsp;&nbsp;&quot;</td><td>&quot;HOME CHEF BLK BEAN&nbsp;&nbsp;SOUP&nbsp;&nbsp;&nbsp;&nbsp;&nbsp;&nbsp;&quot;</td></tr><tr><td>&quot;714&quot;</td><td>&quot;RCK Foods&nbsp;&nbsp;&nbsp;&nbsp;&nbsp;&nbsp;&nbsp;&nbsp;&nbsp;&nbsp;&nbsp;&nbsp;&nbsp;&nbsp;&nbsp;&nbsp;&quot;</td><td>&quot;D95755&quot;</td><td>&quot;8/15OZ HOME CHEF THAI CONUT SO&quot;</td><td>&quot;MFG Soup&nbsp;&nbsp;&nbsp;&nbsp;&nbsp;&nbsp;&nbsp;&nbsp;&nbsp;&nbsp;&nbsp;&nbsp;&nbsp;&nbsp;&nbsp;&nbsp;&nbsp;&quot;</td><td>&quot;MFG Soup&nbsp;&nbsp;&nbsp;&nbsp;&nbsp;&nbsp;&nbsp;&nbsp;&nbsp;&nbsp;&nbsp;&nbsp;&nbsp;&nbsp;&nbsp;&nbsp;&nbsp;&quot;</td><td>&quot;HOME CHEF THAI CONUT SOUP&nbsp;&nbsp;&nbsp;&nbsp;&nbsp;&quot;</td></tr><tr><td>&quot;714&quot;</td><td>&quot;RCK Foods&nbsp;&nbsp;&nbsp;&nbsp;&nbsp;&nbsp;&nbsp;&nbsp;&nbsp;&nbsp;&nbsp;&nbsp;&nbsp;&nbsp;&nbsp;&nbsp;&quot;</td><td>&quot;D95756&quot;</td><td>&quot;8/24OZ HOME CHEF CHCN CURRY SO&quot;</td><td>&quot;MFG Soup&nbsp;&nbsp;&nbsp;&nbsp;&nbsp;&nbsp;&nbsp;&nbsp;&nbsp;&nbsp;&nbsp;&nbsp;&nbsp;&nbsp;&nbsp;&nbsp;&nbsp;&quot;</td><td>&quot;MFG Soup&nbsp;&nbsp;&nbsp;&nbsp;&nbsp;&nbsp;&nbsp;&nbsp;&nbsp;&nbsp;&nbsp;&nbsp;&nbsp;&nbsp;&nbsp;&nbsp;&nbsp;&quot;</td><td>&quot;HOME CHEF CHCN CURRY SOUP&nbsp;&nbsp;&nbsp;&nbsp;&nbsp;&quot;</td></tr><tr><td>&quot;714&quot;</td><td>&quot;RCK Foods&nbsp;&nbsp;&nbsp;&nbsp;&nbsp;&nbsp;&nbsp;&nbsp;&nbsp;&nbsp;&nbsp;&nbsp;&nbsp;&nbsp;&nbsp;&nbsp;&quot;</td><td>&quot;D95785&quot;</td><td>&quot;6/1.13LB HOME CHEF CHICKEN POT&quot;</td><td>&quot;Salad Commissary&nbsp;&nbsp;&nbsp;&nbsp;&nbsp;&nbsp;&nbsp;&nbsp;&nbsp;&quot;</td><td>&quot;Salad Commissary&nbsp;&nbsp;&nbsp;&nbsp;&nbsp;&nbsp;&nbsp;&nbsp;&nbsp;&quot;</td><td>&quot;HOME CHEF CHICKEN POT PIE&nbsp;&nbsp;&nbsp;&nbsp;&nbsp;&quot;</td></tr><tr><td>&quot;714&quot;</td><td>&quot;RCK Foods&nbsp;&nbsp;&nbsp;&nbsp;&nbsp;&nbsp;&nbsp;&nbsp;&nbsp;&nbsp;&nbsp;&nbsp;&nbsp;&nbsp;&nbsp;&nbsp;&quot;</td><td>&quot;D95788&quot;</td><td>&quot;8/24OZ HMCHEF CRMYCHK WLD RCSP&quot;</td><td>&quot;MFG Soup&nbsp;&nbsp;&nbsp;&nbsp;&nbsp;&nbsp;&nbsp;&nbsp;&nbsp;&nbsp;&nbsp;&nbsp;&nbsp;&nbsp;&nbsp;&nbsp;&nbsp;&quot;</td><td>&quot;MFG Soup&nbsp;&nbsp;&nbsp;&nbsp;&nbsp;&nbsp;&nbsp;&nbsp;&nbsp;&nbsp;&nbsp;&nbsp;&nbsp;&nbsp;&nbsp;&nbsp;&nbsp;&quot;</td><td>&quot;HMCHEF CRMYCHK WLD RCSP&nbsp;&nbsp;&nbsp;&nbsp;&nbsp;&nbsp;&nbsp;&quot;</td></tr><tr><td>&quot;714&quot;</td><td>&quot;RCK Foods&nbsp;&nbsp;&nbsp;&nbsp;&nbsp;&nbsp;&nbsp;&nbsp;&nbsp;&nbsp;&nbsp;&nbsp;&nbsp;&nbsp;&nbsp;&nbsp;&quot;</td><td>&quot;D95789&quot;</td><td>&quot;8/24OZ HMCHEF CRMY CHCK&amp;W RICE&quot;</td><td>&quot;MFG Soup&nbsp;&nbsp;&nbsp;&nbsp;&nbsp;&nbsp;&nbsp;&nbsp;&nbsp;&nbsp;&nbsp;&nbsp;&nbsp;&nbsp;&nbsp;&nbsp;&nbsp;&quot;</td><td>&quot;MFG Soup&nbsp;&nbsp;&nbsp;&nbsp;&nbsp;&nbsp;&nbsp;&nbsp;&nbsp;&nbsp;&nbsp;&nbsp;&nbsp;&nbsp;&nbsp;&nbsp;&nbsp;&quot;</td><td>&quot;HOME CHEF CREAMY CHICKEN AND W&quot;</td></tr><tr><td>&quot;714&quot;</td><td>&quot;RCK Foods&nbsp;&nbsp;&nbsp;&nbsp;&nbsp;&nbsp;&nbsp;&nbsp;&nbsp;&nbsp;&nbsp;&nbsp;&nbsp;&nbsp;&nbsp;&nbsp;&quot;</td><td>&quot;D95895&quot;</td><td>&quot;6/1LB HOME CHEF CHICKEN POT PI&quot;</td><td>&quot;Salad Commissary&nbsp;&nbsp;&nbsp;&nbsp;&nbsp;&nbsp;&nbsp;&nbsp;&nbsp;&quot;</td><td>&quot;Salad Commissary&nbsp;&nbsp;&nbsp;&nbsp;&nbsp;&nbsp;&nbsp;&nbsp;&nbsp;&quot;</td><td>&quot;HOME CHEF CHICKEN POT PIE&nbsp;&nbsp;&nbsp;&nbsp;&nbsp;&quot;</td></tr><tr><td>&quot;714&quot;</td><td>&quot;RCK Foods&nbsp;&nbsp;&nbsp;&nbsp;&nbsp;&nbsp;&nbsp;&nbsp;&nbsp;&nbsp;&nbsp;&nbsp;&nbsp;&nbsp;&nbsp;&nbsp;&quot;</td><td>&quot;D95972&quot;</td><td>&quot;8/15OZ HMCHF HS BF CTRYVGSOUP &quot;</td><td>&quot;MFG Soup&nbsp;&nbsp;&nbsp;&nbsp;&nbsp;&nbsp;&nbsp;&nbsp;&nbsp;&nbsp;&nbsp;&nbsp;&nbsp;&nbsp;&nbsp;&nbsp;&nbsp;&quot;</td><td>&quot;MFG Soup&nbsp;&nbsp;&nbsp;&nbsp;&nbsp;&nbsp;&nbsp;&nbsp;&nbsp;&nbsp;&nbsp;&nbsp;&nbsp;&nbsp;&nbsp;&nbsp;&nbsp;&quot;</td><td>&quot;HOME CHEF HS BEEF WITH COUNTRY&quot;</td></tr><tr><td>&quot;714&quot;</td><td>&quot;RCK Foods&nbsp;&nbsp;&nbsp;&nbsp;&nbsp;&nbsp;&nbsp;&nbsp;&nbsp;&nbsp;&nbsp;&nbsp;&nbsp;&nbsp;&nbsp;&nbsp;&quot;</td><td>&quot;D95973&quot;</td><td>&quot;8/15OZ HOME CHEF AUTMN SQSH SP&quot;</td><td>&quot;MFG Soup&nbsp;&nbsp;&nbsp;&nbsp;&nbsp;&nbsp;&nbsp;&nbsp;&nbsp;&nbsp;&nbsp;&nbsp;&nbsp;&nbsp;&nbsp;&nbsp;&nbsp;&quot;</td><td>&quot;MFG Soup&nbsp;&nbsp;&nbsp;&nbsp;&nbsp;&nbsp;&nbsp;&nbsp;&nbsp;&nbsp;&nbsp;&nbsp;&nbsp;&nbsp;&nbsp;&nbsp;&nbsp;&quot;</td><td>&quot;HOME CHEF AUTUMN SQUASH SOUP&nbsp;&nbsp;&quot;</td></tr></tbody></table></div>"
      ],
      "text/plain": [
       "shape: (150, 7)\n",
       "┌───────────┬──────────────┬────────────┬──────────────┬──────────────┬──────────────┬─────────────┐\n",
       "│ plant_num ┆ plant_name   ┆ bsc_fp_num ┆ line_desc_fi ┆ dept_name_pr ┆ dept_name_sa ┆ line_market │\n",
       "│ ---       ┆ ---          ┆ ---        ┆ nished_produ ┆ oduction_pla ┆ les_plant    ┆ _desc       │\n",
       "│ str       ┆ str          ┆ str        ┆ ct           ┆ nt           ┆ ---          ┆ ---         │\n",
       "│           ┆              ┆            ┆ ---          ┆ ---          ┆ str          ┆ str         │\n",
       "│           ┆              ┆            ┆ str          ┆ str          ┆              ┆             │\n",
       "╞═══════════╪══════════════╪════════════╪══════════════╪══════════════╪══════════════╪═════════════╡\n",
       "│ 714       ┆ RCK Foods    ┆ D03189     ┆ 6/3LB KRO    ┆ Deli MFG     ┆ Deli MFG     ┆ KRO SOTHRN  │\n",
       "│           ┆              ┆            ┆ SOTHRN       ┆ Salads       ┆ Salads       ┆ POTATO      │\n",
       "│           ┆              ┆            ┆ POTATO SALAD ┆              ┆              ┆ SALAD       │\n",
       "│ 714       ┆ RCK Foods    ┆ D03218     ┆ 12/1LB KRO   ┆ Deli MFG     ┆ Deli MFG     ┆ KROGER      │\n",
       "│           ┆              ┆            ┆ SOUTHRN      ┆ Salads       ┆ Salads       ┆ SOUTHERN    │\n",
       "│           ┆              ┆            ┆ POTATO SLD   ┆              ┆              ┆ POTATO      │\n",
       "│           ┆              ┆            ┆              ┆              ┆              ┆ SALAD       │\n",
       "│ 714       ┆ RCK Foods    ┆ D03219     ┆ 12/1LB KRO   ┆ Deli MFG     ┆ Deli MFG     ┆ KROGER      │\n",
       "│           ┆              ┆            ┆ MUSTRD       ┆ Salads       ┆ Salads       ┆ MUSTARD     │\n",
       "│           ┆              ┆            ┆ POTATO SALAD ┆              ┆              ┆ POTATO      │\n",
       "│           ┆              ┆            ┆              ┆              ┆              ┆ SALAD       │\n",
       "│ 714       ┆ RCK Foods    ┆ D03271     ┆ 12/1LB KRO   ┆ Deli MFG     ┆ Deli MFG     ┆ KROGER      │\n",
       "│           ┆              ┆            ┆ HMSTYL BAKED ┆ Salads       ┆ Salads       ┆ HOMESTYLE   │\n",
       "│           ┆              ┆            ┆ BEANS        ┆              ┆              ┆ BAKED BEANS │\n",
       "│ 714       ┆ RCK Foods    ┆ D03322     ┆ 6/3LB KRO    ┆ Deli MFG     ┆ Deli MFG     ┆ KROGER      │\n",
       "│           ┆              ┆            ┆ MSTRD POTATO ┆ Salads       ┆ Salads       ┆ MUSTARD     │\n",
       "│           ┆              ┆            ┆ SALAD        ┆              ┆              ┆ POTATO      │\n",
       "│           ┆              ┆            ┆              ┆              ┆              ┆ SALAD       │\n",
       "│ 714       ┆ RCK Foods    ┆ D03373     ┆ 6/3LB KRO    ┆ Deli MFG     ┆ Deli MFG     ┆ KROGER      │\n",
       "│           ┆              ┆            ┆ HMSTYL BAKED ┆ Salads       ┆ Salads       ┆ HOMESTYLE   │\n",
       "│           ┆              ┆            ┆ BEANS        ┆              ┆              ┆ BAKED BEANS │\n",
       "│ 714       ┆ RCK Foods    ┆ D03734     ┆ WHOLESOME@HO ┆ Deli MFG     ┆ Deli MFG     ┆ WHOLESOME@H │\n",
       "│           ┆              ┆            ┆ ME CRANBERRY ┆ Salads       ┆ Salads       ┆ OME         │\n",
       "│           ┆              ┆            ┆ CELEB        ┆              ┆              ┆ CRANBERRY   │\n",
       "│           ┆              ┆            ┆              ┆              ┆              ┆ CELEB       │\n",
       "│ 714       ┆ RCK Foods    ┆ D08314     ┆ 2/5LBS       ┆ Deli MFG     ┆ Deli MFG     ┆ KROGER      │\n",
       "│           ┆              ┆            ┆ KROGER       ┆ Salads       ┆ Salads       ┆ HOMESTYLE   │\n",
       "│           ┆              ┆            ┆ HOMESTYLE    ┆              ┆              ┆ COCKTAIL    │\n",
       "│           ┆              ┆            ┆ COCKTA       ┆              ┆              ┆ SAUC        │\n",
       "│ 714       ┆ RCK Foods    ┆ D21090     ┆ 12/15OZ BFR  ┆ FROZEN MFT   ┆ FROZEN MFT   ┆ BFR MINI    │\n",
       "│           ┆              ┆            ┆ MINI SUGAR   ┆ COOKIES      ┆ COOKIES      ┆ SUGAR CKY   │\n",
       "│           ┆              ┆            ┆ CKY 36C      ┆              ┆              ┆ 36CT        │\n",
       "│ 714       ┆ RCK Foods    ┆ D21091     ┆ 12/15OZ BFR  ┆ FROZEN MFT   ┆ FROZEN MFT   ┆ BFR MINI    │\n",
       "│           ┆              ┆            ┆ MINI CHOC CH ┆ COOKIES      ┆ COOKIES      ┆ CHOC CH CKY │\n",
       "│           ┆              ┆            ┆ CKY 3        ┆              ┆              ┆ 36CT        │\n",
       "│ …         ┆ …            ┆ …          ┆ …            ┆ …            ┆ …            ┆ …           │\n",
       "│ 714       ┆ RCK Foods    ┆ D95752     ┆ 8/15OZ HOME  ┆ MFG Soup     ┆ MFG Soup     ┆ HOME CHEF   │\n",
       "│           ┆              ┆            ┆ CHEF LASAGNA ┆              ┆              ┆ LASAGNA     │\n",
       "│           ┆              ┆            ┆ SOUP         ┆              ┆              ┆ SOUP        │\n",
       "│ 714       ┆ RCK Foods    ┆ D95753     ┆ 8/15OZ HOME  ┆ MFG Soup     ┆ MFG Soup     ┆ HOME CHEF   │\n",
       "│           ┆              ┆            ┆ CHEF BLK     ┆              ┆              ┆ BLK BEAN    │\n",
       "│           ┆              ┆            ┆ BEAN  SOU    ┆              ┆              ┆ SOUP        │\n",
       "│ 714       ┆ RCK Foods    ┆ D95755     ┆ 8/15OZ HOME  ┆ MFG Soup     ┆ MFG Soup     ┆ HOME CHEF   │\n",
       "│           ┆              ┆            ┆ CHEF THAI    ┆              ┆              ┆ THAI CONUT  │\n",
       "│           ┆              ┆            ┆ CONUT SO     ┆              ┆              ┆ SOUP        │\n",
       "│ 714       ┆ RCK Foods    ┆ D95756     ┆ 8/24OZ HOME  ┆ MFG Soup     ┆ MFG Soup     ┆ HOME CHEF   │\n",
       "│           ┆              ┆            ┆ CHEF CHCN    ┆              ┆              ┆ CHCN CURRY  │\n",
       "│           ┆              ┆            ┆ CURRY SO     ┆              ┆              ┆ SOUP        │\n",
       "│ 714       ┆ RCK Foods    ┆ D95785     ┆ 6/1.13LB     ┆ Salad        ┆ Salad        ┆ HOME CHEF   │\n",
       "│           ┆              ┆            ┆ HOME CHEF    ┆ Commissary   ┆ Commissary   ┆ CHICKEN POT │\n",
       "│           ┆              ┆            ┆ CHICKEN POT  ┆              ┆              ┆ PIE         │\n",
       "│ 714       ┆ RCK Foods    ┆ D95788     ┆ 8/24OZ       ┆ MFG Soup     ┆ MFG Soup     ┆ HMCHEF      │\n",
       "│           ┆              ┆            ┆ HMCHEF       ┆              ┆              ┆ CRMYCHK WLD │\n",
       "│           ┆              ┆            ┆ CRMYCHK WLD  ┆              ┆              ┆ RCSP        │\n",
       "│           ┆              ┆            ┆ RCSP         ┆              ┆              ┆             │\n",
       "│ 714       ┆ RCK Foods    ┆ D95789     ┆ 8/24OZ       ┆ MFG Soup     ┆ MFG Soup     ┆ HOME CHEF   │\n",
       "│           ┆              ┆            ┆ HMCHEF CRMY  ┆              ┆              ┆ CREAMY      │\n",
       "│           ┆              ┆            ┆ CHCK&W RICE  ┆              ┆              ┆ CHICKEN AND │\n",
       "│           ┆              ┆            ┆              ┆              ┆              ┆ W           │\n",
       "│ 714       ┆ RCK Foods    ┆ D95895     ┆ 6/1LB HOME   ┆ Salad        ┆ Salad        ┆ HOME CHEF   │\n",
       "│           ┆              ┆            ┆ CHEF CHICKEN ┆ Commissary   ┆ Commissary   ┆ CHICKEN POT │\n",
       "│           ┆              ┆            ┆ POT PI       ┆              ┆              ┆ PIE         │\n",
       "│ 714       ┆ RCK Foods    ┆ D95972     ┆ 8/15OZ HMCHF ┆ MFG Soup     ┆ MFG Soup     ┆ HOME CHEF   │\n",
       "│           ┆              ┆            ┆ HS BF        ┆              ┆              ┆ HS BEEF     │\n",
       "│           ┆              ┆            ┆ CTRYVGSOUP   ┆              ┆              ┆ WITH        │\n",
       "│           ┆              ┆            ┆              ┆              ┆              ┆ COUNTRY     │\n",
       "│ 714       ┆ RCK Foods    ┆ D95973     ┆ 8/15OZ HOME  ┆ MFG Soup     ┆ MFG Soup     ┆ HOME CHEF   │\n",
       "│           ┆              ┆            ┆ CHEF AUTMN   ┆              ┆              ┆ AUTUMN      │\n",
       "│           ┆              ┆            ┆ SQSH SP      ┆              ┆              ┆ SQUASH SOUP │\n",
       "└───────────┴──────────────┴────────────┴──────────────┴──────────────┴──────────────┴─────────────┘"
      ]
     },
     "metadata": {},
     "output_type": "display_data"
    }
   ],
   "source": [
    "query = \"\"\"\n",
    "SELECT\n",
    "    plant_num,\n",
    "    plant_name,\n",
    "    bsc_fp_num,\n",
    "    line_desc_finished_product,\n",
    "    dept_name_production_plant,\n",
    "    dept_name_sales_plant,\n",
    "    line_market_desc\n",
    "FROM\n",
    "    financials_item_info_silver\n",
    "WHERE\n",
    "    plant_num = '714'\n",
    "\"\"\"\n",
    "rck_bsc_items = pl.read_database(query, engine)\n",
    "display(rck_bsc_items)"
   ]
  },
  {
   "cell_type": "code",
   "execution_count": 43,
   "id": "0e929a49",
   "metadata": {},
   "outputs": [
    {
     "data": {
      "text/html": [
       "<div><style>\n",
       ".dataframe > thead > tr,\n",
       ".dataframe > tbody > tr {\n",
       "  text-align: right;\n",
       "  white-space: pre-wrap;\n",
       "}\n",
       "</style>\n",
       "<small>shape: (127, 5)</small><table border=\"1\" class=\"dataframe\"><thead><tr><th>Plant Number</th><th>Plant Name</th><th>Line Name</th><th>Product</th><th>best_match_desc</th></tr><tr><td>str</td><td>str</td><td>str</td><td>str</td><td>str</td></tr></thead><tbody><tr><td>&quot;714&quot;</td><td>&quot;RCK Foods&quot;</td><td>&quot;Deli Modern&quot;</td><td>&quot;Buffalo Chicken Dip 10 oz.&quot;</td><td>&quot;CHICKEN MILANESE&nbsp;&nbsp;&nbsp;&nbsp;&nbsp;&nbsp;&nbsp;&nbsp;&nbsp;&nbsp;&nbsp;&nbsp;&nbsp;&nbsp;&quot;</td></tr><tr><td>&quot;714&quot;</td><td>&quot;RCK Foods&quot;</td><td>&quot;Deli Modern&quot;</td><td>&quot;Candied Jalapeno Bacon Dip 12 …</td><td>&quot;PRVT SEL CAN JAL BCN DIP&nbsp;&nbsp;&nbsp;&nbsp;&nbsp;&nbsp;&quot;</td></tr><tr><td>&quot;714&quot;</td><td>&quot;RCK Foods&quot;</td><td>&quot;Deli Modern&quot;</td><td>&quot;Margherita Pizza Dip 12 oz.&quot;</td><td>&quot;PRVT SEL PZZA DP&nbsp;&nbsp;&nbsp;&nbsp;&nbsp;&nbsp;&nbsp;&nbsp;&nbsp;&nbsp;&nbsp;&nbsp;&nbsp;&nbsp;&quot;</td></tr><tr><td>&quot;714&quot;</td><td>&quot;RCK Foods&quot;</td><td>&quot;Deli Modern&quot;</td><td>&quot;Sweet and Sour Dressing&quot;</td><td>&quot;RNDY SWEET SOUR COLE SLAW&nbsp;&nbsp;&nbsp;&nbsp;&nbsp;&quot;</td></tr><tr><td>&quot;714&quot;</td><td>&quot;RCK Foods&quot;</td><td>&quot;Deli Multivac 1&quot;</td><td>&quot;Albacore Tuna Salad&quot;</td><td>&quot;ALBACORE TUNA SALAD&nbsp;&nbsp;&nbsp;&nbsp;&nbsp;&nbsp;&nbsp;&nbsp;&nbsp;&nbsp;&nbsp;&quot;</td></tr><tr><td>&quot;714&quot;</td><td>&quot;RCK Foods&quot;</td><td>&quot;Deli Multivac 1&quot;</td><td>&quot;American Potato Salad&quot;</td><td>&quot;AMERICAN POTATO SALAD&nbsp;&nbsp;&nbsp;&nbsp;&nbsp;&nbsp;&nbsp;&nbsp;&nbsp;&quot;</td></tr><tr><td>&quot;714&quot;</td><td>&quot;RCK Foods&quot;</td><td>&quot;Deli Multivac 1&quot;</td><td>&quot;Artisan Mac N Cheese&quot;</td><td>&quot;RCK ARTISAN MAC N CHEESE&nbsp;&nbsp;&nbsp;&nbsp;&nbsp;&nbsp;&quot;</td></tr><tr><td>&quot;714&quot;</td><td>&quot;RCK Foods&quot;</td><td>&quot;Deli Multivac 1&quot;</td><td>&quot;BLT Pasta Salad&quot;</td><td>&quot;2/5LB BGS RCK BLT PASTA SALAD &quot;</td></tr><tr><td>&quot;714&quot;</td><td>&quot;RCK Foods&quot;</td><td>&quot;Deli Multivac 1&quot;</td><td>&quot;Bistro Bow Tie Pasta Salad Bas…</td><td>&quot;BISTRO BOW TIE PASTA SA&nbsp;&nbsp;&nbsp;&nbsp;&nbsp;&nbsp;&nbsp;&quot;</td></tr><tr><td>&quot;714&quot;</td><td>&quot;RCK Foods&quot;</td><td>&quot;Deli Multivac 1&quot;</td><td>&quot;Calico Bean Salad&quot;</td><td>&quot;CALICO BEAN SALAD&nbsp;&nbsp;&nbsp;&nbsp;&nbsp;&nbsp;&nbsp;&nbsp;&nbsp;&nbsp;&nbsp;&nbsp;&nbsp;&quot;</td></tr><tr><td>&hellip;</td><td>&hellip;</td><td>&hellip;</td><td>&hellip;</td><td>&hellip;</td></tr><tr><td>&quot;714&quot;</td><td>&quot;RCK Foods&quot;</td><td>&quot;Soup Modern&quot;</td><td>&quot;HC Minestrone 24 oz.&quot;</td><td>&quot;HOME CHEF MINESTRONE SOUP&nbsp;&nbsp;&nbsp;&nbsp;&nbsp;&quot;</td></tr><tr><td>&quot;714&quot;</td><td>&quot;RCK Foods&quot;</td><td>&quot;Soup Modern&quot;</td><td>&quot;HC Pulled Pork Pozole 24 oz.&quot;</td><td>&quot;HC CHICKEN POT PIE&nbsp;&nbsp;&nbsp;&nbsp;&nbsp;&nbsp;&nbsp;&nbsp;&nbsp;&nbsp;&nbsp;&nbsp;&quot;</td></tr><tr><td>&quot;714&quot;</td><td>&quot;RCK Foods&quot;</td><td>&quot;Soup Modern&quot;</td><td>&quot;HC Thai Coconut 15oz&quot;</td><td>&quot;HOME CHEF THAI CHCK COC CRRY S&quot;</td></tr><tr><td>&quot;714&quot;</td><td>&quot;RCK Foods&quot;</td><td>&quot;Soup Modern&quot;</td><td>&quot;HC Thai Coconut 24oz&quot;</td><td>&quot;HOME CHEF THAI CHCK COC CRRY S&quot;</td></tr><tr><td>&quot;714&quot;</td><td>&quot;RCK Foods&quot;</td><td>&quot;Soup Modern&quot;</td><td>&quot;HC Tomato Bisque 15 oz&quot;</td><td>&quot;HC TOMATO BISQ BULK SOUP&nbsp;&nbsp;&nbsp;&nbsp;&nbsp;&nbsp;&quot;</td></tr><tr><td>&quot;714&quot;</td><td>&quot;RCK Foods&quot;</td><td>&quot;Soup Modern&quot;</td><td>&quot;HC Tomato Bisque 24 oz&quot;</td><td>&quot;HC TOMATO BISQ BULK SOUP&nbsp;&nbsp;&nbsp;&nbsp;&nbsp;&nbsp;&quot;</td></tr><tr><td>&quot;714&quot;</td><td>&quot;RCK Foods&quot;</td><td>&quot;Soup Modern&quot;</td><td>&quot;HC Turkey Gravy&quot;</td><td>&quot;HC CHICKEN NOODLE BULK SOUP&nbsp;&nbsp;&nbsp;&quot;</td></tr><tr><td>&quot;714&quot;</td><td>&quot;RCK Foods&quot;</td><td>&quot;Soup Modern&quot;</td><td>&quot;Home Chef White Chicken Chili&quot;</td><td>&quot;HMCF WHITE CHICKEN CHILI&nbsp;&nbsp;&nbsp;&nbsp;&nbsp;&nbsp;&quot;</td></tr><tr><td>&quot;714&quot;</td><td>&quot;RCK Foods&quot;</td><td>&quot;Soup Rovema&quot;</td><td>&quot;German Dressing&quot;</td><td>&quot;GERMAN YELLOW POTATO SALAD&nbsp;&nbsp;&nbsp;&nbsp;&quot;</td></tr><tr><td>&quot;714&quot;</td><td>&quot;RCK Foods&quot;</td><td>&quot;Soup Rovema&quot;</td><td>&quot;Pot Pie Filling Component&quot;</td><td>&quot;BEEF POT PIE&nbsp;&nbsp;&nbsp;&nbsp;&nbsp;&nbsp;&nbsp;&nbsp;&nbsp;&nbsp;&nbsp;&nbsp;&nbsp;&nbsp;&nbsp;&nbsp;&nbsp;&nbsp;&quot;</td></tr></tbody></table></div>"
      ],
      "text/plain": [
       "shape: (127, 5)\n",
       "┌──────────────┬────────────┬─────────────────┬──────────────────────────┬─────────────────────────┐\n",
       "│ Plant Number ┆ Plant Name ┆ Line Name       ┆ Product                  ┆ best_match_desc         │\n",
       "│ ---          ┆ ---        ┆ ---             ┆ ---                      ┆ ---                     │\n",
       "│ str          ┆ str        ┆ str             ┆ str                      ┆ str                     │\n",
       "╞══════════════╪════════════╪═════════════════╪══════════════════════════╪═════════════════════════╡\n",
       "│ 714          ┆ RCK Foods  ┆ Deli Modern     ┆ Buffalo Chicken Dip 10   ┆ CHICKEN MILANESE        │\n",
       "│              ┆            ┆                 ┆ oz.                      ┆                         │\n",
       "│ 714          ┆ RCK Foods  ┆ Deli Modern     ┆ Candied Jalapeno Bacon   ┆ PRVT SEL CAN JAL BCN    │\n",
       "│              ┆            ┆                 ┆ Dip 12 …                 ┆ DIP                     │\n",
       "│ 714          ┆ RCK Foods  ┆ Deli Modern     ┆ Margherita Pizza Dip 12  ┆ PRVT SEL PZZA DP        │\n",
       "│              ┆            ┆                 ┆ oz.                      ┆                         │\n",
       "│ 714          ┆ RCK Foods  ┆ Deli Modern     ┆ Sweet and Sour Dressing  ┆ RNDY SWEET SOUR COLE    │\n",
       "│              ┆            ┆                 ┆                          ┆ SLAW                    │\n",
       "│ 714          ┆ RCK Foods  ┆ Deli Multivac 1 ┆ Albacore Tuna Salad      ┆ ALBACORE TUNA SALAD     │\n",
       "│ 714          ┆ RCK Foods  ┆ Deli Multivac 1 ┆ American Potato Salad    ┆ AMERICAN POTATO SALAD   │\n",
       "│ 714          ┆ RCK Foods  ┆ Deli Multivac 1 ┆ Artisan Mac N Cheese     ┆ RCK ARTISAN MAC N       │\n",
       "│              ┆            ┆                 ┆                          ┆ CHEESE                  │\n",
       "│ 714          ┆ RCK Foods  ┆ Deli Multivac 1 ┆ BLT Pasta Salad          ┆ 2/5LB BGS RCK BLT PASTA │\n",
       "│              ┆            ┆                 ┆                          ┆ SALAD                   │\n",
       "│ 714          ┆ RCK Foods  ┆ Deli Multivac 1 ┆ Bistro Bow Tie Pasta     ┆ BISTRO BOW TIE PASTA SA │\n",
       "│              ┆            ┆                 ┆ Salad Bas…               ┆                         │\n",
       "│ 714          ┆ RCK Foods  ┆ Deli Multivac 1 ┆ Calico Bean Salad        ┆ CALICO BEAN SALAD       │\n",
       "│ …            ┆ …          ┆ …               ┆ …                        ┆ …                       │\n",
       "│ 714          ┆ RCK Foods  ┆ Soup Modern     ┆ HC Minestrone 24 oz.     ┆ HOME CHEF MINESTRONE    │\n",
       "│              ┆            ┆                 ┆                          ┆ SOUP                    │\n",
       "│ 714          ┆ RCK Foods  ┆ Soup Modern     ┆ HC Pulled Pork Pozole 24 ┆ HC CHICKEN POT PIE      │\n",
       "│              ┆            ┆                 ┆ oz.                      ┆                         │\n",
       "│ 714          ┆ RCK Foods  ┆ Soup Modern     ┆ HC Thai Coconut 15oz     ┆ HOME CHEF THAI CHCK COC │\n",
       "│              ┆            ┆                 ┆                          ┆ CRRY S                  │\n",
       "│ 714          ┆ RCK Foods  ┆ Soup Modern     ┆ HC Thai Coconut 24oz     ┆ HOME CHEF THAI CHCK COC │\n",
       "│              ┆            ┆                 ┆                          ┆ CRRY S                  │\n",
       "│ 714          ┆ RCK Foods  ┆ Soup Modern     ┆ HC Tomato Bisque 15 oz   ┆ HC TOMATO BISQ BULK     │\n",
       "│              ┆            ┆                 ┆                          ┆ SOUP                    │\n",
       "│ 714          ┆ RCK Foods  ┆ Soup Modern     ┆ HC Tomato Bisque 24 oz   ┆ HC TOMATO BISQ BULK     │\n",
       "│              ┆            ┆                 ┆                          ┆ SOUP                    │\n",
       "│ 714          ┆ RCK Foods  ┆ Soup Modern     ┆ HC Turkey Gravy          ┆ HC CHICKEN NOODLE BULK  │\n",
       "│              ┆            ┆                 ┆                          ┆ SOUP                    │\n",
       "│ 714          ┆ RCK Foods  ┆ Soup Modern     ┆ Home Chef White Chicken  ┆ HMCF WHITE CHICKEN      │\n",
       "│              ┆            ┆                 ┆ Chili                    ┆ CHILI                   │\n",
       "│ 714          ┆ RCK Foods  ┆ Soup Rovema     ┆ German Dressing          ┆ GERMAN YELLOW POTATO    │\n",
       "│              ┆            ┆                 ┆                          ┆ SALAD                   │\n",
       "│ 714          ┆ RCK Foods  ┆ Soup Rovema     ┆ Pot Pie Filling          ┆ BEEF POT PIE            │\n",
       "│              ┆            ┆                 ┆ Component                ┆                         │\n",
       "└──────────────┴────────────┴─────────────────┴──────────────────────────┴─────────────────────────┘"
      ]
     },
     "metadata": {},
     "output_type": "display_data"
    }
   ],
   "source": [
    "from thefuzz import process\n",
    "\n",
    "# Get the list of choices from rck_bsc_items\n",
    "choices = rck_bsc_items[\"line_market_desc\"].to_list()\n",
    "\n",
    "# Function to get the best match\n",
    "def get_best_match(product_name):\n",
    "    \"\"\"Finds the best match for a product name from a list of choices.\"\"\"\n",
    "    # Using score_cutoff within extractOne is more efficient\n",
    "    best_match = process.extractOne(product_name, choices, score_cutoff=0)\n",
    "    if best_match:\n",
    "        return best_match[0]  # Return the matched string\n",
    "    else:\n",
    "        return None  # Return None if no match is found\n",
    "\n",
    "# Apply the function to create a new column with the best match\n",
    "rck_products_with_match = (\n",
    "    rck_products\n",
    "    .with_columns(\n",
    "        pl.col(\"Product\").map_elements(get_best_match, return_dtype=pl.Utf8).alias(\"best_match_desc\")\n",
    "    )\n",
    ")\n",
    "\n",
    "display(rck_products_with_match)\n",
    "\n",
    "# # Join with rck_bsc_items\n",
    "# rck_products_joined = rck_products_with_match.join(\n",
    "#     rck_bsc_items,\n",
    "#     left_on=\"best_match_desc\",\n",
    "#     right_on=\"line_market_desc\",\n",
    "#     how=\"left\"\n",
    "# )\n",
    "\n",
    "# display(rck_products_joined)"
   ]
  },
  {
   "cell_type": "code",
   "execution_count": null,
   "id": "4186f3f3",
   "metadata": {},
   "outputs": [],
   "source": []
  },
  {
   "cell_type": "code",
   "execution_count": 24,
   "id": "46a616a1",
   "metadata": {},
   "outputs": [
    {
     "name": "stderr",
     "output_type": "stream",
     "text": [
      "[WARN] Parameter '_user_agent_entry' is deprecated; use 'user_agent_entry' instead. This parameter will be removed in the upcoming releases.\n"
     ]
    }
   ],
   "source": [
    "\n",
    "query = \"SELECT * FROM plm_spec_cross_references_silver\"\n",
    "plm_spec_cross_refs = pl.read_database(query, engine)"
   ]
  },
  {
   "cell_type": "code",
   "execution_count": 6,
   "id": "3cbf37ab",
   "metadata": {},
   "outputs": [
    {
     "data": {
      "text/html": [
       "<div><style>\n",
       ".dataframe > thead > tr,\n",
       ".dataframe > tbody > tr {\n",
       "  text-align: right;\n",
       "  white-space: pre-wrap;\n",
       "}\n",
       "</style>\n",
       "<small>shape: (116_077, 11)</small><table border=\"1\" class=\"dataframe\"><thead><tr><th>spec_number</th><th>spec_type</th><th>spec_status</th><th>formula_management_formula</th><th>formula_management_formula_output</th><th>bsc_fp_num_consumer</th><th>bsc_fp_num_case</th><th>bsc_fp_num_pallet</th><th>bsc_raw_mat_num</th><th>bsc_num</th><th>spec_type_derived</th></tr><tr><td>str</td><td>str</td><td>str</td><td>str</td><td>str</td><td>str</td><td>str</td><td>str</td><td>str</td><td>str</td><td>str</td></tr></thead><tbody><tr><td>&quot;5000072-004&quot;</td><td>&quot;Ingredient Specification&quot;</td><td>&quot;Deleted&quot;</td><td>null</td><td>null</td><td>null</td><td>null</td><td>null</td><td>&quot;666666&quot;</td><td>&quot;666666&quot;</td><td>&quot;raw_material&quot;</td></tr><tr><td>&quot;5000072-005&quot;</td><td>&quot;Ingredient Specification&quot;</td><td>&quot;Draft&quot;</td><td>null</td><td>null</td><td>null</td><td>null</td><td>null</td><td>&quot;786123&quot;</td><td>&quot;786123&quot;</td><td>&quot;raw_material&quot;</td></tr><tr><td>&quot;5000072-007&quot;</td><td>&quot;Ingredient Specification&quot;</td><td>&quot;Deleted&quot;</td><td>null</td><td>null</td><td>null</td><td>null</td><td>null</td><td>&quot;300176&quot;</td><td>&quot;300176&quot;</td><td>&quot;raw_material&quot;</td></tr><tr><td>&quot;5000072-011&quot;</td><td>&quot;Ingredient Specification&quot;</td><td>&quot;Retired&quot;</td><td>null</td><td>null</td><td>null</td><td>null</td><td>null</td><td>&quot;300176&quot;</td><td>&quot;300176&quot;</td><td>&quot;raw_material&quot;</td></tr><tr><td>&quot;5000072-012&quot;</td><td>&quot;Ingredient Specification&quot;</td><td>&quot;Draft&quot;</td><td>null</td><td>null</td><td>null</td><td>null</td><td>null</td><td>&quot;300176&quot;</td><td>&quot;300176&quot;</td><td>&quot;raw_material&quot;</td></tr><tr><td>&quot;5000073-002&quot;</td><td>&quot;Ingredient Specification&quot;</td><td>&quot;Retired&quot;</td><td>null</td><td>null</td><td>null</td><td>null</td><td>null</td><td>&quot;300182&quot;</td><td>&quot;300182&quot;</td><td>&quot;raw_material&quot;</td></tr><tr><td>&quot;5000074-001&quot;</td><td>&quot;Ingredient Specification&quot;</td><td>&quot;Retired&quot;</td><td>null</td><td>null</td><td>null</td><td>null</td><td>null</td><td>&quot;300193&quot;</td><td>&quot;300193&quot;</td><td>&quot;raw_material&quot;</td></tr><tr><td>&quot;5000075-001&quot;</td><td>&quot;Ingredient Specification&quot;</td><td>&quot;Retired&quot;</td><td>null</td><td>null</td><td>null</td><td>null</td><td>null</td><td>&quot;300202&quot;</td><td>&quot;300202&quot;</td><td>&quot;raw_material&quot;</td></tr><tr><td>&quot;5000076-001&quot;</td><td>&quot;Ingredient Specification&quot;</td><td>&quot;Deleted&quot;</td><td>null</td><td>null</td><td>null</td><td>null</td><td>null</td><td>&quot;300248&quot;</td><td>&quot;300248&quot;</td><td>&quot;raw_material&quot;</td></tr><tr><td>&quot;5000077-001&quot;</td><td>&quot;Ingredient Specification&quot;</td><td>&quot;Retired&quot;</td><td>null</td><td>null</td><td>null</td><td>null</td><td>null</td><td>&quot;300260&quot;</td><td>&quot;300260&quot;</td><td>&quot;raw_material&quot;</td></tr><tr><td>&hellip;</td><td>&hellip;</td><td>&hellip;</td><td>&hellip;</td><td>&hellip;</td><td>&hellip;</td><td>&hellip;</td><td>&hellip;</td><td>&hellip;</td><td>&hellip;</td><td>&hellip;</td></tr><tr><td>&quot;5180266-001&quot;</td><td>&quot;Packaging Specification&quot;</td><td>&quot;Approved&quot;</td><td>null</td><td>null</td><td>null</td><td>null</td><td>null</td><td>&quot;P-1111&quot;</td><td>&quot;P-1111&quot;</td><td>&quot;packaging&quot;</td></tr><tr><td>&quot;5180270-001&quot;</td><td>&quot;Trade Specification&quot;</td><td>&quot;In Process - Non Printed Packa…</td><td>null</td><td>null</td><td>&quot;D07718&quot;</td><td>null</td><td>null</td><td>null</td><td>&quot;D07718&quot;</td><td>&quot;fp_consumer&quot;</td></tr><tr><td>&quot;5180310-001&quot;</td><td>&quot;Formulation Specification&quot;</td><td>&quot;Approved&quot;</td><td>&quot;84010220&quot;</td><td>null</td><td>null</td><td>null</td><td>null</td><td>null</td><td>null</td><td>null</td></tr><tr><td>&quot;5180313-001&quot;</td><td>&quot;Ingredient Specification&quot;</td><td>&quot;Approved&quot;</td><td>null</td><td>&quot;84010220&quot;</td><td>null</td><td>null</td><td>null</td><td>null</td><td>null</td><td>null</td></tr><tr><td>&quot;5180320-001&quot;</td><td>&quot;Trade Specification&quot;</td><td>&quot;Draft&quot;</td><td>null</td><td>null</td><td>null</td><td>null</td><td>null</td><td>null</td><td>null</td><td>null</td></tr><tr><td>&quot;5180329-001&quot;</td><td>&quot;Packaging Specification&quot;</td><td>&quot;Approved&quot;</td><td>null</td><td>null</td><td>null</td><td>null</td><td>null</td><td>&quot;P-1111&quot;</td><td>&quot;P-1111&quot;</td><td>&quot;packaging&quot;</td></tr><tr><td>&quot;5180330-001&quot;</td><td>&quot;Packaging Specification&quot;</td><td>&quot;Approved&quot;</td><td>null</td><td>null</td><td>null</td><td>null</td><td>null</td><td>&quot;P-1111&quot;</td><td>&quot;P-1111&quot;</td><td>&quot;packaging&quot;</td></tr><tr><td>&quot;5180331-001&quot;</td><td>&quot;Packaging Specification&quot;</td><td>&quot;Draft&quot;</td><td>null</td><td>null</td><td>null</td><td>null</td><td>null</td><td>&quot;P-1111&quot;</td><td>&quot;P-1111&quot;</td><td>&quot;packaging&quot;</td></tr><tr><td>&quot;5180332-001&quot;</td><td>&quot;Trade Specification&quot;</td><td>&quot;Approved&quot;</td><td>null</td><td>null</td><td>null</td><td>null</td><td>null</td><td>null</td><td>null</td><td>null</td></tr><tr><td>&quot;5180334-001&quot;</td><td>&quot;Packaging Specification&quot;</td><td>&quot;Approved&quot;</td><td>null</td><td>null</td><td>null</td><td>null</td><td>null</td><td>&quot;P-1111&quot;</td><td>&quot;P-1111&quot;</td><td>&quot;packaging&quot;</td></tr></tbody></table></div>"
      ],
      "text/plain": [
       "shape: (116_077, 11)\n",
       "┌────────────┬───────────┬───────────┬───────────┬───┬───────────┬───────────┬─────────┬───────────┐\n",
       "│ spec_numbe ┆ spec_type ┆ spec_stat ┆ formula_m ┆ … ┆ bsc_fp_nu ┆ bsc_raw_m ┆ bsc_num ┆ spec_type │\n",
       "│ r          ┆ ---       ┆ us        ┆ anagement ┆   ┆ m_pallet  ┆ at_num    ┆ ---     ┆ _derived  │\n",
       "│ ---        ┆ str       ┆ ---       ┆ _formula  ┆   ┆ ---       ┆ ---       ┆ str     ┆ ---       │\n",
       "│ str        ┆           ┆ str       ┆ ---       ┆   ┆ str       ┆ str       ┆         ┆ str       │\n",
       "│            ┆           ┆           ┆ str       ┆   ┆           ┆           ┆         ┆           │\n",
       "╞════════════╪═══════════╪═══════════╪═══════════╪═══╪═══════════╪═══════════╪═════════╪═══════════╡\n",
       "│ 5000072-00 ┆ Ingredien ┆ Deleted   ┆ null      ┆ … ┆ null      ┆ 666666    ┆ 666666  ┆ raw_mater │\n",
       "│ 4          ┆ t Specifi ┆           ┆           ┆   ┆           ┆           ┆         ┆ ial       │\n",
       "│            ┆ cation    ┆           ┆           ┆   ┆           ┆           ┆         ┆           │\n",
       "│ 5000072-00 ┆ Ingredien ┆ Draft     ┆ null      ┆ … ┆ null      ┆ 786123    ┆ 786123  ┆ raw_mater │\n",
       "│ 5          ┆ t Specifi ┆           ┆           ┆   ┆           ┆           ┆         ┆ ial       │\n",
       "│            ┆ cation    ┆           ┆           ┆   ┆           ┆           ┆         ┆           │\n",
       "│ 5000072-00 ┆ Ingredien ┆ Deleted   ┆ null      ┆ … ┆ null      ┆ 300176    ┆ 300176  ┆ raw_mater │\n",
       "│ 7          ┆ t Specifi ┆           ┆           ┆   ┆           ┆           ┆         ┆ ial       │\n",
       "│            ┆ cation    ┆           ┆           ┆   ┆           ┆           ┆         ┆           │\n",
       "│ 5000072-01 ┆ Ingredien ┆ Retired   ┆ null      ┆ … ┆ null      ┆ 300176    ┆ 300176  ┆ raw_mater │\n",
       "│ 1          ┆ t Specifi ┆           ┆           ┆   ┆           ┆           ┆         ┆ ial       │\n",
       "│            ┆ cation    ┆           ┆           ┆   ┆           ┆           ┆         ┆           │\n",
       "│ 5000072-01 ┆ Ingredien ┆ Draft     ┆ null      ┆ … ┆ null      ┆ 300176    ┆ 300176  ┆ raw_mater │\n",
       "│ 2          ┆ t Specifi ┆           ┆           ┆   ┆           ┆           ┆         ┆ ial       │\n",
       "│            ┆ cation    ┆           ┆           ┆   ┆           ┆           ┆         ┆           │\n",
       "│ 5000073-00 ┆ Ingredien ┆ Retired   ┆ null      ┆ … ┆ null      ┆ 300182    ┆ 300182  ┆ raw_mater │\n",
       "│ 2          ┆ t Specifi ┆           ┆           ┆   ┆           ┆           ┆         ┆ ial       │\n",
       "│            ┆ cation    ┆           ┆           ┆   ┆           ┆           ┆         ┆           │\n",
       "│ 5000074-00 ┆ Ingredien ┆ Retired   ┆ null      ┆ … ┆ null      ┆ 300193    ┆ 300193  ┆ raw_mater │\n",
       "│ 1          ┆ t Specifi ┆           ┆           ┆   ┆           ┆           ┆         ┆ ial       │\n",
       "│            ┆ cation    ┆           ┆           ┆   ┆           ┆           ┆         ┆           │\n",
       "│ 5000075-00 ┆ Ingredien ┆ Retired   ┆ null      ┆ … ┆ null      ┆ 300202    ┆ 300202  ┆ raw_mater │\n",
       "│ 1          ┆ t Specifi ┆           ┆           ┆   ┆           ┆           ┆         ┆ ial       │\n",
       "│            ┆ cation    ┆           ┆           ┆   ┆           ┆           ┆         ┆           │\n",
       "│ 5000076-00 ┆ Ingredien ┆ Deleted   ┆ null      ┆ … ┆ null      ┆ 300248    ┆ 300248  ┆ raw_mater │\n",
       "│ 1          ┆ t Specifi ┆           ┆           ┆   ┆           ┆           ┆         ┆ ial       │\n",
       "│            ┆ cation    ┆           ┆           ┆   ┆           ┆           ┆         ┆           │\n",
       "│ 5000077-00 ┆ Ingredien ┆ Retired   ┆ null      ┆ … ┆ null      ┆ 300260    ┆ 300260  ┆ raw_mater │\n",
       "│ 1          ┆ t Specifi ┆           ┆           ┆   ┆           ┆           ┆         ┆ ial       │\n",
       "│            ┆ cation    ┆           ┆           ┆   ┆           ┆           ┆         ┆           │\n",
       "│ …          ┆ …         ┆ …         ┆ …         ┆ … ┆ …         ┆ …         ┆ …       ┆ …         │\n",
       "│ 5180266-00 ┆ Packaging ┆ Approved  ┆ null      ┆ … ┆ null      ┆ P-1111    ┆ P-1111  ┆ packaging │\n",
       "│ 1          ┆ Specifica ┆           ┆           ┆   ┆           ┆           ┆         ┆           │\n",
       "│            ┆ tion      ┆           ┆           ┆   ┆           ┆           ┆         ┆           │\n",
       "│ 5180270-00 ┆ Trade Spe ┆ In        ┆ null      ┆ … ┆ null      ┆ null      ┆ D07718  ┆ fp_consum │\n",
       "│ 1          ┆ cificatio ┆ Process - ┆           ┆   ┆           ┆           ┆         ┆ er        │\n",
       "│            ┆ n         ┆ Non       ┆           ┆   ┆           ┆           ┆         ┆           │\n",
       "│            ┆           ┆ Printed   ┆           ┆   ┆           ┆           ┆         ┆           │\n",
       "│            ┆           ┆ Packa…    ┆           ┆   ┆           ┆           ┆         ┆           │\n",
       "│ 5180310-00 ┆ Formulati ┆ Approved  ┆ 84010220  ┆ … ┆ null      ┆ null      ┆ null    ┆ null      │\n",
       "│ 1          ┆ on Specif ┆           ┆           ┆   ┆           ┆           ┆         ┆           │\n",
       "│            ┆ ication   ┆           ┆           ┆   ┆           ┆           ┆         ┆           │\n",
       "│ 5180313-00 ┆ Ingredien ┆ Approved  ┆ null      ┆ … ┆ null      ┆ null      ┆ null    ┆ null      │\n",
       "│ 1          ┆ t Specifi ┆           ┆           ┆   ┆           ┆           ┆         ┆           │\n",
       "│            ┆ cation    ┆           ┆           ┆   ┆           ┆           ┆         ┆           │\n",
       "│ 5180320-00 ┆ Trade Spe ┆ Draft     ┆ null      ┆ … ┆ null      ┆ null      ┆ null    ┆ null      │\n",
       "│ 1          ┆ cificatio ┆           ┆           ┆   ┆           ┆           ┆         ┆           │\n",
       "│            ┆ n         ┆           ┆           ┆   ┆           ┆           ┆         ┆           │\n",
       "│ 5180329-00 ┆ Packaging ┆ Approved  ┆ null      ┆ … ┆ null      ┆ P-1111    ┆ P-1111  ┆ packaging │\n",
       "│ 1          ┆ Specifica ┆           ┆           ┆   ┆           ┆           ┆         ┆           │\n",
       "│            ┆ tion      ┆           ┆           ┆   ┆           ┆           ┆         ┆           │\n",
       "│ 5180330-00 ┆ Packaging ┆ Approved  ┆ null      ┆ … ┆ null      ┆ P-1111    ┆ P-1111  ┆ packaging │\n",
       "│ 1          ┆ Specifica ┆           ┆           ┆   ┆           ┆           ┆         ┆           │\n",
       "│            ┆ tion      ┆           ┆           ┆   ┆           ┆           ┆         ┆           │\n",
       "│ 5180331-00 ┆ Packaging ┆ Draft     ┆ null      ┆ … ┆ null      ┆ P-1111    ┆ P-1111  ┆ packaging │\n",
       "│ 1          ┆ Specifica ┆           ┆           ┆   ┆           ┆           ┆         ┆           │\n",
       "│            ┆ tion      ┆           ┆           ┆   ┆           ┆           ┆         ┆           │\n",
       "│ 5180332-00 ┆ Trade Spe ┆ Approved  ┆ null      ┆ … ┆ null      ┆ null      ┆ null    ┆ null      │\n",
       "│ 1          ┆ cificatio ┆           ┆           ┆   ┆           ┆           ┆         ┆           │\n",
       "│            ┆ n         ┆           ┆           ┆   ┆           ┆           ┆         ┆           │\n",
       "│ 5180334-00 ┆ Packaging ┆ Approved  ┆ null      ┆ … ┆ null      ┆ P-1111    ┆ P-1111  ┆ packaging │\n",
       "│ 1          ┆ Specifica ┆           ┆           ┆   ┆           ┆           ┆         ┆           │\n",
       "│            ┆ tion      ┆           ┆           ┆   ┆           ┆           ┆         ┆           │\n",
       "└────────────┴───────────┴───────────┴───────────┴───┴───────────┴───────────┴─────────┴───────────┘"
      ]
     },
     "metadata": {},
     "output_type": "display_data"
    }
   ],
   "source": [
    "display(plm_spec_cross_refs)"
   ]
  },
  {
   "cell_type": "code",
   "execution_count": null,
   "id": "b0610cf9",
   "metadata": {},
   "outputs": [],
   "source": []
  },
  {
   "cell_type": "code",
   "execution_count": 21,
   "id": "f860ec3b",
   "metadata": {},
   "outputs": [
    {
     "ename": "DatabaseError",
     "evalue": "(databricks.sql.exc.ServerOperationError) [TRAILING_COMMA_IN_SELECT] Trailing comma detected in SELECT clause. Remove the trailing comma before the FROM clause. SQLSTATE: 42601; line 7 pos 0\n[SQL: \nSELECT\n    output_material_spec_number,\n    trade_spec_number,\n    trade_spec_status,\n    material_spec_status,\nFROM\n    plm_spec_map_trade_output_formulation_silver\nWHERE\n    array_contains(produced_by_plant_num, \"049\")\n    OR array_contains(produced_by_plant_num, \"102\")\n    OR array_contains(produced_by_plant_num, \"714\")\n]\n(Background on this error at: https://sqlalche.me/e/20/4xp6)",
     "output_type": "error",
     "traceback": [
      "\u001b[31m---------------------------------------------------------------------------\u001b[39m",
      "\u001b[31mServerOperationError\u001b[39m                      Traceback (most recent call last)",
      "\u001b[36mFile \u001b[39m\u001b[32m~/code/labs-mfg-capabilities/.venv/lib/python3.13/site-packages/sqlalchemy/engine/base.py:1963\u001b[39m, in \u001b[36mConnection._exec_single_context\u001b[39m\u001b[34m(self, dialect, context, statement, parameters)\u001b[39m\n\u001b[32m   1962\u001b[39m     \u001b[38;5;28;01mif\u001b[39;00m \u001b[38;5;129;01mnot\u001b[39;00m evt_handled:\n\u001b[32m-> \u001b[39m\u001b[32m1963\u001b[39m         \u001b[38;5;28;43mself\u001b[39;49m\u001b[43m.\u001b[49m\u001b[43mdialect\u001b[49m\u001b[43m.\u001b[49m\u001b[43mdo_execute\u001b[49m\u001b[43m(\u001b[49m\n\u001b[32m   1964\u001b[39m \u001b[43m            \u001b[49m\u001b[43mcursor\u001b[49m\u001b[43m,\u001b[49m\u001b[43m \u001b[49m\u001b[43mstr_statement\u001b[49m\u001b[43m,\u001b[49m\u001b[43m \u001b[49m\u001b[43meffective_parameters\u001b[49m\u001b[43m,\u001b[49m\u001b[43m \u001b[49m\u001b[43mcontext\u001b[49m\n\u001b[32m   1965\u001b[39m \u001b[43m        \u001b[49m\u001b[43m)\u001b[49m\n\u001b[32m   1967\u001b[39m \u001b[38;5;28;01mif\u001b[39;00m \u001b[38;5;28mself\u001b[39m._has_events \u001b[38;5;129;01mor\u001b[39;00m \u001b[38;5;28mself\u001b[39m.engine._has_events:\n",
      "\u001b[36mFile \u001b[39m\u001b[32m~/code/labs-mfg-capabilities/.venv/lib/python3.13/site-packages/sqlalchemy/engine/default.py:943\u001b[39m, in \u001b[36mDefaultDialect.do_execute\u001b[39m\u001b[34m(self, cursor, statement, parameters, context)\u001b[39m\n\u001b[32m    942\u001b[39m \u001b[38;5;28;01mdef\u001b[39;00m\u001b[38;5;250m \u001b[39m\u001b[34mdo_execute\u001b[39m(\u001b[38;5;28mself\u001b[39m, cursor, statement, parameters, context=\u001b[38;5;28;01mNone\u001b[39;00m):\n\u001b[32m--> \u001b[39m\u001b[32m943\u001b[39m     \u001b[43mcursor\u001b[49m\u001b[43m.\u001b[49m\u001b[43mexecute\u001b[49m\u001b[43m(\u001b[49m\u001b[43mstatement\u001b[49m\u001b[43m,\u001b[49m\u001b[43m \u001b[49m\u001b[43mparameters\u001b[49m\u001b[43m)\u001b[49m\n",
      "\u001b[36mFile \u001b[39m\u001b[32m~/code/labs-mfg-capabilities/.venv/lib/python3.13/site-packages/databricks/sql/client.py:812\u001b[39m, in \u001b[36mCursor.execute\u001b[39m\u001b[34m(self, operation, parameters, enforce_embedded_schema_correctness)\u001b[39m\n\u001b[32m    811\u001b[39m \u001b[38;5;28mself\u001b[39m._close_and_clear_active_result_set()\n\u001b[32m--> \u001b[39m\u001b[32m812\u001b[39m execute_response = \u001b[38;5;28;43mself\u001b[39;49m\u001b[43m.\u001b[49m\u001b[43mthrift_backend\u001b[49m\u001b[43m.\u001b[49m\u001b[43mexecute_command\u001b[49m\u001b[43m(\u001b[49m\n\u001b[32m    813\u001b[39m \u001b[43m    \u001b[49m\u001b[43moperation\u001b[49m\u001b[43m=\u001b[49m\u001b[43mprepared_operation\u001b[49m\u001b[43m,\u001b[49m\n\u001b[32m    814\u001b[39m \u001b[43m    \u001b[49m\u001b[43msession_handle\u001b[49m\u001b[43m=\u001b[49m\u001b[38;5;28;43mself\u001b[39;49m\u001b[43m.\u001b[49m\u001b[43mconnection\u001b[49m\u001b[43m.\u001b[49m\u001b[43m_session_handle\u001b[49m\u001b[43m,\u001b[49m\n\u001b[32m    815\u001b[39m \u001b[43m    \u001b[49m\u001b[43mmax_rows\u001b[49m\u001b[43m=\u001b[49m\u001b[38;5;28;43mself\u001b[39;49m\u001b[43m.\u001b[49m\u001b[43marraysize\u001b[49m\u001b[43m,\u001b[49m\n\u001b[32m    816\u001b[39m \u001b[43m    \u001b[49m\u001b[43mmax_bytes\u001b[49m\u001b[43m=\u001b[49m\u001b[38;5;28;43mself\u001b[39;49m\u001b[43m.\u001b[49m\u001b[43mbuffer_size_bytes\u001b[49m\u001b[43m,\u001b[49m\n\u001b[32m    817\u001b[39m \u001b[43m    \u001b[49m\u001b[43mlz4_compression\u001b[49m\u001b[43m=\u001b[49m\u001b[38;5;28;43mself\u001b[39;49m\u001b[43m.\u001b[49m\u001b[43mconnection\u001b[49m\u001b[43m.\u001b[49m\u001b[43mlz4_compression\u001b[49m\u001b[43m,\u001b[49m\n\u001b[32m    818\u001b[39m \u001b[43m    \u001b[49m\u001b[43mcursor\u001b[49m\u001b[43m=\u001b[49m\u001b[38;5;28;43mself\u001b[39;49m\u001b[43m,\u001b[49m\n\u001b[32m    819\u001b[39m \u001b[43m    \u001b[49m\u001b[43muse_cloud_fetch\u001b[49m\u001b[43m=\u001b[49m\u001b[38;5;28;43mself\u001b[39;49m\u001b[43m.\u001b[49m\u001b[43mconnection\u001b[49m\u001b[43m.\u001b[49m\u001b[43muse_cloud_fetch\u001b[49m\u001b[43m,\u001b[49m\n\u001b[32m    820\u001b[39m \u001b[43m    \u001b[49m\u001b[43mparameters\u001b[49m\u001b[43m=\u001b[49m\u001b[43mprepared_params\u001b[49m\u001b[43m,\u001b[49m\n\u001b[32m    821\u001b[39m \u001b[43m    \u001b[49m\u001b[43masync_op\u001b[49m\u001b[43m=\u001b[49m\u001b[38;5;28;43;01mFalse\u001b[39;49;00m\u001b[43m,\u001b[49m\n\u001b[32m    822\u001b[39m \u001b[43m    \u001b[49m\u001b[43menforce_embedded_schema_correctness\u001b[49m\u001b[43m=\u001b[49m\u001b[43menforce_embedded_schema_correctness\u001b[49m\u001b[43m,\u001b[49m\n\u001b[32m    823\u001b[39m \u001b[43m\u001b[49m\u001b[43m)\u001b[49m\n\u001b[32m    824\u001b[39m \u001b[38;5;28mself\u001b[39m.active_result_set = ResultSet(\n\u001b[32m    825\u001b[39m     \u001b[38;5;28mself\u001b[39m.connection,\n\u001b[32m    826\u001b[39m     execute_response,\n\u001b[32m   (...)\u001b[39m\u001b[32m    830\u001b[39m     \u001b[38;5;28mself\u001b[39m.connection.use_cloud_fetch,\n\u001b[32m    831\u001b[39m )\n",
      "\u001b[36mFile \u001b[39m\u001b[32m~/code/labs-mfg-capabilities/.venv/lib/python3.13/site-packages/databricks/sql/thrift_backend.py:926\u001b[39m, in \u001b[36mThriftBackend.execute_command\u001b[39m\u001b[34m(self, operation, session_handle, max_rows, max_bytes, lz4_compression, cursor, use_cloud_fetch, parameters, async_op, enforce_embedded_schema_correctness)\u001b[39m\n\u001b[32m    925\u001b[39m \u001b[38;5;28;01melse\u001b[39;00m:\n\u001b[32m--> \u001b[39m\u001b[32m926\u001b[39m     \u001b[38;5;28;01mreturn\u001b[39;00m \u001b[38;5;28;43mself\u001b[39;49m\u001b[43m.\u001b[49m\u001b[43m_handle_execute_response\u001b[49m\u001b[43m(\u001b[49m\u001b[43mresp\u001b[49m\u001b[43m,\u001b[49m\u001b[43m \u001b[49m\u001b[43mcursor\u001b[49m\u001b[43m)\u001b[49m\n",
      "\u001b[36mFile \u001b[39m\u001b[32m~/code/labs-mfg-capabilities/.venv/lib/python3.13/site-packages/databricks/sql/thrift_backend.py:1018\u001b[39m, in \u001b[36mThriftBackend._handle_execute_response\u001b[39m\u001b[34m(self, resp, cursor)\u001b[39m\n\u001b[32m   1016\u001b[39m \u001b[38;5;28mself\u001b[39m._check_direct_results_for_error(resp.directResults)\n\u001b[32m-> \u001b[39m\u001b[32m1018\u001b[39m final_operation_state = \u001b[38;5;28;43mself\u001b[39;49m\u001b[43m.\u001b[49m\u001b[43m_wait_until_command_done\u001b[49m\u001b[43m(\u001b[49m\n\u001b[32m   1019\u001b[39m \u001b[43m    \u001b[49m\u001b[43mresp\u001b[49m\u001b[43m.\u001b[49m\u001b[43moperationHandle\u001b[49m\u001b[43m,\u001b[49m\n\u001b[32m   1020\u001b[39m \u001b[43m    \u001b[49m\u001b[43mresp\u001b[49m\u001b[43m.\u001b[49m\u001b[43mdirectResults\u001b[49m\u001b[43m \u001b[49m\u001b[38;5;129;43;01mand\u001b[39;49;00m\u001b[43m \u001b[49m\u001b[43mresp\u001b[49m\u001b[43m.\u001b[49m\u001b[43mdirectResults\u001b[49m\u001b[43m.\u001b[49m\u001b[43moperationStatus\u001b[49m\u001b[43m,\u001b[49m\n\u001b[32m   1021\u001b[39m \u001b[43m\u001b[49m\u001b[43m)\u001b[49m\n\u001b[32m   1023\u001b[39m \u001b[38;5;28;01mreturn\u001b[39;00m \u001b[38;5;28mself\u001b[39m._results_message_to_execute_response(resp, final_operation_state)\n",
      "\u001b[36mFile \u001b[39m\u001b[32m~/code/labs-mfg-capabilities/.venv/lib/python3.13/site-packages/databricks/sql/thrift_backend.py:834\u001b[39m, in \u001b[36mThriftBackend._wait_until_command_done\u001b[39m\u001b[34m(self, op_handle, initial_operation_status_resp)\u001b[39m\n\u001b[32m    833\u001b[39m \u001b[38;5;28;01mif\u001b[39;00m initial_operation_status_resp:\n\u001b[32m--> \u001b[39m\u001b[32m834\u001b[39m     \u001b[38;5;28;43mself\u001b[39;49m\u001b[43m.\u001b[49m\u001b[43m_check_command_not_in_error_or_closed_state\u001b[49m\u001b[43m(\u001b[49m\n\u001b[32m    835\u001b[39m \u001b[43m        \u001b[49m\u001b[43mop_handle\u001b[49m\u001b[43m,\u001b[49m\u001b[43m \u001b[49m\u001b[43minitial_operation_status_resp\u001b[49m\n\u001b[32m    836\u001b[39m \u001b[43m    \u001b[49m\u001b[43m)\u001b[49m\n\u001b[32m    837\u001b[39m operation_state = (\n\u001b[32m    838\u001b[39m     initial_operation_status_resp\n\u001b[32m    839\u001b[39m     \u001b[38;5;129;01mand\u001b[39;00m initial_operation_status_resp.operationState\n\u001b[32m    840\u001b[39m )\n",
      "\u001b[36mFile \u001b[39m\u001b[32m~/code/labs-mfg-capabilities/.venv/lib/python3.13/site-packages/databricks/sql/thrift_backend.py:572\u001b[39m, in \u001b[36mThriftBackend._check_command_not_in_error_or_closed_state\u001b[39m\u001b[34m(self, op_handle, get_operations_resp)\u001b[39m\n\u001b[32m    571\u001b[39m \u001b[38;5;28;01mif\u001b[39;00m get_operations_resp.displayMessage:\n\u001b[32m--> \u001b[39m\u001b[32m572\u001b[39m     \u001b[38;5;28;01mraise\u001b[39;00m ServerOperationError(\n\u001b[32m    573\u001b[39m         get_operations_resp.displayMessage,\n\u001b[32m    574\u001b[39m         {\n\u001b[32m    575\u001b[39m             \u001b[33m\"\u001b[39m\u001b[33moperation-id\u001b[39m\u001b[33m\"\u001b[39m: op_handle\n\u001b[32m    576\u001b[39m             \u001b[38;5;129;01mand\u001b[39;00m \u001b[38;5;28mself\u001b[39m.guid_to_hex_id(op_handle.operationId.guid),\n\u001b[32m    577\u001b[39m             \u001b[33m\"\u001b[39m\u001b[33mdiagnostic-info\u001b[39m\u001b[33m\"\u001b[39m: get_operations_resp.diagnosticInfo,\n\u001b[32m    578\u001b[39m         },\n\u001b[32m    579\u001b[39m     )\n\u001b[32m    580\u001b[39m \u001b[38;5;28;01melse\u001b[39;00m:\n",
      "\u001b[31mServerOperationError\u001b[39m: [TRAILING_COMMA_IN_SELECT] Trailing comma detected in SELECT clause. Remove the trailing comma before the FROM clause. SQLSTATE: 42601; line 7 pos 0",
      "\nThe above exception was the direct cause of the following exception:\n",
      "\u001b[31mDatabaseError\u001b[39m                             Traceback (most recent call last)",
      "\u001b[36mCell\u001b[39m\u001b[36m \u001b[39m\u001b[32mIn[21]\u001b[39m\u001b[32m, line 15\u001b[39m\n\u001b[32m      1\u001b[39m query = \u001b[33m\"\"\"\u001b[39m\n\u001b[32m      2\u001b[39m \u001b[33mSELECT\u001b[39m\n\u001b[32m      3\u001b[39m \u001b[33m    output_material_spec_number,\u001b[39m\n\u001b[32m   (...)\u001b[39m\u001b[32m     12\u001b[39m \u001b[33m    OR array_contains(produced_by_plant_num, \u001b[39m\u001b[33m\"\u001b[39m\u001b[33m714\u001b[39m\u001b[33m\"\u001b[39m\u001b[33m)\u001b[39m\n\u001b[32m     13\u001b[39m \u001b[33m\"\"\"\u001b[39m\n\u001b[32m---> \u001b[39m\u001b[32m15\u001b[39m plm_spec_map = \u001b[43mpl\u001b[49m\u001b[43m.\u001b[49m\u001b[43mread_database\u001b[49m\u001b[43m(\u001b[49m\u001b[43mquery\u001b[49m\u001b[43m,\u001b[49m\u001b[43m \u001b[49m\u001b[43mengine\u001b[49m\u001b[43m)\u001b[49m\n",
      "\u001b[36mFile \u001b[39m\u001b[32m~/code/labs-mfg-capabilities/.venv/lib/python3.13/site-packages/polars/io/database/functions.py:249\u001b[39m, in \u001b[36mread_database\u001b[39m\u001b[34m(query, connection, iter_batches, batch_size, schema_overrides, infer_schema_length, execute_options)\u001b[39m\n\u001b[32m    247\u001b[39m \u001b[38;5;66;03m# return frame from arbitrary connections using the executor abstraction\u001b[39;00m\n\u001b[32m    248\u001b[39m \u001b[38;5;28;01mwith\u001b[39;00m ConnectionExecutor(connection) \u001b[38;5;28;01mas\u001b[39;00m cx:\n\u001b[32m--> \u001b[39m\u001b[32m249\u001b[39m     \u001b[38;5;28;01mreturn\u001b[39;00m \u001b[43mcx\u001b[49m\u001b[43m.\u001b[49m\u001b[43mexecute\u001b[49m\u001b[43m(\u001b[49m\n\u001b[32m    250\u001b[39m \u001b[43m        \u001b[49m\u001b[43mquery\u001b[49m\u001b[43m=\u001b[49m\u001b[43mquery\u001b[49m\u001b[43m,\u001b[49m\n\u001b[32m    251\u001b[39m \u001b[43m        \u001b[49m\u001b[43moptions\u001b[49m\u001b[43m=\u001b[49m\u001b[43mexecute_options\u001b[49m\u001b[43m,\u001b[49m\n\u001b[32m    252\u001b[39m \u001b[43m    \u001b[49m\u001b[43m)\u001b[49m.to_polars(\n\u001b[32m    253\u001b[39m         batch_size=batch_size,\n\u001b[32m    254\u001b[39m         iter_batches=iter_batches,\n\u001b[32m    255\u001b[39m         schema_overrides=schema_overrides,\n\u001b[32m    256\u001b[39m         infer_schema_length=infer_schema_length,\n\u001b[32m    257\u001b[39m     )\n",
      "\u001b[36mFile \u001b[39m\u001b[32m~/code/labs-mfg-capabilities/.venv/lib/python3.13/site-packages/polars/io/database/_executor.py:501\u001b[39m, in \u001b[36mConnectionExecutor.execute\u001b[39m\u001b[34m(self, query, options, select_queries_only)\u001b[39m\n\u001b[32m    495\u001b[39m     params = {}  \u001b[38;5;66;03m# type: ignore[assignment]\u001b[39;00m\n\u001b[32m    497\u001b[39m \u001b[38;5;28;01mif\u001b[39;00m \u001b[38;5;129;01mnot\u001b[39;00m options \u001b[38;5;129;01mor\u001b[39;00m \u001b[38;5;28many\u001b[39m(\n\u001b[32m    498\u001b[39m     p.kind \u001b[38;5;129;01min\u001b[39;00m (Parameter.KEYWORD_ONLY, Parameter.POSITIONAL_OR_KEYWORD)\n\u001b[32m    499\u001b[39m     \u001b[38;5;28;01mfor\u001b[39;00m p \u001b[38;5;129;01min\u001b[39;00m params.values()\n\u001b[32m    500\u001b[39m ):\n\u001b[32m--> \u001b[39m\u001b[32m501\u001b[39m     result = \u001b[43mcursor_execute\u001b[49m\u001b[43m(\u001b[49m\u001b[43mquery\u001b[49m\u001b[43m,\u001b[49m\u001b[43m \u001b[49m\u001b[43m*\u001b[49m\u001b[43m*\u001b[49m\u001b[43moptions\u001b[49m\u001b[43m)\u001b[49m\n\u001b[32m    502\u001b[39m \u001b[38;5;28;01melse\u001b[39;00m:\n\u001b[32m    503\u001b[39m     positional_options = (\n\u001b[32m    504\u001b[39m         options[o] \u001b[38;5;28;01mfor\u001b[39;00m o \u001b[38;5;129;01min\u001b[39;00m (params \u001b[38;5;129;01mor\u001b[39;00m options) \u001b[38;5;28;01mif\u001b[39;00m (\u001b[38;5;129;01mnot\u001b[39;00m options \u001b[38;5;129;01mor\u001b[39;00m o \u001b[38;5;129;01min\u001b[39;00m options)\n\u001b[32m    505\u001b[39m     )\n",
      "\u001b[36mFile \u001b[39m\u001b[32m~/code/labs-mfg-capabilities/.venv/lib/python3.13/site-packages/sqlalchemy/engine/base.py:1415\u001b[39m, in \u001b[36mConnection.execute\u001b[39m\u001b[34m(self, statement, parameters, execution_options)\u001b[39m\n\u001b[32m   1413\u001b[39m     \u001b[38;5;28;01mraise\u001b[39;00m exc.ObjectNotExecutableError(statement) \u001b[38;5;28;01mfrom\u001b[39;00m\u001b[38;5;250m \u001b[39m\u001b[34;01merr\u001b[39;00m\n\u001b[32m   1414\u001b[39m \u001b[38;5;28;01melse\u001b[39;00m:\n\u001b[32m-> \u001b[39m\u001b[32m1415\u001b[39m     \u001b[38;5;28;01mreturn\u001b[39;00m \u001b[43mmeth\u001b[49m\u001b[43m(\u001b[49m\n\u001b[32m   1416\u001b[39m \u001b[43m        \u001b[49m\u001b[38;5;28;43mself\u001b[39;49m\u001b[43m,\u001b[49m\n\u001b[32m   1417\u001b[39m \u001b[43m        \u001b[49m\u001b[43mdistilled_parameters\u001b[49m\u001b[43m,\u001b[49m\n\u001b[32m   1418\u001b[39m \u001b[43m        \u001b[49m\u001b[43mexecution_options\u001b[49m\u001b[43m \u001b[49m\u001b[38;5;129;43;01mor\u001b[39;49;00m\u001b[43m \u001b[49m\u001b[43mNO_OPTIONS\u001b[49m\u001b[43m,\u001b[49m\n\u001b[32m   1419\u001b[39m \u001b[43m    \u001b[49m\u001b[43m)\u001b[49m\n",
      "\u001b[36mFile \u001b[39m\u001b[32m~/code/labs-mfg-capabilities/.venv/lib/python3.13/site-packages/sqlalchemy/sql/elements.py:523\u001b[39m, in \u001b[36mClauseElement._execute_on_connection\u001b[39m\u001b[34m(self, connection, distilled_params, execution_options)\u001b[39m\n\u001b[32m    521\u001b[39m     \u001b[38;5;28;01mif\u001b[39;00m TYPE_CHECKING:\n\u001b[32m    522\u001b[39m         \u001b[38;5;28;01massert\u001b[39;00m \u001b[38;5;28misinstance\u001b[39m(\u001b[38;5;28mself\u001b[39m, Executable)\n\u001b[32m--> \u001b[39m\u001b[32m523\u001b[39m     \u001b[38;5;28;01mreturn\u001b[39;00m \u001b[43mconnection\u001b[49m\u001b[43m.\u001b[49m\u001b[43m_execute_clauseelement\u001b[49m\u001b[43m(\u001b[49m\n\u001b[32m    524\u001b[39m \u001b[43m        \u001b[49m\u001b[38;5;28;43mself\u001b[39;49m\u001b[43m,\u001b[49m\u001b[43m \u001b[49m\u001b[43mdistilled_params\u001b[49m\u001b[43m,\u001b[49m\u001b[43m \u001b[49m\u001b[43mexecution_options\u001b[49m\n\u001b[32m    525\u001b[39m \u001b[43m    \u001b[49m\u001b[43m)\u001b[49m\n\u001b[32m    526\u001b[39m \u001b[38;5;28;01melse\u001b[39;00m:\n\u001b[32m    527\u001b[39m     \u001b[38;5;28;01mraise\u001b[39;00m exc.ObjectNotExecutableError(\u001b[38;5;28mself\u001b[39m)\n",
      "\u001b[36mFile \u001b[39m\u001b[32m~/code/labs-mfg-capabilities/.venv/lib/python3.13/site-packages/sqlalchemy/engine/base.py:1637\u001b[39m, in \u001b[36mConnection._execute_clauseelement\u001b[39m\u001b[34m(self, elem, distilled_parameters, execution_options)\u001b[39m\n\u001b[32m   1625\u001b[39m compiled_cache: Optional[CompiledCacheType] = execution_options.get(\n\u001b[32m   1626\u001b[39m     \u001b[33m\"\u001b[39m\u001b[33mcompiled_cache\u001b[39m\u001b[33m\"\u001b[39m, \u001b[38;5;28mself\u001b[39m.engine._compiled_cache\n\u001b[32m   1627\u001b[39m )\n\u001b[32m   1629\u001b[39m compiled_sql, extracted_params, cache_hit = elem._compile_w_cache(\n\u001b[32m   1630\u001b[39m     dialect=dialect,\n\u001b[32m   1631\u001b[39m     compiled_cache=compiled_cache,\n\u001b[32m   (...)\u001b[39m\u001b[32m   1635\u001b[39m     linting=\u001b[38;5;28mself\u001b[39m.dialect.compiler_linting | compiler.WARN_LINTING,\n\u001b[32m   1636\u001b[39m )\n\u001b[32m-> \u001b[39m\u001b[32m1637\u001b[39m ret = \u001b[38;5;28;43mself\u001b[39;49m\u001b[43m.\u001b[49m\u001b[43m_execute_context\u001b[49m\u001b[43m(\u001b[49m\n\u001b[32m   1638\u001b[39m \u001b[43m    \u001b[49m\u001b[43mdialect\u001b[49m\u001b[43m,\u001b[49m\n\u001b[32m   1639\u001b[39m \u001b[43m    \u001b[49m\u001b[43mdialect\u001b[49m\u001b[43m.\u001b[49m\u001b[43mexecution_ctx_cls\u001b[49m\u001b[43m.\u001b[49m\u001b[43m_init_compiled\u001b[49m\u001b[43m,\u001b[49m\n\u001b[32m   1640\u001b[39m \u001b[43m    \u001b[49m\u001b[43mcompiled_sql\u001b[49m\u001b[43m,\u001b[49m\n\u001b[32m   1641\u001b[39m \u001b[43m    \u001b[49m\u001b[43mdistilled_parameters\u001b[49m\u001b[43m,\u001b[49m\n\u001b[32m   1642\u001b[39m \u001b[43m    \u001b[49m\u001b[43mexecution_options\u001b[49m\u001b[43m,\u001b[49m\n\u001b[32m   1643\u001b[39m \u001b[43m    \u001b[49m\u001b[43mcompiled_sql\u001b[49m\u001b[43m,\u001b[49m\n\u001b[32m   1644\u001b[39m \u001b[43m    \u001b[49m\u001b[43mdistilled_parameters\u001b[49m\u001b[43m,\u001b[49m\n\u001b[32m   1645\u001b[39m \u001b[43m    \u001b[49m\u001b[43melem\u001b[49m\u001b[43m,\u001b[49m\n\u001b[32m   1646\u001b[39m \u001b[43m    \u001b[49m\u001b[43mextracted_params\u001b[49m\u001b[43m,\u001b[49m\n\u001b[32m   1647\u001b[39m \u001b[43m    \u001b[49m\u001b[43mcache_hit\u001b[49m\u001b[43m=\u001b[49m\u001b[43mcache_hit\u001b[49m\u001b[43m,\u001b[49m\n\u001b[32m   1648\u001b[39m \u001b[43m\u001b[49m\u001b[43m)\u001b[49m\n\u001b[32m   1649\u001b[39m \u001b[38;5;28;01mif\u001b[39;00m has_events:\n\u001b[32m   1650\u001b[39m     \u001b[38;5;28mself\u001b[39m.dispatch.after_execute(\n\u001b[32m   1651\u001b[39m         \u001b[38;5;28mself\u001b[39m,\n\u001b[32m   1652\u001b[39m         elem,\n\u001b[32m   (...)\u001b[39m\u001b[32m   1656\u001b[39m         ret,\n\u001b[32m   1657\u001b[39m     )\n",
      "\u001b[36mFile \u001b[39m\u001b[32m~/code/labs-mfg-capabilities/.venv/lib/python3.13/site-packages/sqlalchemy/engine/base.py:1842\u001b[39m, in \u001b[36mConnection._execute_context\u001b[39m\u001b[34m(self, dialect, constructor, statement, parameters, execution_options, *args, **kw)\u001b[39m\n\u001b[32m   1840\u001b[39m     \u001b[38;5;28;01mreturn\u001b[39;00m \u001b[38;5;28mself\u001b[39m._exec_insertmany_context(dialect, context)\n\u001b[32m   1841\u001b[39m \u001b[38;5;28;01melse\u001b[39;00m:\n\u001b[32m-> \u001b[39m\u001b[32m1842\u001b[39m     \u001b[38;5;28;01mreturn\u001b[39;00m \u001b[38;5;28;43mself\u001b[39;49m\u001b[43m.\u001b[49m\u001b[43m_exec_single_context\u001b[49m\u001b[43m(\u001b[49m\n\u001b[32m   1843\u001b[39m \u001b[43m        \u001b[49m\u001b[43mdialect\u001b[49m\u001b[43m,\u001b[49m\u001b[43m \u001b[49m\u001b[43mcontext\u001b[49m\u001b[43m,\u001b[49m\u001b[43m \u001b[49m\u001b[43mstatement\u001b[49m\u001b[43m,\u001b[49m\u001b[43m \u001b[49m\u001b[43mparameters\u001b[49m\n\u001b[32m   1844\u001b[39m \u001b[43m    \u001b[49m\u001b[43m)\u001b[49m\n",
      "\u001b[36mFile \u001b[39m\u001b[32m~/code/labs-mfg-capabilities/.venv/lib/python3.13/site-packages/sqlalchemy/engine/base.py:1982\u001b[39m, in \u001b[36mConnection._exec_single_context\u001b[39m\u001b[34m(self, dialect, context, statement, parameters)\u001b[39m\n\u001b[32m   1979\u001b[39m     result = context._setup_result_proxy()\n\u001b[32m   1981\u001b[39m \u001b[38;5;28;01mexcept\u001b[39;00m \u001b[38;5;167;01mBaseException\u001b[39;00m \u001b[38;5;28;01mas\u001b[39;00m e:\n\u001b[32m-> \u001b[39m\u001b[32m1982\u001b[39m     \u001b[38;5;28;43mself\u001b[39;49m\u001b[43m.\u001b[49m\u001b[43m_handle_dbapi_exception\u001b[49m\u001b[43m(\u001b[49m\n\u001b[32m   1983\u001b[39m \u001b[43m        \u001b[49m\u001b[43me\u001b[49m\u001b[43m,\u001b[49m\u001b[43m \u001b[49m\u001b[43mstr_statement\u001b[49m\u001b[43m,\u001b[49m\u001b[43m \u001b[49m\u001b[43meffective_parameters\u001b[49m\u001b[43m,\u001b[49m\u001b[43m \u001b[49m\u001b[43mcursor\u001b[49m\u001b[43m,\u001b[49m\u001b[43m \u001b[49m\u001b[43mcontext\u001b[49m\n\u001b[32m   1984\u001b[39m \u001b[43m    \u001b[49m\u001b[43m)\u001b[49m\n\u001b[32m   1986\u001b[39m \u001b[38;5;28;01mreturn\u001b[39;00m result\n",
      "\u001b[36mFile \u001b[39m\u001b[32m~/code/labs-mfg-capabilities/.venv/lib/python3.13/site-packages/sqlalchemy/engine/base.py:2351\u001b[39m, in \u001b[36mConnection._handle_dbapi_exception\u001b[39m\u001b[34m(self, e, statement, parameters, cursor, context, is_sub_exec)\u001b[39m\n\u001b[32m   2349\u001b[39m \u001b[38;5;28;01melif\u001b[39;00m should_wrap:\n\u001b[32m   2350\u001b[39m     \u001b[38;5;28;01massert\u001b[39;00m sqlalchemy_exception \u001b[38;5;129;01mis\u001b[39;00m \u001b[38;5;129;01mnot\u001b[39;00m \u001b[38;5;28;01mNone\u001b[39;00m\n\u001b[32m-> \u001b[39m\u001b[32m2351\u001b[39m     \u001b[38;5;28;01mraise\u001b[39;00m sqlalchemy_exception.with_traceback(exc_info[\u001b[32m2\u001b[39m]) \u001b[38;5;28;01mfrom\u001b[39;00m\u001b[38;5;250m \u001b[39m\u001b[34;01me\u001b[39;00m\n\u001b[32m   2352\u001b[39m \u001b[38;5;28;01melse\u001b[39;00m:\n\u001b[32m   2353\u001b[39m     \u001b[38;5;28;01massert\u001b[39;00m exc_info[\u001b[32m1\u001b[39m] \u001b[38;5;129;01mis\u001b[39;00m \u001b[38;5;129;01mnot\u001b[39;00m \u001b[38;5;28;01mNone\u001b[39;00m\n",
      "\u001b[36mFile \u001b[39m\u001b[32m~/code/labs-mfg-capabilities/.venv/lib/python3.13/site-packages/sqlalchemy/engine/base.py:1963\u001b[39m, in \u001b[36mConnection._exec_single_context\u001b[39m\u001b[34m(self, dialect, context, statement, parameters)\u001b[39m\n\u001b[32m   1961\u001b[39m                 \u001b[38;5;28;01mbreak\u001b[39;00m\n\u001b[32m   1962\u001b[39m     \u001b[38;5;28;01mif\u001b[39;00m \u001b[38;5;129;01mnot\u001b[39;00m evt_handled:\n\u001b[32m-> \u001b[39m\u001b[32m1963\u001b[39m         \u001b[38;5;28;43mself\u001b[39;49m\u001b[43m.\u001b[49m\u001b[43mdialect\u001b[49m\u001b[43m.\u001b[49m\u001b[43mdo_execute\u001b[49m\u001b[43m(\u001b[49m\n\u001b[32m   1964\u001b[39m \u001b[43m            \u001b[49m\u001b[43mcursor\u001b[49m\u001b[43m,\u001b[49m\u001b[43m \u001b[49m\u001b[43mstr_statement\u001b[49m\u001b[43m,\u001b[49m\u001b[43m \u001b[49m\u001b[43meffective_parameters\u001b[49m\u001b[43m,\u001b[49m\u001b[43m \u001b[49m\u001b[43mcontext\u001b[49m\n\u001b[32m   1965\u001b[39m \u001b[43m        \u001b[49m\u001b[43m)\u001b[49m\n\u001b[32m   1967\u001b[39m \u001b[38;5;28;01mif\u001b[39;00m \u001b[38;5;28mself\u001b[39m._has_events \u001b[38;5;129;01mor\u001b[39;00m \u001b[38;5;28mself\u001b[39m.engine._has_events:\n\u001b[32m   1968\u001b[39m     \u001b[38;5;28mself\u001b[39m.dispatch.after_cursor_execute(\n\u001b[32m   1969\u001b[39m         \u001b[38;5;28mself\u001b[39m,\n\u001b[32m   1970\u001b[39m         cursor,\n\u001b[32m   (...)\u001b[39m\u001b[32m   1974\u001b[39m         context.executemany,\n\u001b[32m   1975\u001b[39m     )\n",
      "\u001b[36mFile \u001b[39m\u001b[32m~/code/labs-mfg-capabilities/.venv/lib/python3.13/site-packages/sqlalchemy/engine/default.py:943\u001b[39m, in \u001b[36mDefaultDialect.do_execute\u001b[39m\u001b[34m(self, cursor, statement, parameters, context)\u001b[39m\n\u001b[32m    942\u001b[39m \u001b[38;5;28;01mdef\u001b[39;00m\u001b[38;5;250m \u001b[39m\u001b[34mdo_execute\u001b[39m(\u001b[38;5;28mself\u001b[39m, cursor, statement, parameters, context=\u001b[38;5;28;01mNone\u001b[39;00m):\n\u001b[32m--> \u001b[39m\u001b[32m943\u001b[39m     \u001b[43mcursor\u001b[49m\u001b[43m.\u001b[49m\u001b[43mexecute\u001b[49m\u001b[43m(\u001b[49m\u001b[43mstatement\u001b[49m\u001b[43m,\u001b[49m\u001b[43m \u001b[49m\u001b[43mparameters\u001b[49m\u001b[43m)\u001b[49m\n",
      "\u001b[36mFile \u001b[39m\u001b[32m~/code/labs-mfg-capabilities/.venv/lib/python3.13/site-packages/databricks/sql/client.py:812\u001b[39m, in \u001b[36mCursor.execute\u001b[39m\u001b[34m(self, operation, parameters, enforce_embedded_schema_correctness)\u001b[39m\n\u001b[32m    810\u001b[39m \u001b[38;5;28mself\u001b[39m._check_not_closed()\n\u001b[32m    811\u001b[39m \u001b[38;5;28mself\u001b[39m._close_and_clear_active_result_set()\n\u001b[32m--> \u001b[39m\u001b[32m812\u001b[39m execute_response = \u001b[38;5;28;43mself\u001b[39;49m\u001b[43m.\u001b[49m\u001b[43mthrift_backend\u001b[49m\u001b[43m.\u001b[49m\u001b[43mexecute_command\u001b[49m\u001b[43m(\u001b[49m\n\u001b[32m    813\u001b[39m \u001b[43m    \u001b[49m\u001b[43moperation\u001b[49m\u001b[43m=\u001b[49m\u001b[43mprepared_operation\u001b[49m\u001b[43m,\u001b[49m\n\u001b[32m    814\u001b[39m \u001b[43m    \u001b[49m\u001b[43msession_handle\u001b[49m\u001b[43m=\u001b[49m\u001b[38;5;28;43mself\u001b[39;49m\u001b[43m.\u001b[49m\u001b[43mconnection\u001b[49m\u001b[43m.\u001b[49m\u001b[43m_session_handle\u001b[49m\u001b[43m,\u001b[49m\n\u001b[32m    815\u001b[39m \u001b[43m    \u001b[49m\u001b[43mmax_rows\u001b[49m\u001b[43m=\u001b[49m\u001b[38;5;28;43mself\u001b[39;49m\u001b[43m.\u001b[49m\u001b[43marraysize\u001b[49m\u001b[43m,\u001b[49m\n\u001b[32m    816\u001b[39m \u001b[43m    \u001b[49m\u001b[43mmax_bytes\u001b[49m\u001b[43m=\u001b[49m\u001b[38;5;28;43mself\u001b[39;49m\u001b[43m.\u001b[49m\u001b[43mbuffer_size_bytes\u001b[49m\u001b[43m,\u001b[49m\n\u001b[32m    817\u001b[39m \u001b[43m    \u001b[49m\u001b[43mlz4_compression\u001b[49m\u001b[43m=\u001b[49m\u001b[38;5;28;43mself\u001b[39;49m\u001b[43m.\u001b[49m\u001b[43mconnection\u001b[49m\u001b[43m.\u001b[49m\u001b[43mlz4_compression\u001b[49m\u001b[43m,\u001b[49m\n\u001b[32m    818\u001b[39m \u001b[43m    \u001b[49m\u001b[43mcursor\u001b[49m\u001b[43m=\u001b[49m\u001b[38;5;28;43mself\u001b[39;49m\u001b[43m,\u001b[49m\n\u001b[32m    819\u001b[39m \u001b[43m    \u001b[49m\u001b[43muse_cloud_fetch\u001b[49m\u001b[43m=\u001b[49m\u001b[38;5;28;43mself\u001b[39;49m\u001b[43m.\u001b[49m\u001b[43mconnection\u001b[49m\u001b[43m.\u001b[49m\u001b[43muse_cloud_fetch\u001b[49m\u001b[43m,\u001b[49m\n\u001b[32m    820\u001b[39m \u001b[43m    \u001b[49m\u001b[43mparameters\u001b[49m\u001b[43m=\u001b[49m\u001b[43mprepared_params\u001b[49m\u001b[43m,\u001b[49m\n\u001b[32m    821\u001b[39m \u001b[43m    \u001b[49m\u001b[43masync_op\u001b[49m\u001b[43m=\u001b[49m\u001b[38;5;28;43;01mFalse\u001b[39;49;00m\u001b[43m,\u001b[49m\n\u001b[32m    822\u001b[39m \u001b[43m    \u001b[49m\u001b[43menforce_embedded_schema_correctness\u001b[49m\u001b[43m=\u001b[49m\u001b[43menforce_embedded_schema_correctness\u001b[49m\u001b[43m,\u001b[49m\n\u001b[32m    823\u001b[39m \u001b[43m\u001b[49m\u001b[43m)\u001b[49m\n\u001b[32m    824\u001b[39m \u001b[38;5;28mself\u001b[39m.active_result_set = ResultSet(\n\u001b[32m    825\u001b[39m     \u001b[38;5;28mself\u001b[39m.connection,\n\u001b[32m    826\u001b[39m     execute_response,\n\u001b[32m   (...)\u001b[39m\u001b[32m    830\u001b[39m     \u001b[38;5;28mself\u001b[39m.connection.use_cloud_fetch,\n\u001b[32m    831\u001b[39m )\n\u001b[32m    833\u001b[39m \u001b[38;5;28;01mif\u001b[39;00m execute_response.is_staging_operation:\n",
      "\u001b[36mFile \u001b[39m\u001b[32m~/code/labs-mfg-capabilities/.venv/lib/python3.13/site-packages/databricks/sql/thrift_backend.py:926\u001b[39m, in \u001b[36mThriftBackend.execute_command\u001b[39m\u001b[34m(self, operation, session_handle, max_rows, max_bytes, lz4_compression, cursor, use_cloud_fetch, parameters, async_op, enforce_embedded_schema_correctness)\u001b[39m\n\u001b[32m    924\u001b[39m     \u001b[38;5;28mself\u001b[39m._handle_execute_response_async(resp, cursor)\n\u001b[32m    925\u001b[39m \u001b[38;5;28;01melse\u001b[39;00m:\n\u001b[32m--> \u001b[39m\u001b[32m926\u001b[39m     \u001b[38;5;28;01mreturn\u001b[39;00m \u001b[38;5;28;43mself\u001b[39;49m\u001b[43m.\u001b[49m\u001b[43m_handle_execute_response\u001b[49m\u001b[43m(\u001b[49m\u001b[43mresp\u001b[49m\u001b[43m,\u001b[49m\u001b[43m \u001b[49m\u001b[43mcursor\u001b[49m\u001b[43m)\u001b[49m\n",
      "\u001b[36mFile \u001b[39m\u001b[32m~/code/labs-mfg-capabilities/.venv/lib/python3.13/site-packages/databricks/sql/thrift_backend.py:1018\u001b[39m, in \u001b[36mThriftBackend._handle_execute_response\u001b[39m\u001b[34m(self, resp, cursor)\u001b[39m\n\u001b[32m   1015\u001b[39m cursor.active_op_handle = resp.operationHandle\n\u001b[32m   1016\u001b[39m \u001b[38;5;28mself\u001b[39m._check_direct_results_for_error(resp.directResults)\n\u001b[32m-> \u001b[39m\u001b[32m1018\u001b[39m final_operation_state = \u001b[38;5;28;43mself\u001b[39;49m\u001b[43m.\u001b[49m\u001b[43m_wait_until_command_done\u001b[49m\u001b[43m(\u001b[49m\n\u001b[32m   1019\u001b[39m \u001b[43m    \u001b[49m\u001b[43mresp\u001b[49m\u001b[43m.\u001b[49m\u001b[43moperationHandle\u001b[49m\u001b[43m,\u001b[49m\n\u001b[32m   1020\u001b[39m \u001b[43m    \u001b[49m\u001b[43mresp\u001b[49m\u001b[43m.\u001b[49m\u001b[43mdirectResults\u001b[49m\u001b[43m \u001b[49m\u001b[38;5;129;43;01mand\u001b[39;49;00m\u001b[43m \u001b[49m\u001b[43mresp\u001b[49m\u001b[43m.\u001b[49m\u001b[43mdirectResults\u001b[49m\u001b[43m.\u001b[49m\u001b[43moperationStatus\u001b[49m\u001b[43m,\u001b[49m\n\u001b[32m   1021\u001b[39m \u001b[43m\u001b[49m\u001b[43m)\u001b[49m\n\u001b[32m   1023\u001b[39m \u001b[38;5;28;01mreturn\u001b[39;00m \u001b[38;5;28mself\u001b[39m._results_message_to_execute_response(resp, final_operation_state)\n",
      "\u001b[36mFile \u001b[39m\u001b[32m~/code/labs-mfg-capabilities/.venv/lib/python3.13/site-packages/databricks/sql/thrift_backend.py:834\u001b[39m, in \u001b[36mThriftBackend._wait_until_command_done\u001b[39m\u001b[34m(self, op_handle, initial_operation_status_resp)\u001b[39m\n\u001b[32m    832\u001b[39m \u001b[38;5;28;01mdef\u001b[39;00m\u001b[38;5;250m \u001b[39m\u001b[34m_wait_until_command_done\u001b[39m(\u001b[38;5;28mself\u001b[39m, op_handle, initial_operation_status_resp):\n\u001b[32m    833\u001b[39m     \u001b[38;5;28;01mif\u001b[39;00m initial_operation_status_resp:\n\u001b[32m--> \u001b[39m\u001b[32m834\u001b[39m         \u001b[38;5;28;43mself\u001b[39;49m\u001b[43m.\u001b[49m\u001b[43m_check_command_not_in_error_or_closed_state\u001b[49m\u001b[43m(\u001b[49m\n\u001b[32m    835\u001b[39m \u001b[43m            \u001b[49m\u001b[43mop_handle\u001b[49m\u001b[43m,\u001b[49m\u001b[43m \u001b[49m\u001b[43minitial_operation_status_resp\u001b[49m\n\u001b[32m    836\u001b[39m \u001b[43m        \u001b[49m\u001b[43m)\u001b[49m\n\u001b[32m    837\u001b[39m     operation_state = (\n\u001b[32m    838\u001b[39m         initial_operation_status_resp\n\u001b[32m    839\u001b[39m         \u001b[38;5;129;01mand\u001b[39;00m initial_operation_status_resp.operationState\n\u001b[32m    840\u001b[39m     )\n\u001b[32m    841\u001b[39m     \u001b[38;5;28;01mwhile\u001b[39;00m \u001b[38;5;129;01mnot\u001b[39;00m operation_state \u001b[38;5;129;01mor\u001b[39;00m operation_state \u001b[38;5;129;01min\u001b[39;00m [\n\u001b[32m    842\u001b[39m         ttypes.TOperationState.RUNNING_STATE,\n\u001b[32m    843\u001b[39m         ttypes.TOperationState.PENDING_STATE,\n\u001b[32m    844\u001b[39m     ]:\n",
      "\u001b[36mFile \u001b[39m\u001b[32m~/code/labs-mfg-capabilities/.venv/lib/python3.13/site-packages/databricks/sql/thrift_backend.py:572\u001b[39m, in \u001b[36mThriftBackend._check_command_not_in_error_or_closed_state\u001b[39m\u001b[34m(self, op_handle, get_operations_resp)\u001b[39m\n\u001b[32m    570\u001b[39m \u001b[38;5;28;01mif\u001b[39;00m get_operations_resp.operationState == ttypes.TOperationState.ERROR_STATE:\n\u001b[32m    571\u001b[39m     \u001b[38;5;28;01mif\u001b[39;00m get_operations_resp.displayMessage:\n\u001b[32m--> \u001b[39m\u001b[32m572\u001b[39m         \u001b[38;5;28;01mraise\u001b[39;00m ServerOperationError(\n\u001b[32m    573\u001b[39m             get_operations_resp.displayMessage,\n\u001b[32m    574\u001b[39m             {\n\u001b[32m    575\u001b[39m                 \u001b[33m\"\u001b[39m\u001b[33moperation-id\u001b[39m\u001b[33m\"\u001b[39m: op_handle\n\u001b[32m    576\u001b[39m                 \u001b[38;5;129;01mand\u001b[39;00m \u001b[38;5;28mself\u001b[39m.guid_to_hex_id(op_handle.operationId.guid),\n\u001b[32m    577\u001b[39m                 \u001b[33m\"\u001b[39m\u001b[33mdiagnostic-info\u001b[39m\u001b[33m\"\u001b[39m: get_operations_resp.diagnosticInfo,\n\u001b[32m    578\u001b[39m             },\n\u001b[32m    579\u001b[39m         )\n\u001b[32m    580\u001b[39m     \u001b[38;5;28;01melse\u001b[39;00m:\n\u001b[32m    581\u001b[39m         \u001b[38;5;28;01mraise\u001b[39;00m ServerOperationError(\n\u001b[32m    582\u001b[39m             get_operations_resp.errorMessage,\n\u001b[32m    583\u001b[39m             {\n\u001b[32m   (...)\u001b[39m\u001b[32m    587\u001b[39m             },\n\u001b[32m    588\u001b[39m         )\n",
      "\u001b[31mDatabaseError\u001b[39m: (databricks.sql.exc.ServerOperationError) [TRAILING_COMMA_IN_SELECT] Trailing comma detected in SELECT clause. Remove the trailing comma before the FROM clause. SQLSTATE: 42601; line 7 pos 0\n[SQL: \nSELECT\n    output_material_spec_number,\n    trade_spec_number,\n    trade_spec_status,\n    material_spec_status,\nFROM\n    plm_spec_map_trade_output_formulation_silver\nWHERE\n    array_contains(produced_by_plant_num, \"049\")\n    OR array_contains(produced_by_plant_num, \"102\")\n    OR array_contains(produced_by_plant_num, \"714\")\n]\n(Background on this error at: https://sqlalche.me/e/20/4xp6)"
     ]
    }
   ],
   "source": [
    "\n",
    "query = \"\"\"\n",
    "SELECT\n",
    "    output_material_spec_number,\n",
    "    trade_spec_number,\n",
    "    trade_spec_status,\n",
    "    material_spec_status,\n",
    "FROM\n",
    "    plm_spec_map_trade_output_formulation_silver\n",
    "WHERE\n",
    "    array_contains(produced_by_plant_num, \"049\")\n",
    "    OR array_contains(produced_by_plant_num, \"102\")\n",
    "    OR array_contains(produced_by_plant_num, \"714\")\n",
    "\"\"\"\n",
    "\n",
    "plm_spec_map = pl.read_database(query, engine)"
   ]
  },
  {
   "cell_type": "code",
   "execution_count": 20,
   "id": "30822be7",
   "metadata": {},
   "outputs": [
    {
     "data": {
      "text/html": [
       "<div><style>\n",
       ".dataframe > thead > tr,\n",
       ".dataframe > tbody > tr {\n",
       "  text-align: right;\n",
       "  white-space: pre-wrap;\n",
       "}\n",
       "</style>\n",
       "<small>shape: (3_153, 1)</small><table border=\"1\" class=\"dataframe\"><thead><tr><th>trade_spec_number</th></tr><tr><td>str</td></tr></thead><tbody><tr><td>&quot;5003986-001&quot;</td></tr><tr><td>&quot;5003745-001&quot;</td></tr><tr><td>&quot;5004051-001&quot;</td></tr><tr><td>&quot;5004052-001&quot;</td></tr><tr><td>&quot;5004056-001&quot;</td></tr><tr><td>&quot;5004062-001&quot;</td></tr><tr><td>&quot;5003986-001&quot;</td></tr><tr><td>&quot;5003745-001&quot;</td></tr><tr><td>&quot;5004051-001&quot;</td></tr><tr><td>&quot;5004052-001&quot;</td></tr><tr><td>&hellip;</td></tr><tr><td>&quot;5169063-001&quot;</td></tr><tr><td>&quot;5173063-001&quot;</td></tr><tr><td>&quot;5174856-001&quot;</td></tr><tr><td>&quot;5176735-001&quot;</td></tr><tr><td>&quot;5175465-001&quot;</td></tr><tr><td>&quot;5175464-001&quot;</td></tr><tr><td>&quot;5176574-001&quot;</td></tr><tr><td>&quot;5176574-001&quot;</td></tr><tr><td>&quot;5176581-001&quot;</td></tr><tr><td>&quot;5178312-001&quot;</td></tr></tbody></table></div>"
      ],
      "text/plain": [
       "shape: (3_153, 1)\n",
       "┌───────────────────┐\n",
       "│ trade_spec_number │\n",
       "│ ---               │\n",
       "│ str               │\n",
       "╞═══════════════════╡\n",
       "│ 5003986-001       │\n",
       "│ 5003745-001       │\n",
       "│ 5004051-001       │\n",
       "│ 5004052-001       │\n",
       "│ 5004056-001       │\n",
       "│ 5004062-001       │\n",
       "│ 5003986-001       │\n",
       "│ 5003745-001       │\n",
       "│ 5004051-001       │\n",
       "│ 5004052-001       │\n",
       "│ …                 │\n",
       "│ 5169063-001       │\n",
       "│ 5173063-001       │\n",
       "│ 5174856-001       │\n",
       "│ 5176735-001       │\n",
       "│ 5175465-001       │\n",
       "│ 5175464-001       │\n",
       "│ 5176574-001       │\n",
       "│ 5176574-001       │\n",
       "│ 5176581-001       │\n",
       "│ 5178312-001       │\n",
       "└───────────────────┘"
      ]
     },
     "metadata": {},
     "output_type": "display_data"
    }
   ],
   "source": [
    "display(plm_spec_map)"
   ]
  },
  {
   "cell_type": "code",
   "execution_count": null,
   "id": "b8ca49a9",
   "metadata": {},
   "outputs": [],
   "source": []
  }
 ],
 "metadata": {
  "kernelspec": {
   "display_name": ".venv",
   "language": "python",
   "name": "python3"
  },
  "language_info": {
   "codemirror_mode": {
    "name": "ipython",
    "version": 3
   },
   "file_extension": ".py",
   "mimetype": "text/x-python",
   "name": "python",
   "nbconvert_exporter": "python",
   "pygments_lexer": "ipython3",
   "version": "3.13.2"
  }
 },
 "nbformat": 4,
 "nbformat_minor": 5
}
