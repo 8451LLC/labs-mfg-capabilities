{
 "cells": [
  {
   "cell_type": "code",
   "execution_count": 1,
   "id": "ad38d583",
   "metadata": {},
   "outputs": [
    {
     "data": {
      "text/plain": [
       "polars.config.Config"
      ]
     },
     "execution_count": 1,
     "metadata": {},
     "output_type": "execute_result"
    }
   ],
   "source": [
    "import polars as pl\n",
    "\n",
    "from mfg_capabilities.config import config\n",
    "\n",
    "from mfg_capabilities.utils import get_sqlalchemy_engine\n",
    "\n",
    "CATALOG = \"manufacturing_dev\"\n",
    "SCHEMA = \"work_agent_barney\"\n",
    "\n",
    "\n",
    "pl.Config.set_tbl_rows(20)  # to set the number of rows displayed)\n",
    "# pl.Config.set_tbl_cols(10) # to set the number of columns\n",
    "# pl.Config.set_fmt_str_lengths(50) # to set the max string length displayed"
   ]
  },
  {
   "cell_type": "markdown",
   "id": "6daa09a5",
   "metadata": {},
   "source": [
    "## Load line and product data"
   ]
  },
  {
   "cell_type": "code",
   "execution_count": 2,
   "id": "cde5ece1",
   "metadata": {},
   "outputs": [
    {
     "data": {
      "text/html": [
       "<div><style>\n",
       ".dataframe > thead > tr,\n",
       ".dataframe > tbody > tr {\n",
       "  text-align: right;\n",
       "  white-space: pre-wrap;\n",
       "}\n",
       "</style>\n",
       "<small>shape: (934, 6)</small><table border=\"1\" class=\"dataframe\"><thead><tr><th>Year</th><th>Quarter</th><th>Plant Number</th><th>Plant Name</th><th>Line Name</th><th>Product</th></tr><tr><td>str</td><td>str</td><td>str</td><td>str</td><td>str</td><td>str</td></tr></thead><tbody><tr><td>&quot;2025&quot;</td><td>&quot;1&quot;</td><td>&quot;102&quot;</td><td>&quot;Country Oven Bakery&quot;</td><td>&quot;Bread Line&quot;</td><td>&quot;B19011 ITALIAN BREAD&quot;</td></tr><tr><td>&quot;2025&quot;</td><td>&quot;1&quot;</td><td>&quot;102&quot;</td><td>&quot;Country Oven Bakery&quot;</td><td>&quot;Bread Line&quot;</td><td>&quot;B19017 COUNTRY FRENCH&quot;</td></tr><tr><td>&quot;2025&quot;</td><td>&quot;1&quot;</td><td>&quot;102&quot;</td><td>&quot;Country Oven Bakery&quot;</td><td>&quot;Bread Line&quot;</td><td>&quot;B19019 SEEDED RYE BREAD&quot;</td></tr><tr><td>&quot;2025&quot;</td><td>&quot;1&quot;</td><td>&quot;102&quot;</td><td>&quot;Country Oven Bakery&quot;</td><td>&quot;Bread Line&quot;</td><td>&quot;B19068 PUMPERNICKEL BREAD&quot;</td></tr><tr><td>&quot;2025&quot;</td><td>&quot;1&quot;</td><td>&quot;102&quot;</td><td>&quot;Country Oven Bakery&quot;</td><td>&quot;Bread Line&quot;</td><td>&quot;B19100 FRENCH STIX&quot;</td></tr><tr><td>&quot;2025&quot;</td><td>&quot;1&quot;</td><td>&quot;102&quot;</td><td>&quot;Country Oven Bakery&quot;</td><td>&quot;Bread Line&quot;</td><td>&quot;B19180 SWEET ITALIAN STIX&quot;</td></tr><tr><td>&quot;2025&quot;</td><td>&quot;1&quot;</td><td>&quot;102&quot;</td><td>&quot;Country Oven Bakery&quot;</td><td>&quot;Bread Line&quot;</td><td>&quot;B19183 WHITE MOUNTAIN BREAD&quot;</td></tr><tr><td>&quot;2025&quot;</td><td>&quot;1&quot;</td><td>&quot;102&quot;</td><td>&quot;Country Oven Bakery&quot;</td><td>&quot;Bread Line&quot;</td><td>&quot;B19184 Wheat Mountain&quot;</td></tr><tr><td>&quot;2025&quot;</td><td>&quot;1&quot;</td><td>&quot;102&quot;</td><td>&quot;Country Oven Bakery&quot;</td><td>&quot;Bread Line&quot;</td><td>&quot;B19185 ROUND PUMPERNICKLE&quot;</td></tr><tr><td>&quot;2025&quot;</td><td>&quot;1&quot;</td><td>&quot;102&quot;</td><td>&quot;Country Oven Bakery&quot;</td><td>&quot;Bread Line&quot;</td><td>&quot;B19186 ROUND RYE&quot;</td></tr><tr><td>&hellip;</td><td>&hellip;</td><td>&hellip;</td><td>&hellip;</td><td>&hellip;</td><td>&hellip;</td></tr><tr><td>&quot;2024&quot;</td><td>&quot;4&quot;</td><td>&quot;714&quot;</td><td>&quot;RCK Foods&quot;</td><td>&quot;Soup Modern&quot;</td><td>&quot;HC Thai Coconut 15oz&quot;</td></tr><tr><td>&quot;2024&quot;</td><td>&quot;4&quot;</td><td>&quot;714&quot;</td><td>&quot;RCK Foods&quot;</td><td>&quot;Soup Modern&quot;</td><td>&quot;HC Thai Coconut 24oz&quot;</td></tr><tr><td>&quot;2024&quot;</td><td>&quot;4&quot;</td><td>&quot;714&quot;</td><td>&quot;RCK Foods&quot;</td><td>&quot;Soup Modern&quot;</td><td>&quot;HC Tomato Bisque 15 oz&quot;</td></tr><tr><td>&quot;2024&quot;</td><td>&quot;4&quot;</td><td>&quot;714&quot;</td><td>&quot;RCK Foods&quot;</td><td>&quot;Soup Modern&quot;</td><td>&quot;HC Tomato Bisque 24 oz&quot;</td></tr><tr><td>&quot;2024&quot;</td><td>&quot;4&quot;</td><td>&quot;714&quot;</td><td>&quot;RCK Foods&quot;</td><td>&quot;Soup Modern&quot;</td><td>&quot;HC Turkey Gravy&quot;</td></tr><tr><td>&quot;2024&quot;</td><td>&quot;4&quot;</td><td>&quot;714&quot;</td><td>&quot;RCK Foods&quot;</td><td>&quot;Soup Modern&quot;</td><td>&quot;Home Chef White Chicken Chili&quot;</td></tr><tr><td>&quot;2024&quot;</td><td>&quot;4&quot;</td><td>&quot;714&quot;</td><td>&quot;RCK Foods&quot;</td><td>&quot;Soup Modern&quot;</td><td>&quot;None&quot;</td></tr><tr><td>&quot;2024&quot;</td><td>&quot;4&quot;</td><td>&quot;714&quot;</td><td>&quot;RCK Foods&quot;</td><td>&quot;Soup Rovema&quot;</td><td>&quot;German Dressing&quot;</td></tr><tr><td>&quot;2024&quot;</td><td>&quot;4&quot;</td><td>&quot;714&quot;</td><td>&quot;RCK Foods&quot;</td><td>&quot;Soup Rovema&quot;</td><td>&quot;None&quot;</td></tr><tr><td>&quot;2024&quot;</td><td>&quot;4&quot;</td><td>&quot;714&quot;</td><td>&quot;RCK Foods&quot;</td><td>&quot;Soup Rovema&quot;</td><td>&quot;Pot Pie Filling Component&quot;</td></tr></tbody></table></div>"
      ],
      "text/plain": [
       "shape: (934, 6)\n",
       "┌──────┬─────────┬──────────────┬─────────────────────┬─────────────┬──────────────────────────────┐\n",
       "│ Year ┆ Quarter ┆ Plant Number ┆ Plant Name          ┆ Line Name   ┆ Product                      │\n",
       "│ ---  ┆ ---     ┆ ---          ┆ ---                 ┆ ---         ┆ ---                          │\n",
       "│ str  ┆ str     ┆ str          ┆ str                 ┆ str         ┆ str                          │\n",
       "╞══════╪═════════╪══════════════╪═════════════════════╪═════════════╪══════════════════════════════╡\n",
       "│ 2025 ┆ 1       ┆ 102          ┆ Country Oven Bakery ┆ Bread Line  ┆ B19011 ITALIAN BREAD         │\n",
       "│ 2025 ┆ 1       ┆ 102          ┆ Country Oven Bakery ┆ Bread Line  ┆ B19017 COUNTRY FRENCH        │\n",
       "│ 2025 ┆ 1       ┆ 102          ┆ Country Oven Bakery ┆ Bread Line  ┆ B19019 SEEDED RYE BREAD      │\n",
       "│ 2025 ┆ 1       ┆ 102          ┆ Country Oven Bakery ┆ Bread Line  ┆ B19068 PUMPERNICKEL BREAD    │\n",
       "│ 2025 ┆ 1       ┆ 102          ┆ Country Oven Bakery ┆ Bread Line  ┆ B19100 FRENCH STIX           │\n",
       "│ 2025 ┆ 1       ┆ 102          ┆ Country Oven Bakery ┆ Bread Line  ┆ B19180 SWEET ITALIAN STIX    │\n",
       "│ 2025 ┆ 1       ┆ 102          ┆ Country Oven Bakery ┆ Bread Line  ┆ B19183 WHITE MOUNTAIN BREAD  │\n",
       "│ 2025 ┆ 1       ┆ 102          ┆ Country Oven Bakery ┆ Bread Line  ┆ B19184 Wheat Mountain        │\n",
       "│ 2025 ┆ 1       ┆ 102          ┆ Country Oven Bakery ┆ Bread Line  ┆ B19185 ROUND PUMPERNICKLE    │\n",
       "│ 2025 ┆ 1       ┆ 102          ┆ Country Oven Bakery ┆ Bread Line  ┆ B19186 ROUND RYE             │\n",
       "│ …    ┆ …       ┆ …            ┆ …                   ┆ …           ┆ …                            │\n",
       "│ 2024 ┆ 4       ┆ 714          ┆ RCK Foods           ┆ Soup Modern ┆ HC Thai Coconut 15oz         │\n",
       "│ 2024 ┆ 4       ┆ 714          ┆ RCK Foods           ┆ Soup Modern ┆ HC Thai Coconut 24oz         │\n",
       "│ 2024 ┆ 4       ┆ 714          ┆ RCK Foods           ┆ Soup Modern ┆ HC Tomato Bisque 15 oz       │\n",
       "│ 2024 ┆ 4       ┆ 714          ┆ RCK Foods           ┆ Soup Modern ┆ HC Tomato Bisque 24 oz       │\n",
       "│ 2024 ┆ 4       ┆ 714          ┆ RCK Foods           ┆ Soup Modern ┆ HC Turkey Gravy              │\n",
       "│ 2024 ┆ 4       ┆ 714          ┆ RCK Foods           ┆ Soup Modern ┆ Home Chef White Chicken      │\n",
       "│      ┆         ┆              ┆                     ┆             ┆ Chili                        │\n",
       "│ 2024 ┆ 4       ┆ 714          ┆ RCK Foods           ┆ Soup Modern ┆ None                         │\n",
       "│ 2024 ┆ 4       ┆ 714          ┆ RCK Foods           ┆ Soup Rovema ┆ German Dressing              │\n",
       "│ 2024 ┆ 4       ┆ 714          ┆ RCK Foods           ┆ Soup Rovema ┆ None                         │\n",
       "│ 2024 ┆ 4       ┆ 714          ┆ RCK Foods           ┆ Soup Rovema ┆ Pot Pie Filling Component    │\n",
       "└──────┴─────────┴──────────────┴─────────────────────┴─────────────┴──────────────────────────────┘"
      ]
     },
     "metadata": {},
     "output_type": "display_data"
    }
   ],
   "source": [
    "# I manually cleaned the Excel sheets from central planning\n",
    "# and stored in a single excel file\n",
    "PRODUCTS_PATH = config.data_dir / \"from_central_planning\" / \"products_from_capacity.xlsx\"\n",
    "\n",
    "# Read all columns as strings first to handle concatenated CSVs with extra headers\n",
    "products_raw = pl.read_excel(\n",
    "    PRODUCTS_PATH,\n",
    "    sheet_name=\"Sheet1\",\n",
    "    has_header=True,\n",
    "    infer_schema_length=0  # Treat all columns as strings\n",
    ")\n",
    "\n",
    "display(products_raw)"
   ]
  },
  {
   "cell_type": "code",
   "execution_count": 3,
   "id": "70a2d3ee",
   "metadata": {},
   "outputs": [
    {
     "data": {
      "text/html": [
       "<div><style>\n",
       ".dataframe > thead > tr,\n",
       ".dataframe > tbody > tr {\n",
       "  text-align: right;\n",
       "  white-space: pre-wrap;\n",
       "}\n",
       "</style>\n",
       "<small>shape: (914, 4)</small><table border=\"1\" class=\"dataframe\"><thead><tr><th>Plant Number</th><th>Plant Name</th><th>Line Name</th><th>Product</th></tr><tr><td>str</td><td>str</td><td>str</td><td>str</td></tr></thead><tbody><tr><td>&quot;049&quot;</td><td>&quot;State Avenue Foods&quot;</td><td>&quot;670 SPICE&quot;</td><td>&quot;K00106 HT ONION POWDER 4OZ.&quot;</td></tr><tr><td>&quot;049&quot;</td><td>&quot;State Avenue Foods&quot;</td><td>&quot;670 SPICE&quot;</td><td>&quot;K48302 PS POPPY SEED&quot;</td></tr><tr><td>&quot;049&quot;</td><td>&quot;State Avenue Foods&quot;</td><td>&quot;670 SPICE&quot;</td><td>&quot;K48302 PS POPPY SEED&quot;</td></tr><tr><td>&quot;049&quot;</td><td>&quot;State Avenue Foods&quot;</td><td>&quot;670 SPICE&quot;</td><td>&quot;K48307 PS GROUND CLOVES&quot;</td></tr><tr><td>&quot;049&quot;</td><td>&quot;State Avenue Foods&quot;</td><td>&quot;670 SPICE&quot;</td><td>&quot;K48309 PS WHOLE CLOVES&quot;</td></tr><tr><td>&quot;049&quot;</td><td>&quot;State Avenue Foods&quot;</td><td>&quot;670 SPICE&quot;</td><td>&quot;K48309 PS WHOLE CLOVES&quot;</td></tr><tr><td>&quot;049&quot;</td><td>&quot;State Avenue Foods&quot;</td><td>&quot;670 SPICE&quot;</td><td>&quot;K48463 PS GROUND CUMIN&quot;</td></tr><tr><td>&quot;049&quot;</td><td>&quot;State Avenue Foods&quot;</td><td>&quot;670 SPICE&quot;</td><td>&quot;K48463 PS GROUND CUMIN&quot;</td></tr><tr><td>&quot;049&quot;</td><td>&quot;State Avenue Foods&quot;</td><td>&quot;670 SPICE&quot;</td><td>&quot;K48464 PS THYME LEAVES&quot;</td></tr><tr><td>&quot;049&quot;</td><td>&quot;State Avenue Foods&quot;</td><td>&quot;670 SPICE&quot;</td><td>&quot;K48464 PS THYME LEAVES&quot;</td></tr><tr><td>&hellip;</td><td>&hellip;</td><td>&hellip;</td><td>&hellip;</td></tr><tr><td>&quot;714&quot;</td><td>&quot;RCK Foods&quot;</td><td>&quot;Soup Modern&quot;</td><td>&quot;HC Thai Coconut 24oz&quot;</td></tr><tr><td>&quot;714&quot;</td><td>&quot;RCK Foods&quot;</td><td>&quot;Soup Modern&quot;</td><td>&quot;HC Tomato Bisque 15 oz&quot;</td></tr><tr><td>&quot;714&quot;</td><td>&quot;RCK Foods&quot;</td><td>&quot;Soup Modern&quot;</td><td>&quot;HC Tomato Bisque 15 oz&quot;</td></tr><tr><td>&quot;714&quot;</td><td>&quot;RCK Foods&quot;</td><td>&quot;Soup Modern&quot;</td><td>&quot;HC Tomato Bisque 24 oz&quot;</td></tr><tr><td>&quot;714&quot;</td><td>&quot;RCK Foods&quot;</td><td>&quot;Soup Modern&quot;</td><td>&quot;HC Tomato Bisque 24 oz&quot;</td></tr><tr><td>&quot;714&quot;</td><td>&quot;RCK Foods&quot;</td><td>&quot;Soup Modern&quot;</td><td>&quot;HC Turkey Gravy&quot;</td></tr><tr><td>&quot;714&quot;</td><td>&quot;RCK Foods&quot;</td><td>&quot;Soup Modern&quot;</td><td>&quot;HC Turkey Gravy&quot;</td></tr><tr><td>&quot;714&quot;</td><td>&quot;RCK Foods&quot;</td><td>&quot;Soup Modern&quot;</td><td>&quot;Home Chef White Chicken Chili&quot;</td></tr><tr><td>&quot;714&quot;</td><td>&quot;RCK Foods&quot;</td><td>&quot;Soup Rovema&quot;</td><td>&quot;German Dressing&quot;</td></tr><tr><td>&quot;714&quot;</td><td>&quot;RCK Foods&quot;</td><td>&quot;Soup Rovema&quot;</td><td>&quot;Pot Pie Filling Component&quot;</td></tr></tbody></table></div>"
      ],
      "text/plain": [
       "shape: (914, 4)\n",
       "┌──────────────┬────────────────────┬─────────────┬───────────────────────────────┐\n",
       "│ Plant Number ┆ Plant Name         ┆ Line Name   ┆ Product                       │\n",
       "│ ---          ┆ ---                ┆ ---         ┆ ---                           │\n",
       "│ str          ┆ str                ┆ str         ┆ str                           │\n",
       "╞══════════════╪════════════════════╪═════════════╪═══════════════════════════════╡\n",
       "│ 049          ┆ State Avenue Foods ┆ 670 SPICE   ┆ K00106 HT ONION POWDER 4OZ.   │\n",
       "│ 049          ┆ State Avenue Foods ┆ 670 SPICE   ┆ K48302 PS POPPY SEED          │\n",
       "│ 049          ┆ State Avenue Foods ┆ 670 SPICE   ┆ K48302 PS POPPY SEED          │\n",
       "│ 049          ┆ State Avenue Foods ┆ 670 SPICE   ┆ K48307 PS GROUND CLOVES       │\n",
       "│ 049          ┆ State Avenue Foods ┆ 670 SPICE   ┆ K48309 PS WHOLE CLOVES        │\n",
       "│ 049          ┆ State Avenue Foods ┆ 670 SPICE   ┆ K48309 PS WHOLE CLOVES        │\n",
       "│ 049          ┆ State Avenue Foods ┆ 670 SPICE   ┆ K48463 PS GROUND CUMIN        │\n",
       "│ 049          ┆ State Avenue Foods ┆ 670 SPICE   ┆ K48463 PS GROUND CUMIN        │\n",
       "│ 049          ┆ State Avenue Foods ┆ 670 SPICE   ┆ K48464 PS THYME LEAVES        │\n",
       "│ 049          ┆ State Avenue Foods ┆ 670 SPICE   ┆ K48464 PS THYME LEAVES        │\n",
       "│ …            ┆ …                  ┆ …           ┆ …                             │\n",
       "│ 714          ┆ RCK Foods          ┆ Soup Modern ┆ HC Thai Coconut 24oz          │\n",
       "│ 714          ┆ RCK Foods          ┆ Soup Modern ┆ HC Tomato Bisque 15 oz        │\n",
       "│ 714          ┆ RCK Foods          ┆ Soup Modern ┆ HC Tomato Bisque 15 oz        │\n",
       "│ 714          ┆ RCK Foods          ┆ Soup Modern ┆ HC Tomato Bisque 24 oz        │\n",
       "│ 714          ┆ RCK Foods          ┆ Soup Modern ┆ HC Tomato Bisque 24 oz        │\n",
       "│ 714          ┆ RCK Foods          ┆ Soup Modern ┆ HC Turkey Gravy               │\n",
       "│ 714          ┆ RCK Foods          ┆ Soup Modern ┆ HC Turkey Gravy               │\n",
       "│ 714          ┆ RCK Foods          ┆ Soup Modern ┆ Home Chef White Chicken Chili │\n",
       "│ 714          ┆ RCK Foods          ┆ Soup Rovema ┆ German Dressing               │\n",
       "│ 714          ┆ RCK Foods          ┆ Soup Rovema ┆ Pot Pie Filling Component     │\n",
       "└──────────────┴────────────────────┴─────────────┴───────────────────────────────┘"
      ]
     },
     "metadata": {},
     "output_type": "display_data"
    }
   ],
   "source": [
    "products_cleaned = (\n",
    "    products_raw\n",
    "    .filter(~pl.col(\"Product\").str.contains(\"(?i)none\"))\n",
    "    .select(\"Plant Number\", \"Plant Name\", \"Line Name\", \"Product\")\n",
    "    .sort(\"Plant Number\", \"Plant Name\", \"Line Name\", \"Product\")\n",
    ")\n",
    "\n",
    "display(products_cleaned)"
   ]
  },
  {
   "cell_type": "markdown",
   "id": "e7219744",
   "metadata": {},
   "source": [
    "## Load data work_agent_barney"
   ]
  },
  {
   "cell_type": "code",
   "execution_count": 5,
   "id": "46a616a1",
   "metadata": {},
   "outputs": [
    {
     "name": "stderr",
     "output_type": "stream",
     "text": [
      "[WARN] Parameter '_user_agent_entry' is deprecated; use 'user_agent_entry' instead. This parameter will be removed in the upcoming releases.\n"
     ]
    }
   ],
   "source": [
    "engine = get_sqlalchemy_engine(\n",
    "    catalog=CATALOG,\n",
    "    schema=SCHEMA\n",
    ")\n",
    "\n",
    "query = \"SELECT * FROM plm_spec_cross_references_silver\"\n",
    "plm_spec_cross_refs = pl.read_database(query, engine)"
   ]
  },
  {
   "cell_type": "code",
   "execution_count": null,
   "id": "3cbf37ab",
   "metadata": {},
   "outputs": [],
   "source": []
  }
 ],
 "metadata": {
  "kernelspec": {
   "display_name": ".venv",
   "language": "python",
   "name": "python3"
  },
  "language_info": {
   "codemirror_mode": {
    "name": "ipython",
    "version": 3
   },
   "file_extension": ".py",
   "mimetype": "text/x-python",
   "name": "python",
   "nbconvert_exporter": "python",
   "pygments_lexer": "ipython3",
   "version": "3.13.2"
  }
 },
 "nbformat": 4,
 "nbformat_minor": 5
}
