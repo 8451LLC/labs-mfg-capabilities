{
 "cells": [
  {
   "cell_type": "code",
   "execution_count": null,
   "id": "20868301",
   "metadata": {},
   "outputs": [],
   "source": [
    "import polars as pl\n",
    "\n",
    "from mfg_capabilities.config import config\n",
    "\n",
    "\n",
    "pl.Config.set_tbl_rows(20)  # to set the number of rows displayed)\n",
    "# pl.Config.set_tbl_cols(10) # to set the number of columns\n",
    "# pl.Config.set_fmt_str_lengths(50) # to set the max string length displayed"
   ]
  },
  {
   "cell_type": "code",
   "execution_count": null,
   "id": "e34f24e5",
   "metadata": {},
   "outputs": [
    {
     "data": {
      "text/html": [
       "<div><style>\n",
       ".dataframe > thead > tr,\n",
       ".dataframe > tbody > tr {\n",
       "  text-align: right;\n",
       "  white-space: pre-wrap;\n",
       "}\n",
       "</style>\n",
       "<small>shape: (133_247, 18)</small><table border=\"1\" class=\"dataframe\"><thead><tr><th>Area</th><th>Active Line?</th><th>Downtime Description</th><th>Downtime Start (Date/Time)</th><th>Downtime End (Date/Time)</th><th>Downtime Type</th><th>DT Code</th><th>Equipment Name</th><th>Line Name</th><th>Notes</th><th>Operator Name</th><th>Plant Name</th><th>Plant Number</th><th>Production Date</th><th>UDF1</th><th>UDF2</th><th>UDF3</th><th>Downtime Duration</th></tr><tr><td>str</td><td>str</td><td>str</td><td>datetime[μs]</td><td>datetime[μs]</td><td>str</td><td>str</td><td>str</td><td>str</td><td>str</td><td>str</td><td>str</td><td>str</td><td>str</td><td>str</td><td>str</td><td>str</td><td>i64</td></tr></thead><tbody><tr><td>&quot;COOKIES&quot;</td><td>&quot;YES&quot;</td><td>&quot;CUTTER ARM WIRE&quot;</td><td>2024-01-03 15:50:28</td><td>2024-01-03 15:55:43</td><td>&quot;DOWNTIME (REGULAR)&quot;</td><td>&quot;11655&quot;</td><td>&quot;Cookie Cutter Arm&quot;</td><td>&quot;Cookie Line&quot;</td><td>&quot;&quot;</td><td>&quot;GROSS, DYLAN&quot;</td><td>&quot;COUNTRY OVEN BAKERY&quot;</td><td>&quot;102&quot;</td><td>&quot;2024/01/03 00:00:00&quot;</td><td>&quot;SANITATION&quot;</td><td>&quot;MECHANICAL&quot;</td><td>&quot;MAINTENANCE&quot;</td><td>5</td></tr><tr><td>&quot;COOKIES&quot;</td><td>&quot;YES&quot;</td><td>&quot;CUTTER ARM WIRE&quot;</td><td>2024-01-03 16:30:49</td><td>2024-01-03 16:36:58</td><td>&quot;DOWNTIME (REGULAR)&quot;</td><td>&quot;11655&quot;</td><td>&quot;Cookie Cutter Arm&quot;</td><td>&quot;Cookie Line&quot;</td><td>&quot;&quot;</td><td>&quot;GROSS, DYLAN&quot;</td><td>&quot;COUNTRY OVEN BAKERY&quot;</td><td>&quot;102&quot;</td><td>&quot;2024/01/03 00:00:00&quot;</td><td>&quot;SANITATION&quot;</td><td>&quot;MECHANICAL&quot;</td><td>&quot;MAINTENANCE&quot;</td><td>6</td></tr><tr><td>&quot;COOKIES&quot;</td><td>&quot;YES&quot;</td><td>&quot;CUTTER ARM WIRE&quot;</td><td>2024-01-03 18:44:41</td><td>2024-01-03 19:05:00</td><td>&quot;DOWNTIME (REGULAR)&quot;</td><td>&quot;11655&quot;</td><td>&quot;Cookie Cutter Arm&quot;</td><td>&quot;Cookie Line&quot;</td><td>&quot;RAISING UP FINGERS ON CUTTER&quot;</td><td>&quot;GROSS, DYLAN&quot;</td><td>&quot;COUNTRY OVEN BAKERY&quot;</td><td>&quot;102&quot;</td><td>&quot;2024/01/03 00:00:00&quot;</td><td>&quot;SANITATION&quot;</td><td>&quot;MECHANICAL&quot;</td><td>&quot;MAINTENANCE&quot;</td><td>21</td></tr><tr><td>&quot;COOKIES&quot;</td><td>&quot;YES&quot;</td><td>&quot;CUTTER ARM WIRE&quot;</td><td>2024-01-03 19:07:02</td><td>2024-01-03 19:10:38</td><td>&quot;DOWNTIME (REGULAR)&quot;</td><td>&quot;11655&quot;</td><td>&quot;Cookie Cutter Arm&quot;</td><td>&quot;Cookie Line&quot;</td><td>&quot;&quot;</td><td>&quot;GROSS, DYLAN&quot;</td><td>&quot;COUNTRY OVEN BAKERY&quot;</td><td>&quot;102&quot;</td><td>&quot;2024/01/03 00:00:00&quot;</td><td>&quot;SANITATION&quot;</td><td>&quot;MECHANICAL&quot;</td><td>&quot;MAINTENANCE&quot;</td><td>3</td></tr><tr><td>&quot;CAKES&quot;</td><td>&quot;YES&quot;</td><td>&quot;EYE DIRTY/BLOCKED&quot;</td><td>2024-01-04 02:26:02</td><td>2024-01-04 02:26:19</td><td>&quot;DOWNTIME (REGULAR)&quot;</td><td>&quot;11888&quot;</td><td>&quot;Cake Loader&quot;</td><td>&quot;Cake Make-up&quot;</td><td>&quot;&quot;</td><td>&quot;GABRIEL, JENNY&quot;</td><td>&quot;COUNTRY OVEN BAKERY&quot;</td><td>&quot;102&quot;</td><td>&quot;2024/01/04 00:00:00&quot;</td><td>&quot;SANITATION&quot;</td><td>&quot;MECHANICAL&quot;</td><td>&quot;MAINTENANCE&quot;</td><td>0</td></tr><tr><td>&quot;CAKES&quot;</td><td>&quot;YES&quot;</td><td>&quot;EYE DIRTY/BLOCKED&quot;</td><td>2024-01-05 02:53:28</td><td>2024-01-05 02:53:46</td><td>&quot;DOWNTIME (REGULAR)&quot;</td><td>&quot;11888&quot;</td><td>&quot;Cake Loader&quot;</td><td>&quot;Cake Make-up&quot;</td><td>&quot;&quot;</td><td>&quot;GABRIEL, JENNY&quot;</td><td>&quot;COUNTRY OVEN BAKERY&quot;</td><td>&quot;102&quot;</td><td>&quot;2024/01/05 00:00:00&quot;</td><td>&quot;SANITATION&quot;</td><td>&quot;MECHANICAL&quot;</td><td>&quot;MAINTENANCE&quot;</td><td>0</td></tr><tr><td>&quot;CAKES&quot;</td><td>&quot;YES&quot;</td><td>&quot;EYE DIRTY/BLOCKED&quot;</td><td>2024-01-05 03:35:06</td><td>2024-01-05 03:35:30</td><td>&quot;DOWNTIME (REGULAR)&quot;</td><td>&quot;11888&quot;</td><td>&quot;Cake Loader&quot;</td><td>&quot;Cake Make-up&quot;</td><td>&quot;&quot;</td><td>&quot;GABRIEL, JENNY&quot;</td><td>&quot;COUNTRY OVEN BAKERY&quot;</td><td>&quot;102&quot;</td><td>&quot;2024/01/05 00:00:00&quot;</td><td>&quot;SANITATION&quot;</td><td>&quot;MECHANICAL&quot;</td><td>&quot;MAINTENANCE&quot;</td><td>0</td></tr><tr><td>&quot;CAKES&quot;</td><td>&quot;YES&quot;</td><td>&quot;EYE DIRTY/BLOCKED&quot;</td><td>2024-01-05 04:05:18</td><td>2024-01-05 04:05:28</td><td>&quot;DOWNTIME (REGULAR)&quot;</td><td>&quot;11888&quot;</td><td>&quot;Cake Loader&quot;</td><td>&quot;Cake Make-up&quot;</td><td>&quot;&quot;</td><td>&quot;GABRIEL, JENNY&quot;</td><td>&quot;COUNTRY OVEN BAKERY&quot;</td><td>&quot;102&quot;</td><td>&quot;2024/01/05 00:00:00&quot;</td><td>&quot;SANITATION&quot;</td><td>&quot;MECHANICAL&quot;</td><td>&quot;MAINTENANCE&quot;</td><td>0</td></tr><tr><td>&quot;CAKES&quot;</td><td>&quot;YES&quot;</td><td>&quot;EYE DIRTY/BLOCKED&quot;</td><td>2024-01-05 04:30:01</td><td>2024-01-05 04:30:31</td><td>&quot;DOWNTIME (REGULAR)&quot;</td><td>&quot;11888&quot;</td><td>&quot;Cake Loader&quot;</td><td>&quot;Cake Make-up&quot;</td><td>&quot;&quot;</td><td>&quot;GABRIEL, JENNY&quot;</td><td>&quot;COUNTRY OVEN BAKERY&quot;</td><td>&quot;102&quot;</td><td>&quot;2024/01/05 00:00:00&quot;</td><td>&quot;SANITATION&quot;</td><td>&quot;MECHANICAL&quot;</td><td>&quot;MAINTENANCE&quot;</td><td>0</td></tr><tr><td>&quot;CAKES&quot;</td><td>&quot;YES&quot;</td><td>&quot;EYE DIRTY/BLOCKED&quot;</td><td>2024-01-07 21:31:18</td><td>2024-01-07 21:35:32</td><td>&quot;DOWNTIME (REGULAR)&quot;</td><td>&quot;11888&quot;</td><td>&quot;Cake Loader&quot;</td><td>&quot;Cake Make-up&quot;</td><td>&quot;&nbsp;&nbsp;&quot;</td><td>&quot;JOHNSON, DEMITRIA&quot;</td><td>&quot;COUNTRY OVEN BAKERY&quot;</td><td>&quot;102&quot;</td><td>&quot;2024/01/08 00:00:00&quot;</td><td>&quot;SANITATION&quot;</td><td>&quot;MECHANICAL&quot;</td><td>&quot;MAINTENANCE&quot;</td><td>4</td></tr><tr><td>&hellip;</td><td>&hellip;</td><td>&hellip;</td><td>&hellip;</td><td>&hellip;</td><td>&hellip;</td><td>&hellip;</td><td>&hellip;</td><td>&hellip;</td><td>&hellip;</td><td>&hellip;</td><td>&hellip;</td><td>&hellip;</td><td>&hellip;</td><td>&hellip;</td><td>&hellip;</td><td>&hellip;</td><td>&hellip;</td></tr><tr><td>&quot;*INTERNAL REPORTING*&quot;</td><td>&quot;NO&quot;</td><td>&quot;CAPPER MECHANICAL&quot;</td><td>2025-06-17 09:13:00</td><td>2025-06-17 09:13:16</td><td>&quot;DOWNTIME (REGULAR)&quot;</td><td>&quot;12598&quot;</td><td>&quot;Capper- Bakery&quot;</td><td>&quot;802 Pouch 2&quot;</td><td>&quot;&quot;</td><td>&quot;KELLY, DENISE&quot;</td><td>&quot;STATE AVENUE FOODS&quot;</td><td>&quot;049&quot;</td><td>&quot;2025/06/17 00:00:00&quot;</td><td>&quot;SANITATION&quot;</td><td>&quot;MECHANICAL&quot;</td><td>&quot;MAINTENANCE&quot;</td><td>0</td></tr><tr><td>&quot;*INTERNAL REPORTING*&quot;</td><td>&quot;NO&quot;</td><td>&quot;CAPPER MECHANICAL&quot;</td><td>2025-06-17 09:14:07</td><td>2025-06-17 09:14:22</td><td>&quot;DOWNTIME (REGULAR)&quot;</td><td>&quot;12598&quot;</td><td>&quot;Capper- Bakery&quot;</td><td>&quot;802 Pouch 2&quot;</td><td>&quot;&quot;</td><td>&quot;KELLY, DENISE&quot;</td><td>&quot;STATE AVENUE FOODS&quot;</td><td>&quot;049&quot;</td><td>&quot;2025/06/17 00:00:00&quot;</td><td>&quot;SANITATION&quot;</td><td>&quot;MECHANICAL&quot;</td><td>&quot;MAINTENANCE&quot;</td><td>0</td></tr><tr><td>&quot;*INTERNAL REPORTING*&quot;</td><td>&quot;NO&quot;</td><td>&quot;CAPPER MECHANICAL&quot;</td><td>2025-06-17 09:15:21</td><td>2025-06-17 09:22:47</td><td>&quot;DOWNTIME (REGULAR)&quot;</td><td>&quot;12598&quot;</td><td>&quot;Capper- Bakery&quot;</td><td>&quot;802 Pouch 2&quot;</td><td>&quot;&quot;</td><td>&quot;KELLY, DENISE&quot;</td><td>&quot;STATE AVENUE FOODS&quot;</td><td>&quot;049&quot;</td><td>&quot;2025/06/17 00:00:00&quot;</td><td>&quot;SANITATION&quot;</td><td>&quot;MECHANICAL&quot;</td><td>&quot;MAINTENANCE&quot;</td><td>7</td></tr><tr><td>&quot;*INTERNAL REPORTING*&quot;</td><td>&quot;NO&quot;</td><td>&quot;CAPPER MECHANICAL&quot;</td><td>2025-06-17 14:24:19</td><td>2025-06-17 14:27:59</td><td>&quot;DOWNTIME (REGULAR)&quot;</td><td>&quot;12598&quot;</td><td>&quot;Capper- Bakery&quot;</td><td>&quot;802 Pouch 2&quot;</td><td>&quot;&quot;</td><td>&quot;KELLY, DENISE&quot;</td><td>&quot;STATE AVENUE FOODS&quot;</td><td>&quot;049&quot;</td><td>&quot;2025/06/17 00:00:00&quot;</td><td>&quot;SANITATION&quot;</td><td>&quot;MECHANICAL&quot;</td><td>&quot;MAINTENANCE&quot;</td><td>3</td></tr><tr><td>&quot;DISTRIBUTION&quot;</td><td>&quot;YES&quot;</td><td>&quot;OPTR ADJUSTMNT-BS FILLER PLAST…</td><td>2025-06-11 13:52:45</td><td>2025-06-11 13:53:20</td><td>&quot;DOWNTIME (REGULAR)&quot;</td><td>&quot;12013&quot;</td><td>&quot;Filler Plastic- BBQ Syrup&quot;</td><td>&quot;790 Red Sauce Line&quot;</td><td>&quot;&quot;</td><td>&quot;Varela, Andrea&quot;</td><td>&quot;STATE AVENUE FOODS&quot;</td><td>&quot;049&quot;</td><td>&quot;2025/06/11 00:00:00&quot;</td><td>&quot;NON-SANITATION&quot;</td><td>&quot;NON-MECHANICAL&quot;</td><td>&quot;NON-MAINTENANCE&quot;</td><td>1</td></tr><tr><td>&quot;DISTRIBUTION&quot;</td><td>&quot;YES&quot;</td><td>&quot;SETUP ADJUSTMENT-PR CAPPER GLA…</td><td>2025-06-16 03:50:06</td><td>2025-06-16 04:07:21</td><td>&quot;DOWNTIME (REGULAR)&quot;</td><td>&quot;12064&quot;</td><td>&quot;Capper Glass- Preserves&quot;</td><td>&quot;750 Liquid Line&quot;</td><td>&quot;&quot;</td><td>&quot;Ocho, Samantha&quot;</td><td>&quot;STATE AVENUE FOODS&quot;</td><td>&quot;049&quot;</td><td>&quot;2025/06/15 00:00:00&quot;</td><td>&quot;NON-SANITATION&quot;</td><td>&quot;NON-MECHANICAL&quot;</td><td>&quot;NON-MAINTENANCE&quot;</td><td>17</td></tr><tr><td>&quot;DISTRIBUTION&quot;</td><td>&quot;YES&quot;</td><td>&quot;SETUP ADJUSTMENT-PR CAPPER GLA…</td><td>2025-06-16 04:10:11</td><td>2025-06-16 04:11:27</td><td>&quot;DOWNTIME (REGULAR)&quot;</td><td>&quot;12064&quot;</td><td>&quot;Capper Glass- Preserves&quot;</td><td>&quot;750 Liquid Line&quot;</td><td>&quot;&quot;</td><td>&quot;Ocho, Samantha&quot;</td><td>&quot;STATE AVENUE FOODS&quot;</td><td>&quot;049&quot;</td><td>&quot;2025/06/15 00:00:00&quot;</td><td>&quot;NON-SANITATION&quot;</td><td>&quot;NON-MECHANICAL&quot;</td><td>&quot;NON-MAINTENANCE&quot;</td><td>1</td></tr><tr><td>&quot;DISTRIBUTION&quot;</td><td>&quot;YES&quot;</td><td>&quot;SETUP ADJUSTMENTS-PR RONDELLA&quot;</td><td>2025-06-16 05:12:13</td><td>2025-06-16 05:26:13</td><td>&quot;DOWNTIME (REGULAR)&quot;</td><td>&quot;12083&quot;</td><td>&quot;Rondella Labeler- Preserves&quot;</td><td>&quot;750 Liquid Line&quot;</td><td>&quot;&quot;</td><td>&quot;Ocho, Samantha&quot;</td><td>&quot;STATE AVENUE FOODS&quot;</td><td>&quot;049&quot;</td><td>&quot;2025/06/15 00:00:00&quot;</td><td>&quot;NON-SANITATION&quot;</td><td>&quot;NON-MECHANICAL&quot;</td><td>&quot;NON-MAINTENANCE&quot;</td><td>14</td></tr><tr><td>&quot;DISTRIBUTION&quot;</td><td>&quot;YES&quot;</td><td>&quot;OPTR ADJUSTMENTS-PR CAPPER GLA…</td><td>2025-06-17 05:28:53</td><td>2025-06-17 05:33:29</td><td>&quot;DOWNTIME (REGULAR)&quot;</td><td>&quot;11981&quot;</td><td>&quot;Capper Glass- Preserves&quot;</td><td>&quot;750 Liquid Line&quot;</td><td>&quot;&quot;</td><td>&quot;Sanders, Candice&quot;</td><td>&quot;STATE AVENUE FOODS&quot;</td><td>&quot;049&quot;</td><td>&quot;2025/06/16 00:00:00&quot;</td><td>&quot;NON-SANITATION&quot;</td><td>&quot;NON-MECHANICAL&quot;</td><td>&quot;NON-MAINTENANCE&quot;</td><td>5</td></tr><tr><td>&quot;DISTRIBUTION&quot;</td><td>&quot;YES&quot;</td><td>&quot;OPTR ADJUSTMENTS-PR CAPPER GLA…</td><td>2025-06-17 06:03:53</td><td>2025-06-17 06:05:12</td><td>&quot;DOWNTIME (REGULAR)&quot;</td><td>&quot;11981&quot;</td><td>&quot;Capper Glass- Preserves&quot;</td><td>&quot;750 Liquid Line&quot;</td><td>&quot;JARS STUCK UNDER CAPPER&quot;</td><td>&quot;Sanders, Candice&quot;</td><td>&quot;STATE AVENUE FOODS&quot;</td><td>&quot;049&quot;</td><td>&quot;2025/06/16 00:00:00&quot;</td><td>&quot;NON-SANITATION&quot;</td><td>&quot;NON-MECHANICAL&quot;</td><td>&quot;NON-MAINTENANCE&quot;</td><td>2</td></tr></tbody></table></div>"
      ],
      "text/plain": [
       "shape: (133_247, 18)\n",
       "┌───────────┬───────────┬───────────┬───────────┬───┬───────────┬───────────┬───────────┬──────────┐\n",
       "│ Area      ┆ Active    ┆ Downtime  ┆ Downtime  ┆ … ┆ UDF1      ┆ UDF2      ┆ UDF3      ┆ Downtime │\n",
       "│ ---       ┆ Line?     ┆ Descripti ┆ Start (Da ┆   ┆ ---       ┆ ---       ┆ ---       ┆ Duration │\n",
       "│ str       ┆ ---       ┆ on        ┆ te/Time)  ┆   ┆ str       ┆ str       ┆ str       ┆ ---      │\n",
       "│           ┆ str       ┆ ---       ┆ ---       ┆   ┆           ┆           ┆           ┆ i64      │\n",
       "│           ┆           ┆ str       ┆ datetime[ ┆   ┆           ┆           ┆           ┆          │\n",
       "│           ┆           ┆           ┆ μs]       ┆   ┆           ┆           ┆           ┆          │\n",
       "╞═══════════╪═══════════╪═══════════╪═══════════╪═══╪═══════════╪═══════════╪═══════════╪══════════╡\n",
       "│ COOKIES   ┆ YES       ┆ CUTTER    ┆ 2024-01-0 ┆ … ┆ SANITATIO ┆ MECHANICA ┆ MAINTENAN ┆ 5        │\n",
       "│           ┆           ┆ ARM WIRE  ┆ 3         ┆   ┆ N         ┆ L         ┆ CE        ┆          │\n",
       "│           ┆           ┆           ┆ 15:50:28  ┆   ┆           ┆           ┆           ┆          │\n",
       "│ COOKIES   ┆ YES       ┆ CUTTER    ┆ 2024-01-0 ┆ … ┆ SANITATIO ┆ MECHANICA ┆ MAINTENAN ┆ 6        │\n",
       "│           ┆           ┆ ARM WIRE  ┆ 3         ┆   ┆ N         ┆ L         ┆ CE        ┆          │\n",
       "│           ┆           ┆           ┆ 16:30:49  ┆   ┆           ┆           ┆           ┆          │\n",
       "│ COOKIES   ┆ YES       ┆ CUTTER    ┆ 2024-01-0 ┆ … ┆ SANITATIO ┆ MECHANICA ┆ MAINTENAN ┆ 21       │\n",
       "│           ┆           ┆ ARM WIRE  ┆ 3         ┆   ┆ N         ┆ L         ┆ CE        ┆          │\n",
       "│           ┆           ┆           ┆ 18:44:41  ┆   ┆           ┆           ┆           ┆          │\n",
       "│ COOKIES   ┆ YES       ┆ CUTTER    ┆ 2024-01-0 ┆ … ┆ SANITATIO ┆ MECHANICA ┆ MAINTENAN ┆ 3        │\n",
       "│           ┆           ┆ ARM WIRE  ┆ 3         ┆   ┆ N         ┆ L         ┆ CE        ┆          │\n",
       "│           ┆           ┆           ┆ 19:07:02  ┆   ┆           ┆           ┆           ┆          │\n",
       "│ CAKES     ┆ YES       ┆ EYE DIRTY ┆ 2024-01-0 ┆ … ┆ SANITATIO ┆ MECHANICA ┆ MAINTENAN ┆ 0        │\n",
       "│           ┆           ┆ /BLOCKED  ┆ 4         ┆   ┆ N         ┆ L         ┆ CE        ┆          │\n",
       "│           ┆           ┆           ┆ 02:26:02  ┆   ┆           ┆           ┆           ┆          │\n",
       "│ CAKES     ┆ YES       ┆ EYE DIRTY ┆ 2024-01-0 ┆ … ┆ SANITATIO ┆ MECHANICA ┆ MAINTENAN ┆ 0        │\n",
       "│           ┆           ┆ /BLOCKED  ┆ 5         ┆   ┆ N         ┆ L         ┆ CE        ┆          │\n",
       "│           ┆           ┆           ┆ 02:53:28  ┆   ┆           ┆           ┆           ┆          │\n",
       "│ CAKES     ┆ YES       ┆ EYE DIRTY ┆ 2024-01-0 ┆ … ┆ SANITATIO ┆ MECHANICA ┆ MAINTENAN ┆ 0        │\n",
       "│           ┆           ┆ /BLOCKED  ┆ 5         ┆   ┆ N         ┆ L         ┆ CE        ┆          │\n",
       "│           ┆           ┆           ┆ 03:35:06  ┆   ┆           ┆           ┆           ┆          │\n",
       "│ CAKES     ┆ YES       ┆ EYE DIRTY ┆ 2024-01-0 ┆ … ┆ SANITATIO ┆ MECHANICA ┆ MAINTENAN ┆ 0        │\n",
       "│           ┆           ┆ /BLOCKED  ┆ 5         ┆   ┆ N         ┆ L         ┆ CE        ┆          │\n",
       "│           ┆           ┆           ┆ 04:05:18  ┆   ┆           ┆           ┆           ┆          │\n",
       "│ CAKES     ┆ YES       ┆ EYE DIRTY ┆ 2024-01-0 ┆ … ┆ SANITATIO ┆ MECHANICA ┆ MAINTENAN ┆ 0        │\n",
       "│           ┆           ┆ /BLOCKED  ┆ 5         ┆   ┆ N         ┆ L         ┆ CE        ┆          │\n",
       "│           ┆           ┆           ┆ 04:30:01  ┆   ┆           ┆           ┆           ┆          │\n",
       "│ CAKES     ┆ YES       ┆ EYE DIRTY ┆ 2024-01-0 ┆ … ┆ SANITATIO ┆ MECHANICA ┆ MAINTENAN ┆ 4        │\n",
       "│           ┆           ┆ /BLOCKED  ┆ 7         ┆   ┆ N         ┆ L         ┆ CE        ┆          │\n",
       "│           ┆           ┆           ┆ 21:31:18  ┆   ┆           ┆           ┆           ┆          │\n",
       "│ …         ┆ …         ┆ …         ┆ …         ┆ … ┆ …         ┆ …         ┆ …         ┆ …        │\n",
       "│ *INTERNAL ┆ NO        ┆ CAPPER    ┆ 2025-06-1 ┆ … ┆ SANITATIO ┆ MECHANICA ┆ MAINTENAN ┆ 0        │\n",
       "│ REPORTING ┆           ┆ MECHANICA ┆ 7         ┆   ┆ N         ┆ L         ┆ CE        ┆          │\n",
       "│ *         ┆           ┆ L         ┆ 09:13:00  ┆   ┆           ┆           ┆           ┆          │\n",
       "│ *INTERNAL ┆ NO        ┆ CAPPER    ┆ 2025-06-1 ┆ … ┆ SANITATIO ┆ MECHANICA ┆ MAINTENAN ┆ 0        │\n",
       "│ REPORTING ┆           ┆ MECHANICA ┆ 7         ┆   ┆ N         ┆ L         ┆ CE        ┆          │\n",
       "│ *         ┆           ┆ L         ┆ 09:14:07  ┆   ┆           ┆           ┆           ┆          │\n",
       "│ *INTERNAL ┆ NO        ┆ CAPPER    ┆ 2025-06-1 ┆ … ┆ SANITATIO ┆ MECHANICA ┆ MAINTENAN ┆ 7        │\n",
       "│ REPORTING ┆           ┆ MECHANICA ┆ 7         ┆   ┆ N         ┆ L         ┆ CE        ┆          │\n",
       "│ *         ┆           ┆ L         ┆ 09:15:21  ┆   ┆           ┆           ┆           ┆          │\n",
       "│ *INTERNAL ┆ NO        ┆ CAPPER    ┆ 2025-06-1 ┆ … ┆ SANITATIO ┆ MECHANICA ┆ MAINTENAN ┆ 3        │\n",
       "│ REPORTING ┆           ┆ MECHANICA ┆ 7         ┆   ┆ N         ┆ L         ┆ CE        ┆          │\n",
       "│ *         ┆           ┆ L         ┆ 14:24:19  ┆   ┆           ┆           ┆           ┆          │\n",
       "│ DISTRIBUT ┆ YES       ┆ OPTR ADJU ┆ 2025-06-1 ┆ … ┆ NON-SANIT ┆ NON-MECHA ┆ NON-MAINT ┆ 1        │\n",
       "│ ION       ┆           ┆ STMNT-BS  ┆ 1         ┆   ┆ ATION     ┆ NICAL     ┆ ENANCE    ┆          │\n",
       "│           ┆           ┆ FILLER    ┆ 13:52:45  ┆   ┆           ┆           ┆           ┆          │\n",
       "│           ┆           ┆ PLAST…    ┆           ┆   ┆           ┆           ┆           ┆          │\n",
       "│ DISTRIBUT ┆ YES       ┆ SETUP ADJ ┆ 2025-06-1 ┆ … ┆ NON-SANIT ┆ NON-MECHA ┆ NON-MAINT ┆ 17       │\n",
       "│ ION       ┆           ┆ USTMENT-P ┆ 6         ┆   ┆ ATION     ┆ NICAL     ┆ ENANCE    ┆          │\n",
       "│           ┆           ┆ R CAPPER  ┆ 03:50:06  ┆   ┆           ┆           ┆           ┆          │\n",
       "│           ┆           ┆ GLA…      ┆           ┆   ┆           ┆           ┆           ┆          │\n",
       "│ DISTRIBUT ┆ YES       ┆ SETUP ADJ ┆ 2025-06-1 ┆ … ┆ NON-SANIT ┆ NON-MECHA ┆ NON-MAINT ┆ 1        │\n",
       "│ ION       ┆           ┆ USTMENT-P ┆ 6         ┆   ┆ ATION     ┆ NICAL     ┆ ENANCE    ┆          │\n",
       "│           ┆           ┆ R CAPPER  ┆ 04:10:11  ┆   ┆           ┆           ┆           ┆          │\n",
       "│           ┆           ┆ GLA…      ┆           ┆   ┆           ┆           ┆           ┆          │\n",
       "│ DISTRIBUT ┆ YES       ┆ SETUP ADJ ┆ 2025-06-1 ┆ … ┆ NON-SANIT ┆ NON-MECHA ┆ NON-MAINT ┆ 14       │\n",
       "│ ION       ┆           ┆ USTMENTS- ┆ 6         ┆   ┆ ATION     ┆ NICAL     ┆ ENANCE    ┆          │\n",
       "│           ┆           ┆ PR        ┆ 05:12:13  ┆   ┆           ┆           ┆           ┆          │\n",
       "│           ┆           ┆ RONDELLA  ┆           ┆   ┆           ┆           ┆           ┆          │\n",
       "│ DISTRIBUT ┆ YES       ┆ OPTR ADJU ┆ 2025-06-1 ┆ … ┆ NON-SANIT ┆ NON-MECHA ┆ NON-MAINT ┆ 5        │\n",
       "│ ION       ┆           ┆ STMENTS-P ┆ 7         ┆   ┆ ATION     ┆ NICAL     ┆ ENANCE    ┆          │\n",
       "│           ┆           ┆ R CAPPER  ┆ 05:28:53  ┆   ┆           ┆           ┆           ┆          │\n",
       "│           ┆           ┆ GLA…      ┆           ┆   ┆           ┆           ┆           ┆          │\n",
       "│ DISTRIBUT ┆ YES       ┆ OPTR ADJU ┆ 2025-06-1 ┆ … ┆ NON-SANIT ┆ NON-MECHA ┆ NON-MAINT ┆ 2        │\n",
       "│ ION       ┆           ┆ STMENTS-P ┆ 7         ┆   ┆ ATION     ┆ NICAL     ┆ ENANCE    ┆          │\n",
       "│           ┆           ┆ R CAPPER  ┆ 06:03:53  ┆   ┆           ┆           ┆           ┆          │\n",
       "│           ┆           ┆ GLA…      ┆           ┆   ┆           ┆           ┆           ┆          │\n",
       "└───────────┴───────────┴───────────┴───────────┴───┴───────────┴───────────┴───────────┴──────────┘"
      ]
     },
     "metadata": {},
     "output_type": "display_data"
    }
   ],
   "source": [
    "KDT_DOWNTIME_PATH = config.data_dir / \"from_bzo\" / \"kdt_downtime_20250618.csv\"\n",
    "\n",
    "# Read all columns as strings first to handle concatenated CSVs with extra headers\n",
    "kdt_downtime_raw = pl.read_csv(\n",
    "    KDT_DOWNTIME_PATH,\n",
    "    has_header=True,\n",
    "    infer_schema_length=0  # Treat all columns as strings\n",
    ")\n",
    "\n",
    "# Filter out the extra header rows\n",
    "kdt_downtime_cleaned = kdt_downtime_raw.filter(pl.col(\"Area\") != \"Area\")\n",
    "\n",
    "# Cast 'Downtime Duration' to integer after cleaning\n",
    "kdt_downtime = kdt_downtime_cleaned.with_columns(\n",
    "    pl.col(\"Downtime Duration\").cast(pl.Int64, strict=False),\n",
    "    pl.col(\"Downtime Start (Date/Time)\").str.to_datetime(\n",
    "        format=\"%Y/%m/%d %H:%M:%S\", strict=False\n",
    "    ),\n",
    "    pl.col(\"Downtime End (Date/Time)\").str.to_datetime(\n",
    "        format=\"%Y/%m/%d %H:%M:%S\", strict=False\n",
    "    ),\n",
    ")\n",
    "\n",
    "# display(kdt_downtime_cleaned)\n",
    "display(kdt_downtime)"
   ]
  },
  {
   "cell_type": "code",
   "execution_count": null,
   "id": "aee3625f",
   "metadata": {},
   "outputs": [
    {
     "data": {
      "text/html": [
       "<div><style>\n",
       ".dataframe > thead > tr,\n",
       ".dataframe > tbody > tr {\n",
       "  text-align: right;\n",
       "  white-space: pre-wrap;\n",
       "}\n",
       "</style>\n",
       "<small>shape: (3, 7)</small><table border=\"1\" class=\"dataframe\"><thead><tr><th>Plant Number</th><th>Plant Name</th><th>Min Start</th><th>Max Start</th><th>Min End</th><th>Max End</th><th>Total Downtime Duration</th></tr><tr><td>str</td><td>str</td><td>datetime[μs]</td><td>datetime[μs]</td><td>datetime[μs]</td><td>datetime[μs]</td><td>i64</td></tr></thead><tbody><tr><td>&quot;102&quot;</td><td>&quot;COUNTRY OVEN BAKERY&quot;</td><td>2024-01-01 21:30:00</td><td>2025-06-17 23:21:01</td><td>2024-01-01 22:00:00</td><td>2025-06-17 23:50:33</td><td>161850</td></tr><tr><td>&quot;049&quot;</td><td>&quot;STATE AVENUE FOODS&quot;</td><td>2024-01-02 07:51:39</td><td>2025-06-18 00:50:36</td><td>2024-01-02 07:54:59</td><td>2025-06-18 00:51:03</td><td>633767</td></tr><tr><td>&quot;714&quot;</td><td>&quot;RCK FOODS&quot;</td><td>2024-01-02 07:58:03</td><td>2025-06-17 16:42:29</td><td>2024-01-02 07:58:58</td><td>2025-06-17 16:42:53</td><td>38084</td></tr></tbody></table></div>"
      ],
      "text/plain": [
       "shape: (3, 7)\n",
       "┌────────┬───────────────┬───────────────┬───────────────┬───────────────┬──────────────┬──────────┐\n",
       "│ Plant  ┆ Plant Name    ┆ Min Start     ┆ Max Start     ┆ Min End       ┆ Max End      ┆ Total    │\n",
       "│ Number ┆ ---           ┆ ---           ┆ ---           ┆ ---           ┆ ---          ┆ Downtime │\n",
       "│ ---    ┆ str           ┆ datetime[μs]  ┆ datetime[μs]  ┆ datetime[μs]  ┆ datetime[μs] ┆ Duration │\n",
       "│ str    ┆               ┆               ┆               ┆               ┆              ┆ ---      │\n",
       "│        ┆               ┆               ┆               ┆               ┆              ┆ i64      │\n",
       "╞════════╪═══════════════╪═══════════════╪═══════════════╪═══════════════╪══════════════╪══════════╡\n",
       "│ 102    ┆ COUNTRY OVEN  ┆ 2024-01-01    ┆ 2025-06-17    ┆ 2024-01-01    ┆ 2025-06-17   ┆ 161850   │\n",
       "│        ┆ BAKERY        ┆ 21:30:00      ┆ 23:21:01      ┆ 22:00:00      ┆ 23:50:33     ┆          │\n",
       "│ 049    ┆ STATE AVENUE  ┆ 2024-01-02    ┆ 2025-06-18    ┆ 2024-01-02    ┆ 2025-06-18   ┆ 633767   │\n",
       "│        ┆ FOODS         ┆ 07:51:39      ┆ 00:50:36      ┆ 07:54:59      ┆ 00:51:03     ┆          │\n",
       "│ 714    ┆ RCK FOODS     ┆ 2024-01-02    ┆ 2025-06-17    ┆ 2024-01-02    ┆ 2025-06-17   ┆ 38084    │\n",
       "│        ┆               ┆ 07:58:03      ┆ 16:42:29      ┆ 07:58:58      ┆ 16:42:53     ┆          │\n",
       "└────────┴───────────────┴───────────────┴───────────────┴───────────────┴──────────────┴──────────┘"
      ]
     },
     "metadata": {},
     "output_type": "display_data"
    }
   ],
   "source": [
    "# Group by Plant Number, Plant Name Inspect min and max of 'Downtime Start (Date/Time)'\n",
    "# Just trying to see the range of the data\n",
    "kdt_downtime_grouped = (\n",
    "    kdt_downtime\n",
    "    .group_by(\"Plant Number\", \"Plant Name\")\n",
    "    .agg(\n",
    "        [\n",
    "            pl.col(\"Downtime Start (Date/Time)\").min().alias(\"Min Start\"),\n",
    "            pl.col(\"Downtime Start (Date/Time)\").max().alias(\"Max Start\"),\n",
    "            pl.col(\"Downtime End (Date/Time)\").min().alias(\"Min End\"),\n",
    "            pl.col(\"Downtime End (Date/Time)\").max().alias(\"Max End\"),\n",
    "            pl.col(\"Downtime Duration\").sum().alias(\"Total Downtime Duration\")\n",
    "        ]\n",
    "    )\n",
    ")\n",
    "\n",
    "# This data set appears to be up-to-date as of June 18, 2025\n",
    "display(kdt_downtime_grouped)"
   ]
  },
  {
   "cell_type": "code",
   "execution_count": 36,
   "id": "a417ff1b",
   "metadata": {},
   "outputs": [
    {
     "name": "stderr",
     "output_type": "stream",
     "text": [
      "/var/folders/jf/198d9jm50jq0drgyhvr6ll5r5r551n/T/ipykernel_91959/518434352.py:5: DeprecationWarning: `pl.count()` is deprecated. Please use `pl.len()` instead.\n",
      "(Deprecated in version 0.20.5)\n",
      "  .agg(pl.count())\n"
     ]
    },
    {
     "data": {
      "text/html": [
       "<div><style>\n",
       ".dataframe > thead > tr,\n",
       ".dataframe > tbody > tr {\n",
       "  text-align: right;\n",
       "  white-space: pre-wrap;\n",
       "}\n",
       "</style>\n",
       "<small>shape: (153, 5)</small><table border=\"1\" class=\"dataframe\"><thead><tr><th>Plant Number</th><th>Plant Name</th><th>Line Name</th><th>Equipment Name</th><th>count</th></tr><tr><td>str</td><td>str</td><td>str</td><td>str</td><td>u32</td></tr></thead><tbody><tr><td>&quot;049&quot;</td><td>&quot;STATE AVENUE FOODS&quot;</td><td>&quot;750 Liquid Line&quot;</td><td>&quot;Capper Feed Glass- Preserves&quot;</td><td>62</td></tr><tr><td>&quot;049&quot;</td><td>&quot;STATE AVENUE FOODS&quot;</td><td>&quot;750 Liquid Line&quot;</td><td>&quot;Capper Feed Plastic- Preserves&quot;</td><td>127</td></tr><tr><td>&quot;049&quot;</td><td>&quot;STATE AVENUE FOODS&quot;</td><td>&quot;750 Liquid Line&quot;</td><td>&quot;Capper Glass- Preserves&quot;</td><td>1181</td></tr><tr><td>&quot;049&quot;</td><td>&quot;STATE AVENUE FOODS&quot;</td><td>&quot;750 Liquid Line&quot;</td><td>&quot;Capper Glass- Red Sauce&quot;</td><td>15</td></tr><tr><td>&quot;049&quot;</td><td>&quot;STATE AVENUE FOODS&quot;</td><td>&quot;750 Liquid Line&quot;</td><td>&quot;Capper Plastic- Preserves&quot;</td><td>536</td></tr><tr><td>&quot;049&quot;</td><td>&quot;STATE AVENUE FOODS&quot;</td><td>&quot;750 Liquid Line&quot;</td><td>&quot;Case Packer- Preserves&quot;</td><td>632</td></tr><tr><td>&quot;049&quot;</td><td>&quot;STATE AVENUE FOODS&quot;</td><td>&quot;750 Liquid Line&quot;</td><td>&quot;Case Sealer- Preserves&quot;</td><td>83</td></tr><tr><td>&quot;049&quot;</td><td>&quot;STATE AVENUE FOODS&quot;</td><td>&quot;750 Liquid Line&quot;</td><td>&quot;Changeover- Preserves&quot;</td><td>199</td></tr><tr><td>&quot;049&quot;</td><td>&quot;STATE AVENUE FOODS&quot;</td><td>&quot;750 Liquid Line&quot;</td><td>&quot;Code Dater- Preserves&quot;</td><td>50</td></tr><tr><td>&quot;049&quot;</td><td>&quot;STATE AVENUE FOODS&quot;</td><td>&quot;750 Liquid Line&quot;</td><td>&quot;Conveyors- Preserves&quot;</td><td>6007</td></tr><tr><td>&hellip;</td><td>&hellip;</td><td>&hellip;</td><td>&hellip;</td><td>&hellip;</td></tr><tr><td>&quot;714&quot;</td><td>&quot;RCK FOODS&quot;</td><td>&quot;Deli Modern&quot;</td><td>&quot;Multivac 2&quot;</td><td>2</td></tr><tr><td>&quot;714&quot;</td><td>&quot;RCK FOODS&quot;</td><td>&quot;Deli Modern&quot;</td><td>&quot;Orics&quot;</td><td>470</td></tr><tr><td>&quot;714&quot;</td><td>&quot;RCK FOODS&quot;</td><td>&quot;Deli Oric 2&quot;</td><td>&quot;General&quot;</td><td>46</td></tr><tr><td>&quot;714&quot;</td><td>&quot;RCK FOODS&quot;</td><td>&quot;Deli Oric 2&quot;</td><td>&quot;Multivac 2&quot;</td><td>11</td></tr><tr><td>&quot;714&quot;</td><td>&quot;RCK FOODS&quot;</td><td>&quot;Deli Oric 2&quot;</td><td>&quot;Orics&quot;</td><td>1047</td></tr><tr><td>&quot;714&quot;</td><td>&quot;RCK FOODS&quot;</td><td>&quot;Soup Modern&quot;</td><td>&quot;Cup Filler&quot;</td><td>5370</td></tr><tr><td>&quot;714&quot;</td><td>&quot;RCK FOODS&quot;</td><td>&quot;Soup Modern&quot;</td><td>&quot;Cup Metal Detector&quot;</td><td>27</td></tr><tr><td>&quot;714&quot;</td><td>&quot;RCK FOODS&quot;</td><td>&quot;Soup Modern&quot;</td><td>&quot;General&quot;</td><td>66</td></tr><tr><td>&quot;714&quot;</td><td>&quot;RCK FOODS&quot;</td><td>&quot;Soup Modern&quot;</td><td>&quot;Multivac 2&quot;</td><td>26</td></tr><tr><td>&quot;714&quot;</td><td>&quot;RCK FOODS&quot;</td><td>&quot;Soup Modern&quot;</td><td>&quot;Orics&quot;</td><td>2</td></tr></tbody></table></div>"
      ],
      "text/plain": [
       "shape: (153, 5)\n",
       "┌──────────────┬────────────────────┬─────────────────┬────────────────────────────────┬───────┐\n",
       "│ Plant Number ┆ Plant Name         ┆ Line Name       ┆ Equipment Name                 ┆ count │\n",
       "│ ---          ┆ ---                ┆ ---             ┆ ---                            ┆ ---   │\n",
       "│ str          ┆ str                ┆ str             ┆ str                            ┆ u32   │\n",
       "╞══════════════╪════════════════════╪═════════════════╪════════════════════════════════╪═══════╡\n",
       "│ 049          ┆ STATE AVENUE FOODS ┆ 750 Liquid Line ┆ Capper Feed Glass- Preserves   ┆ 62    │\n",
       "│ 049          ┆ STATE AVENUE FOODS ┆ 750 Liquid Line ┆ Capper Feed Plastic- Preserves ┆ 127   │\n",
       "│ 049          ┆ STATE AVENUE FOODS ┆ 750 Liquid Line ┆ Capper Glass- Preserves        ┆ 1181  │\n",
       "│ 049          ┆ STATE AVENUE FOODS ┆ 750 Liquid Line ┆ Capper Glass- Red Sauce        ┆ 15    │\n",
       "│ 049          ┆ STATE AVENUE FOODS ┆ 750 Liquid Line ┆ Capper Plastic- Preserves      ┆ 536   │\n",
       "│ 049          ┆ STATE AVENUE FOODS ┆ 750 Liquid Line ┆ Case Packer- Preserves         ┆ 632   │\n",
       "│ 049          ┆ STATE AVENUE FOODS ┆ 750 Liquid Line ┆ Case Sealer- Preserves         ┆ 83    │\n",
       "│ 049          ┆ STATE AVENUE FOODS ┆ 750 Liquid Line ┆ Changeover- Preserves          ┆ 199   │\n",
       "│ 049          ┆ STATE AVENUE FOODS ┆ 750 Liquid Line ┆ Code Dater- Preserves          ┆ 50    │\n",
       "│ 049          ┆ STATE AVENUE FOODS ┆ 750 Liquid Line ┆ Conveyors- Preserves           ┆ 6007  │\n",
       "│ …            ┆ …                  ┆ …               ┆ …                              ┆ …     │\n",
       "│ 714          ┆ RCK FOODS          ┆ Deli Modern     ┆ Multivac 2                     ┆ 2     │\n",
       "│ 714          ┆ RCK FOODS          ┆ Deli Modern     ┆ Orics                          ┆ 470   │\n",
       "│ 714          ┆ RCK FOODS          ┆ Deli Oric 2     ┆ General                        ┆ 46    │\n",
       "│ 714          ┆ RCK FOODS          ┆ Deli Oric 2     ┆ Multivac 2                     ┆ 11    │\n",
       "│ 714          ┆ RCK FOODS          ┆ Deli Oric 2     ┆ Orics                          ┆ 1047  │\n",
       "│ 714          ┆ RCK FOODS          ┆ Soup Modern     ┆ Cup Filler                     ┆ 5370  │\n",
       "│ 714          ┆ RCK FOODS          ┆ Soup Modern     ┆ Cup Metal Detector             ┆ 27    │\n",
       "│ 714          ┆ RCK FOODS          ┆ Soup Modern     ┆ General                        ┆ 66    │\n",
       "│ 714          ┆ RCK FOODS          ┆ Soup Modern     ┆ Multivac 2                     ┆ 26    │\n",
       "│ 714          ┆ RCK FOODS          ┆ Soup Modern     ┆ Orics                          ┆ 2     │\n",
       "└──────────────┴────────────────────┴─────────────────┴────────────────────────────────┴───────┘"
      ]
     },
     "metadata": {},
     "output_type": "display_data"
    }
   ],
   "source": [
    "equipment = (\n",
    "    kdt_downtime\n",
    "    .filter(pl.col(\"Active Line?\") == \"YES\")\n",
    "    .group_by(\"Plant Number\", \"Plant Name\", \"Line Name\", \"Equipment Name\")\n",
    "    .agg(pl.count())\n",
    "    .sort(\"Plant Number\", \"Plant Name\", \"Line Name\", \"Equipment Name\")\n",
    ")\n",
    "\n",
    "display(equipment)"
   ]
  },
  {
   "cell_type": "code",
   "execution_count": null,
   "id": "316495e4",
   "metadata": {},
   "outputs": [
    {
     "data": {
      "text/html": [
       "<div><style>\n",
       ".dataframe > thead > tr,\n",
       ".dataframe > tbody > tr {\n",
       "  text-align: right;\n",
       "  white-space: pre-wrap;\n",
       "}\n",
       "</style>\n",
       "<small>shape: (20, 3)</small><table border=\"1\" class=\"dataframe\"><thead><tr><th>Plant Number</th><th>Plant Name</th><th>Line Name</th></tr><tr><td>str</td><td>str</td><td>str</td></tr></thead><tbody><tr><td>&quot;049&quot;</td><td>&quot;STATE AVENUE FOODS&quot;</td><td>&quot;750 Liquid Line&quot;</td></tr><tr><td>&quot;049&quot;</td><td>&quot;STATE AVENUE FOODS&quot;</td><td>&quot;752 Semi-Solid Line&quot;</td></tr><tr><td>&quot;049&quot;</td><td>&quot;STATE AVENUE FOODS&quot;</td><td>&quot;753 Bulk Semi Solid&quot;</td></tr><tr><td>&quot;049&quot;</td><td>&quot;STATE AVENUE FOODS&quot;</td><td>&quot;790 Red Sauce Line&quot;</td></tr><tr><td>&quot;049&quot;</td><td>&quot;STATE AVENUE FOODS&quot;</td><td>&quot;800 Canned Foods&quot;</td></tr><tr><td>&quot;049&quot;</td><td>&quot;STATE AVENUE FOODS&quot;</td><td>&quot;801 Pouch 1&quot;</td></tr><tr><td>&quot;049&quot;</td><td>&quot;STATE AVENUE FOODS&quot;</td><td>&quot;802 Pouch 2&quot;</td></tr><tr><td>&quot;049&quot;</td><td>&quot;STATE AVENUE FOODS&quot;</td><td>&quot;810 Institutional&quot;</td></tr><tr><td>&quot;102&quot;</td><td>&quot;COUNTRY OVEN BAKERY&quot;</td><td>&quot;Bread Line&quot;</td></tr><tr><td>&quot;102&quot;</td><td>&quot;COUNTRY OVEN BAKERY&quot;</td><td>&quot;Cake Make-Up II&quot;</td></tr><tr><td>&quot;102&quot;</td><td>&quot;COUNTRY OVEN BAKERY&quot;</td><td>&quot;Cake Make-up&quot;</td></tr><tr><td>&quot;102&quot;</td><td>&quot;COUNTRY OVEN BAKERY&quot;</td><td>&quot;Cookie Line&quot;</td></tr><tr><td>&quot;102&quot;</td><td>&quot;COUNTRY OVEN BAKERY&quot;</td><td>&quot;Danish Line&quot;</td></tr><tr><td>&quot;102&quot;</td><td>&quot;COUNTRY OVEN BAKERY&quot;</td><td>&quot;Iced Cake Layers&quot;</td></tr><tr><td>&quot;102&quot;</td><td>&quot;COUNTRY OVEN BAKERY&quot;</td><td>&quot;Roll Line&quot;</td></tr><tr><td>&quot;714&quot;</td><td>&quot;RCK FOODS&quot;</td><td>&quot;2 Lane Deli Modern&quot;</td></tr><tr><td>&quot;714&quot;</td><td>&quot;RCK FOODS&quot;</td><td>&quot;Deli Modern&quot;</td></tr><tr><td>&quot;714&quot;</td><td>&quot;RCK FOODS&quot;</td><td>&quot;Deli Oric 2&quot;</td></tr><tr><td>&quot;714&quot;</td><td>&quot;RCK FOODS&quot;</td><td>&quot;Soup Modern&quot;</td></tr><tr><td>&quot;714&quot;</td><td>&quot;RCK FOODS&quot;</td><td>&quot;Soup Rovema&quot;</td></tr></tbody></table></div>"
      ],
      "text/plain": [
       "shape: (20, 3)\n",
       "┌──────────────┬─────────────────────┬─────────────────────┐\n",
       "│ Plant Number ┆ Plant Name          ┆ Line Name           │\n",
       "│ ---          ┆ ---                 ┆ ---                 │\n",
       "│ str          ┆ str                 ┆ str                 │\n",
       "╞══════════════╪═════════════════════╪═════════════════════╡\n",
       "│ 049          ┆ STATE AVENUE FOODS  ┆ 750 Liquid Line     │\n",
       "│ 049          ┆ STATE AVENUE FOODS  ┆ 752 Semi-Solid Line │\n",
       "│ 049          ┆ STATE AVENUE FOODS  ┆ 753 Bulk Semi Solid │\n",
       "│ 049          ┆ STATE AVENUE FOODS  ┆ 790 Red Sauce Line  │\n",
       "│ 049          ┆ STATE AVENUE FOODS  ┆ 800 Canned Foods    │\n",
       "│ 049          ┆ STATE AVENUE FOODS  ┆ 801 Pouch 1         │\n",
       "│ 049          ┆ STATE AVENUE FOODS  ┆ 802 Pouch 2         │\n",
       "│ 049          ┆ STATE AVENUE FOODS  ┆ 810 Institutional   │\n",
       "│ 102          ┆ COUNTRY OVEN BAKERY ┆ Bread Line          │\n",
       "│ 102          ┆ COUNTRY OVEN BAKERY ┆ Cake Make-Up II     │\n",
       "│ 102          ┆ COUNTRY OVEN BAKERY ┆ Cake Make-up        │\n",
       "│ 102          ┆ COUNTRY OVEN BAKERY ┆ Cookie Line         │\n",
       "│ 102          ┆ COUNTRY OVEN BAKERY ┆ Danish Line         │\n",
       "│ 102          ┆ COUNTRY OVEN BAKERY ┆ Iced Cake Layers    │\n",
       "│ 102          ┆ COUNTRY OVEN BAKERY ┆ Roll Line           │\n",
       "│ 714          ┆ RCK FOODS           ┆ 2 Lane Deli Modern  │\n",
       "│ 714          ┆ RCK FOODS           ┆ Deli Modern         │\n",
       "│ 714          ┆ RCK FOODS           ┆ Deli Oric 2         │\n",
       "│ 714          ┆ RCK FOODS           ┆ Soup Modern         │\n",
       "│ 714          ┆ RCK FOODS           ┆ Soup Rovema         │\n",
       "└──────────────┴─────────────────────┴─────────────────────┘"
      ]
     },
     "metadata": {},
     "output_type": "display_data"
    }
   ],
   "source": [
    "lines = (\n",
    "    kdt_downtime\n",
    "    # .filter(pl.col(\"Active Line?\") == \"YES\")\n",
    "    .select(\"Plant Number\", \"Plant Name\", \"Line Name\")\n",
    "    .unique()\n",
    "    # .group_by(\"Plant Number\", \"Plant Name\", \"Line Name\")\n",
    "    # .agg(pl.count())\n",
    "    .sort(\"Plant Number\", \"Plant Name\", \"Line Name\")\n",
    ")\n",
    "\n",
    "# Country Oven is missing Line \"Iced Cake 1/4 Sheet\"\n",
    "# RCK is missing several\n",
    "display(lines)"
   ]
  },
  {
   "cell_type": "code",
   "execution_count": null,
   "id": "53e3f8b2",
   "metadata": {},
   "outputs": [],
   "source": []
  }
 ],
 "metadata": {
  "kernelspec": {
   "display_name": ".venv",
   "language": "python",
   "name": "python3"
  },
  "language_info": {
   "codemirror_mode": {
    "name": "ipython",
    "version": 3
   },
   "file_extension": ".py",
   "mimetype": "text/x-python",
   "name": "python",
   "nbconvert_exporter": "python",
   "pygments_lexer": "ipython3",
   "version": "3.13.2"
  }
 },
 "nbformat": 4,
 "nbformat_minor": 5
}
