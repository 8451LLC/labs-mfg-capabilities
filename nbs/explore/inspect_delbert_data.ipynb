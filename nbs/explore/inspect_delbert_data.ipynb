{
 "cells": [
  {
   "cell_type": "code",
   "execution_count": 1,
   "id": "20868301",
   "metadata": {},
   "outputs": [
    {
     "data": {
      "text/plain": [
       "polars.config.Config"
      ]
     },
     "execution_count": 1,
     "metadata": {},
     "output_type": "execute_result"
    }
   ],
   "source": [
    "import polars as pl\n",
    "\n",
    "from mfg_capabilities.config import config\n",
    "\n",
    "\n",
    "pl.Config.set_tbl_rows(10)  # to set the number of rows displayed)\n",
    "# pl.Config.set_tbl_cols(10) # to set the number of columns\n",
    "# pl.Config.set_fmt_str_lengths(50) # to set the max string length displayed"
   ]
  },
  {
   "cell_type": "code",
   "execution_count": 2,
   "id": "491f167b",
   "metadata": {},
   "outputs": [
    {
     "data": {
      "text/html": [
       "<div><style>\n",
       ".dataframe > thead > tr,\n",
       ".dataframe > tbody > tr {\n",
       "  text-align: right;\n",
       "  white-space: pre-wrap;\n",
       "}\n",
       "</style>\n",
       "<small>shape: (344, 4)</small><table border=\"1\" class=\"dataframe\"><thead><tr><th>Code</th><th>Product</th><th>Line</th><th>Standard Rate\n",
       "Cases/Min</th></tr><tr><td>str</td><td>str</td><td>str</td><td>f64</td></tr></thead><tbody><tr><td>&quot;03504&quot;</td><td>&quot;B03504 LAYTON WHEAT SUB ROLL&quot;</td><td>&quot;Roll Line&quot;</td><td>2.08</td></tr><tr><td>&quot;03505&quot;</td><td>&quot;B03505 WHEAT BOLILLO&quot;</td><td>&quot;Roll Line&quot;</td><td>2.08</td></tr><tr><td>&quot;03506&quot;</td><td>&quot;B03506 WHITE BOLILLO&quot;</td><td>&quot;Roll Line&quot;</td><td>2.08</td></tr><tr><td>&quot;18402&quot;</td><td>&quot;B18402 SGL Mint Layers&quot;</td><td>&quot;Iced Cake Layers&quot;</td><td>1.8</td></tr><tr><td>&quot;18402&quot;</td><td>&quot;B18402 SGL Mint Layers&quot;</td><td>&quot;Iced Cake Layers&quot;</td><td>1.0</td></tr><tr><td>&hellip;</td><td>&hellip;</td><td>&hellip;</td><td>&hellip;</td></tr><tr><td>&quot;26814&quot;</td><td>&quot;B26814 CINNAMON CHIP MUFFIN&quot;</td><td>&quot;Cake Make-Up II&quot;</td><td>9.375</td></tr><tr><td>&quot;26814&quot;</td><td>&quot;B26814 CINNAMON CHIP MUFFIN&quot;</td><td>&quot;Cake Make-Up II&quot;</td><td>1.0</td></tr><tr><td>&quot;26851&quot;</td><td>&quot;B26851 BROWNIE HERSHEY SHEET&quot;</td><td>&quot;Cake Make-up&quot;</td><td>3.83</td></tr><tr><td>&quot;30011&quot;</td><td>&quot;B30011 8TH &amp; VINE DBL CONFETTI&quot;</td><td>&quot;Iced Cake Layers&quot;</td><td>2.5</td></tr><tr><td>&quot;30011&quot;</td><td>&quot;B30011 8TH &amp; VINE DBL CONFETTI&quot;</td><td>&quot;Iced Cake Layers&quot;</td><td>1.0</td></tr></tbody></table></div>"
      ],
      "text/plain": [
       "shape: (344, 4)\n",
       "┌───────┬────────────────────────────────┬──────────────────┬───────────────┐\n",
       "│ Code  ┆ Product                        ┆ Line             ┆ Standard Rate │\n",
       "│ ---   ┆ ---                            ┆ ---              ┆ Cases/Min     │\n",
       "│ str   ┆ str                            ┆ str              ┆ ---           │\n",
       "│       ┆                                ┆                  ┆ f64           │\n",
       "╞═══════╪════════════════════════════════╪══════════════════╪═══════════════╡\n",
       "│ 03504 ┆ B03504 LAYTON WHEAT SUB ROLL   ┆ Roll Line        ┆ 2.08          │\n",
       "│ 03505 ┆ B03505 WHEAT BOLILLO           ┆ Roll Line        ┆ 2.08          │\n",
       "│ 03506 ┆ B03506 WHITE BOLILLO           ┆ Roll Line        ┆ 2.08          │\n",
       "│ 18402 ┆ B18402 SGL Mint Layers         ┆ Iced Cake Layers ┆ 1.8           │\n",
       "│ 18402 ┆ B18402 SGL Mint Layers         ┆ Iced Cake Layers ┆ 1.0           │\n",
       "│ …     ┆ …                              ┆ …                ┆ …             │\n",
       "│ 26814 ┆ B26814 CINNAMON CHIP MUFFIN    ┆ Cake Make-Up II  ┆ 9.375         │\n",
       "│ 26814 ┆ B26814 CINNAMON CHIP MUFFIN    ┆ Cake Make-Up II  ┆ 1.0           │\n",
       "│ 26851 ┆ B26851 BROWNIE HERSHEY SHEET   ┆ Cake Make-up     ┆ 3.83          │\n",
       "│ 30011 ┆ B30011 8TH & VINE DBL CONFETTI ┆ Iced Cake Layers ┆ 2.5           │\n",
       "│ 30011 ┆ B30011 8TH & VINE DBL CONFETTI ┆ Iced Cake Layers ┆ 1.0           │\n",
       "└───────┴────────────────────────────────┴──────────────────┴───────────────┘"
      ]
     },
     "metadata": {},
     "output_type": "display_data"
    }
   ],
   "source": [
    "# why do some of these products have two different Standard Rates?\n",
    "DELBERT_COB_PRODUCTS_PATH = config.data_dir / \"from_delbert\" / \"COB Products by Line.xls\"\n",
    "delbert_cob_products = (\n",
    "    pl.read_excel(DELBERT_COB_PRODUCTS_PATH, sheet_name=\"Sheet1\")\n",
    "    .filter(pl.col(\"Code\") != \"Print Date:\")\n",
    "    .filter(pl.col(\"Code\") != \"Country Oven Bakery\")\n",
    "    .sort(\"Product\")\n",
    ")\n",
    "display(delbert_cob_products)"
   ]
  },
  {
   "cell_type": "code",
   "execution_count": 3,
   "id": "74f224b6",
   "metadata": {},
   "outputs": [
    {
     "data": {
      "text/html": [
       "<div><style>\n",
       ".dataframe > thead > tr,\n",
       ".dataframe > tbody > tr {\n",
       "  text-align: right;\n",
       "  white-space: pre-wrap;\n",
       "}\n",
       "</style>\n",
       "<small>shape: (237, 4)</small><table border=\"1\" class=\"dataframe\"><thead><tr><th>Code</th><th>Product</th><th>Line</th><th>len</th></tr><tr><td>str</td><td>str</td><td>str</td><td>u32</td></tr></thead><tbody><tr><td>&quot;03504&quot;</td><td>&quot;B03504 LAYTON WHEAT SUB ROLL&quot;</td><td>&quot;Roll Line&quot;</td><td>1</td></tr><tr><td>&quot;03505&quot;</td><td>&quot;B03505 WHEAT BOLILLO&quot;</td><td>&quot;Roll Line&quot;</td><td>1</td></tr><tr><td>&quot;03506&quot;</td><td>&quot;B03506 WHITE BOLILLO&quot;</td><td>&quot;Roll Line&quot;</td><td>1</td></tr><tr><td>&quot;18402&quot;</td><td>&quot;B18402 SGL Mint Layers&quot;</td><td>&quot;Iced Cake Layers&quot;</td><td>2</td></tr><tr><td>&quot;18417&quot;</td><td>&quot;B18417 Choc Pudding Cake 20oz.&quot;</td><td>&quot;Cake Make-Up II&quot;</td><td>2</td></tr><tr><td>&hellip;</td><td>&hellip;</td><td>&hellip;</td><td>&hellip;</td></tr><tr><td>&quot;26810&quot;</td><td>&quot;B26810 Variety Muffins (BB/CC)&quot;</td><td>&quot;Iced Cake 1/4 Sheet&quot;</td><td>1</td></tr><tr><td>&quot;26810&quot;</td><td>&quot;B26810 Variety Muffins (BB/CC)&quot;</td><td>&quot;Iced Cake Layers&quot;</td><td>2</td></tr><tr><td>&quot;26814&quot;</td><td>&quot;B26814 CINNAMON CHIP MUFFIN&quot;</td><td>&quot;Cake Make-Up II&quot;</td><td>2</td></tr><tr><td>&quot;26851&quot;</td><td>&quot;B26851 BROWNIE HERSHEY SHEET&quot;</td><td>&quot;Cake Make-up&quot;</td><td>1</td></tr><tr><td>&quot;30011&quot;</td><td>&quot;B30011 8TH &amp; VINE DBL CONFETTI&quot;</td><td>&quot;Iced Cake Layers&quot;</td><td>2</td></tr></tbody></table></div>"
      ],
      "text/plain": [
       "shape: (237, 4)\n",
       "┌───────┬────────────────────────────────┬─────────────────────┬─────┐\n",
       "│ Code  ┆ Product                        ┆ Line                ┆ len │\n",
       "│ ---   ┆ ---                            ┆ ---                 ┆ --- │\n",
       "│ str   ┆ str                            ┆ str                 ┆ u32 │\n",
       "╞═══════╪════════════════════════════════╪═════════════════════╪═════╡\n",
       "│ 03504 ┆ B03504 LAYTON WHEAT SUB ROLL   ┆ Roll Line           ┆ 1   │\n",
       "│ 03505 ┆ B03505 WHEAT BOLILLO           ┆ Roll Line           ┆ 1   │\n",
       "│ 03506 ┆ B03506 WHITE BOLILLO           ┆ Roll Line           ┆ 1   │\n",
       "│ 18402 ┆ B18402 SGL Mint Layers         ┆ Iced Cake Layers    ┆ 2   │\n",
       "│ 18417 ┆ B18417 Choc Pudding Cake 20oz. ┆ Cake Make-Up II     ┆ 2   │\n",
       "│ …     ┆ …                              ┆ …                   ┆ …   │\n",
       "│ 26810 ┆ B26810 Variety Muffins (BB/CC) ┆ Iced Cake 1/4 Sheet ┆ 1   │\n",
       "│ 26810 ┆ B26810 Variety Muffins (BB/CC) ┆ Iced Cake Layers    ┆ 2   │\n",
       "│ 26814 ┆ B26814 CINNAMON CHIP MUFFIN    ┆ Cake Make-Up II     ┆ 2   │\n",
       "│ 26851 ┆ B26851 BROWNIE HERSHEY SHEET   ┆ Cake Make-up        ┆ 1   │\n",
       "│ 30011 ┆ B30011 8TH & VINE DBL CONFETTI ┆ Iced Cake Layers    ┆ 2   │\n",
       "└───────┴────────────────────────────────┴─────────────────────┴─────┘"
      ]
     },
     "metadata": {},
     "output_type": "display_data"
    }
   ],
   "source": [
    "delbert_cob_products_count = (\n",
    "    delbert_cob_products\n",
    "    .group_by(\"Code\", \"Product\", \"Line\")\n",
    "    .len()\n",
    "    .sort(\"Product\", \"Line\")\n",
    ")\n",
    "display(delbert_cob_products_count)"
   ]
  },
  {
   "cell_type": "code",
   "execution_count": 4,
   "id": "7cd43fb5",
   "metadata": {},
   "outputs": [
    {
     "data": {
      "text/html": [
       "<div><style>\n",
       ".dataframe > thead > tr,\n",
       ".dataframe > tbody > tr {\n",
       "  text-align: right;\n",
       "  white-space: pre-wrap;\n",
       "}\n",
       "</style>\n",
       "<small>shape: (8, 1)</small><table border=\"1\" class=\"dataframe\"><thead><tr><th>Line</th></tr><tr><td>str</td></tr></thead><tbody><tr><td>&quot;Bread Line&quot;</td></tr><tr><td>&quot;Cake Make-Up II&quot;</td></tr><tr><td>&quot;Cake Make-up&quot;</td></tr><tr><td>&quot;Cookie Line&quot;</td></tr><tr><td>&quot;Danish Line&quot;</td></tr><tr><td>&quot;Iced Cake 1/4 Sheet&quot;</td></tr><tr><td>&quot;Iced Cake Layers&quot;</td></tr><tr><td>&quot;Roll Line&quot;</td></tr></tbody></table></div>"
      ],
      "text/plain": [
       "shape: (8, 1)\n",
       "┌─────────────────────┐\n",
       "│ Line                │\n",
       "│ ---                 │\n",
       "│ str                 │\n",
       "╞═════════════════════╡\n",
       "│ Bread Line          │\n",
       "│ Cake Make-Up II     │\n",
       "│ Cake Make-up        │\n",
       "│ Cookie Line         │\n",
       "│ Danish Line         │\n",
       "│ Iced Cake 1/4 Sheet │\n",
       "│ Iced Cake Layers    │\n",
       "│ Roll Line           │\n",
       "└─────────────────────┘"
      ]
     },
     "metadata": {},
     "output_type": "display_data"
    }
   ],
   "source": [
    "lines = (\n",
    "    delbert_cob_products\n",
    "    .select(\"Line\")\n",
    "    .unique()\n",
    "    .sort(\"Line\")\n",
    ")\n",
    "display(lines)"
   ]
  },
  {
   "cell_type": "code",
   "execution_count": 5,
   "id": "bf4e9658",
   "metadata": {},
   "outputs": [
    {
     "data": {
      "text/html": [
       "<div><style>\n",
       ".dataframe > thead > tr,\n",
       ".dataframe > tbody > tr {\n",
       "  text-align: right;\n",
       "  white-space: pre-wrap;\n",
       "}\n",
       "</style>\n",
       "<small>shape: (12_878, 12)</small><table border=\"1\" class=\"dataframe\"><thead><tr><th>Line</th><th>Prod Date </th><th>Equipment </th><th>Equipment Instance</th><th>Downtime Description</th><th>Start Time</th><th>End Time</th><th>Product</th><th>Operator</th><th>Min.</th><th>Notes</th><th>Maintenance Type</th></tr><tr><td>str</td><td>date</td><td>str</td><td>str</td><td>str</td><td>datetime[ms]</td><td>datetime[ms]</td><td>str</td><td>str</td><td>f64</td><td>str</td><td>str</td></tr></thead><tbody><tr><td>&quot;Bread Line&quot;</td><td>2025-02-02</td><td>&quot;General&quot;</td><td>&quot;General&quot;</td><td>&quot;Not Scheduled&quot;</td><td>2025-02-02 04:30:00</td><td>2025-02-02 16:30:00</td><td>&quot;B19180 SWEET ITALIAN STIX&quot;</td><td>&quot;MIRANDA, GERSON&quot;</td><td>720.0</td><td>null</td><td>&quot;Not Scheduled&quot;</td></tr><tr><td>&quot;Bread Line&quot;</td><td>2025-02-02</td><td>&quot;General&quot;</td><td>&quot;General&quot;</td><td>&quot;Not Scheduled&quot;</td><td>2025-02-02 16:30:00</td><td>2025-02-03 04:30:00</td><td>&quot;B19180 SWEET ITALIAN STIX&quot;</td><td>&quot;MIRANDA, GERSON&quot;</td><td>720.0</td><td>null</td><td>&quot;Not Scheduled&quot;</td></tr><tr><td>&quot;Bread Line&quot;</td><td>2025-02-03</td><td>&quot;General&quot;</td><td>&quot;General&quot;</td><td>&quot;Setup&quot;</td><td>2025-02-03 04:30:00</td><td>2025-02-03 04:44:44</td><td>&quot;B19180 SWEET ITALIAN STIX&quot;</td><td>&quot;MIRANDA, GERSON&quot;</td><td>14.733333</td><td>null</td><td>&quot;Planned Downtime&quot;</td></tr><tr><td>&quot;Bread Line&quot;</td><td>2025-02-03</td><td>&quot;General&quot;</td><td>&quot;General&quot;</td><td>&quot;Setup&quot;</td><td>2025-02-03 04:44:44</td><td>2025-02-03 05:05:34</td><td>&quot;B19011 ITALIAN BREAD&quot;</td><td>&quot;MIRANDA, GERSON&quot;</td><td>20.833333</td><td>null</td><td>&quot;Planned Downtime&quot;</td></tr><tr><td>&quot;Bread Line&quot;</td><td>2025-02-03</td><td>&quot;Bread/Roll Mixer #2&quot;</td><td>&quot;Bread/Roll Mixer #2&quot;</td><td>&quot;Mechanical Failure&quot;</td><td>2025-02-03 05:12:24</td><td>2025-02-03 05:22:52</td><td>&quot;B19011 ITALIAN BREAD&quot;</td><td>&quot;MIRANDA, GERSON&quot;</td><td>10.466667</td><td>null</td><td>&quot;Not Scheduled&quot;</td></tr><tr><td>&hellip;</td><td>&hellip;</td><td>&hellip;</td><td>&hellip;</td><td>&hellip;</td><td>&hellip;</td><td>&hellip;</td><td>&hellip;</td><td>&hellip;</td><td>&hellip;</td><td>&hellip;</td><td>&hellip;</td></tr><tr><td>&quot;Roll Line&quot;</td><td>2025-05-15</td><td>&quot;General&quot;</td><td>&quot;General&quot;</td><td>&quot;Not Scheduled&quot;</td><td>2025-05-15 16:30:00</td><td>2025-05-16 04:30:00</td><td>&quot;B03505 WHEAT BOLILLO&quot;</td><td>&quot;Non-User&quot;</td><td>720.0</td><td>null</td><td>&quot;Not Scheduled&quot;</td></tr><tr><td>&quot;Roll Line&quot;</td><td>2025-05-16</td><td>&quot;General&quot;</td><td>&quot;General&quot;</td><td>&quot;Not Scheduled&quot;</td><td>2025-05-16 04:30:00</td><td>2025-05-16 16:30:00</td><td>&quot;B03505 WHEAT BOLILLO&quot;</td><td>&quot;HILLIS , SHELLY&quot;</td><td>720.0</td><td>null</td><td>&quot;Not Scheduled&quot;</td></tr><tr><td>&quot;Roll Line&quot;</td><td>2025-05-16</td><td>&quot;General&quot;</td><td>&quot;General&quot;</td><td>&quot;Not Scheduled&quot;</td><td>2025-05-16 16:30:00</td><td>2025-05-17 04:30:00</td><td>&quot;B03505 WHEAT BOLILLO&quot;</td><td>&quot;HILLIS , SHELLY&quot;</td><td>720.0</td><td>null</td><td>&quot;Not Scheduled&quot;</td></tr><tr><td>&quot;Roll Line&quot;</td><td>2025-05-17</td><td>&quot;General&quot;</td><td>&quot;General&quot;</td><td>&quot;Not Scheduled&quot;</td><td>2025-05-17 04:30:00</td><td>2025-05-17 16:30:00</td><td>&quot;B03505 WHEAT BOLILLO&quot;</td><td>&quot;HILLIS , SHELLY&quot;</td><td>720.0</td><td>null</td><td>&quot;Not Scheduled&quot;</td></tr><tr><td>&quot;Roll Line&quot;</td><td>2025-05-17</td><td>&quot;General&quot;</td><td>&quot;General&quot;</td><td>&quot;Not Scheduled&quot;</td><td>2025-05-17 16:30:00</td><td>2025-05-18 04:30:00</td><td>&quot;B03505 WHEAT BOLILLO&quot;</td><td>&quot;HILLIS , SHELLY&quot;</td><td>720.0</td><td>null</td><td>&quot;Not Scheduled&quot;</td></tr></tbody></table></div>"
      ],
      "text/plain": [
       "shape: (12_878, 12)\n",
       "┌────────────┬────────────┬────────────┬───────────┬───┬───────────┬───────────┬───────┬───────────┐\n",
       "│ Line       ┆ Prod Date  ┆ Equipment  ┆ Equipment ┆ … ┆ Operator  ┆ Min.      ┆ Notes ┆ Maintenan │\n",
       "│ ---        ┆ ---        ┆ ---        ┆ Instance  ┆   ┆ ---       ┆ ---       ┆ ---   ┆ ce Type   │\n",
       "│ str        ┆ date       ┆ str        ┆ ---       ┆   ┆ str       ┆ f64       ┆ str   ┆ ---       │\n",
       "│            ┆            ┆            ┆ str       ┆   ┆           ┆           ┆       ┆ str       │\n",
       "╞════════════╪════════════╪════════════╪═══════════╪═══╪═══════════╪═══════════╪═══════╪═══════════╡\n",
       "│ Bread Line ┆ 2025-02-02 ┆ General    ┆ General   ┆ … ┆ MIRANDA,  ┆ 720.0     ┆ null  ┆ Not       │\n",
       "│            ┆            ┆            ┆           ┆   ┆ GERSON    ┆           ┆       ┆ Scheduled │\n",
       "│ Bread Line ┆ 2025-02-02 ┆ General    ┆ General   ┆ … ┆ MIRANDA,  ┆ 720.0     ┆ null  ┆ Not       │\n",
       "│            ┆            ┆            ┆           ┆   ┆ GERSON    ┆           ┆       ┆ Scheduled │\n",
       "│ Bread Line ┆ 2025-02-03 ┆ General    ┆ General   ┆ … ┆ MIRANDA,  ┆ 14.733333 ┆ null  ┆ Planned   │\n",
       "│            ┆            ┆            ┆           ┆   ┆ GERSON    ┆           ┆       ┆ Downtime  │\n",
       "│ Bread Line ┆ 2025-02-03 ┆ General    ┆ General   ┆ … ┆ MIRANDA,  ┆ 20.833333 ┆ null  ┆ Planned   │\n",
       "│            ┆            ┆            ┆           ┆   ┆ GERSON    ┆           ┆       ┆ Downtime  │\n",
       "│ Bread Line ┆ 2025-02-03 ┆ Bread/Roll ┆ Bread/Rol ┆ … ┆ MIRANDA,  ┆ 10.466667 ┆ null  ┆ Not       │\n",
       "│            ┆            ┆ Mixer #2   ┆ l Mixer   ┆   ┆ GERSON    ┆           ┆       ┆ Scheduled │\n",
       "│            ┆            ┆            ┆ #2        ┆   ┆           ┆           ┆       ┆           │\n",
       "│ …          ┆ …          ┆ …          ┆ …         ┆ … ┆ …         ┆ …         ┆ …     ┆ …         │\n",
       "│ Roll Line  ┆ 2025-05-15 ┆ General    ┆ General   ┆ … ┆ Non-User  ┆ 720.0     ┆ null  ┆ Not       │\n",
       "│            ┆            ┆            ┆           ┆   ┆           ┆           ┆       ┆ Scheduled │\n",
       "│ Roll Line  ┆ 2025-05-16 ┆ General    ┆ General   ┆ … ┆ HILLIS ,  ┆ 720.0     ┆ null  ┆ Not       │\n",
       "│            ┆            ┆            ┆           ┆   ┆ SHELLY    ┆           ┆       ┆ Scheduled │\n",
       "│ Roll Line  ┆ 2025-05-16 ┆ General    ┆ General   ┆ … ┆ HILLIS ,  ┆ 720.0     ┆ null  ┆ Not       │\n",
       "│            ┆            ┆            ┆           ┆   ┆ SHELLY    ┆           ┆       ┆ Scheduled │\n",
       "│ Roll Line  ┆ 2025-05-17 ┆ General    ┆ General   ┆ … ┆ HILLIS ,  ┆ 720.0     ┆ null  ┆ Not       │\n",
       "│            ┆            ┆            ┆           ┆   ┆ SHELLY    ┆           ┆       ┆ Scheduled │\n",
       "│ Roll Line  ┆ 2025-05-17 ┆ General    ┆ General   ┆ … ┆ HILLIS ,  ┆ 720.0     ┆ null  ┆ Not       │\n",
       "│            ┆            ┆            ┆           ┆   ┆ SHELLY    ┆           ┆       ┆ Scheduled │\n",
       "└────────────┴────────────┴────────────┴───────────┴───┴───────────┴───────────┴───────┴───────────┘"
      ]
     },
     "metadata": {},
     "output_type": "display_data"
    }
   ],
   "source": [
    "DELBERT_COB_KDT_PATH = PROJECT_ROOT / \"data\" / \"from_delbert\" / \"YTD Downtimes with Timestamps and comments_report_7.xls\"\n",
    "DOWNTIME_DATA_SHEET = \"Data\"\n",
    "delbert_cob_downtime = pl.read_excel(DELBERT_COB_KDT_PATH, sheet_name=DOWNTIME_DATA_SHEET)\n",
    "display(delbert_cob_downtime)"
   ]
  },
  {
   "cell_type": "code",
   "execution_count": 6,
   "id": "01bd7a46",
   "metadata": {},
   "outputs": [
    {
     "data": {
      "text/html": [
       "<div><style>\n",
       ".dataframe > thead > tr,\n",
       ".dataframe > tbody > tr {\n",
       "  text-align: right;\n",
       "  white-space: pre-wrap;\n",
       "}\n",
       "</style>\n",
       "<small>shape: (127, 3)</small><table border=\"1\" class=\"dataframe\"><thead><tr><th>Line</th><th>Product</th><th>len</th></tr><tr><td>str</td><td>str</td><td>u32</td></tr></thead><tbody><tr><td>&quot;Bread Line&quot;</td><td>&quot;B19011 ITALIAN BREAD&quot;</td><td>422</td></tr><tr><td>&quot;Bread Line&quot;</td><td>&quot;B19017 COUNTRY FRENCH&quot;</td><td>255</td></tr><tr><td>&quot;Bread Line&quot;</td><td>&quot;B19019 SEEDED RYE BREAD&quot;</td><td>38</td></tr><tr><td>&quot;Bread Line&quot;</td><td>&quot;B19068 PUMPERNICKEL BREAD&quot;</td><td>52</td></tr><tr><td>&quot;Bread Line&quot;</td><td>&quot;B19100 FRENCH STIX&quot;</td><td>11</td></tr><tr><td>&hellip;</td><td>&hellip;</td><td>&hellip;</td></tr><tr><td>&quot;Iced Cake Layers&quot;</td><td>&quot;B19839 BASE ICED WHITE&quot;</td><td>14</td></tr><tr><td>&quot;Iced Cake Layers&quot;</td><td>&quot;B26810 Variety Muffins (BB/CC)&quot;</td><td>4</td></tr><tr><td>&quot;Roll Line&quot;</td><td>&quot;B03505 WHEAT BOLILLO&quot;</td><td>263</td></tr><tr><td>&quot;Roll Line&quot;</td><td>&quot;B03506 WHITE BOLILLO&quot;</td><td>373</td></tr><tr><td>&quot;Roll Line&quot;</td><td>&quot;B19209 YEASTY&quot;</td><td>119</td></tr></tbody></table></div>"
      ],
      "text/plain": [
       "shape: (127, 3)\n",
       "┌──────────────────┬────────────────────────────────┬─────┐\n",
       "│ Line             ┆ Product                        ┆ len │\n",
       "│ ---              ┆ ---                            ┆ --- │\n",
       "│ str              ┆ str                            ┆ u32 │\n",
       "╞══════════════════╪════════════════════════════════╪═════╡\n",
       "│ Bread Line       ┆ B19011 ITALIAN BREAD           ┆ 422 │\n",
       "│ Bread Line       ┆ B19017 COUNTRY FRENCH          ┆ 255 │\n",
       "│ Bread Line       ┆ B19019 SEEDED RYE BREAD        ┆ 38  │\n",
       "│ Bread Line       ┆ B19068 PUMPERNICKEL BREAD      ┆ 52  │\n",
       "│ Bread Line       ┆ B19100 FRENCH STIX             ┆ 11  │\n",
       "│ …                ┆ …                              ┆ …   │\n",
       "│ Iced Cake Layers ┆ B19839 BASE ICED WHITE         ┆ 14  │\n",
       "│ Iced Cake Layers ┆ B26810 Variety Muffins (BB/CC) ┆ 4   │\n",
       "│ Roll Line        ┆ B03505 WHEAT BOLILLO           ┆ 263 │\n",
       "│ Roll Line        ┆ B03506 WHITE BOLILLO           ┆ 373 │\n",
       "│ Roll Line        ┆ B19209 YEASTY                  ┆ 119 │\n",
       "└──────────────────┴────────────────────────────────┴─────┘"
      ]
     },
     "metadata": {},
     "output_type": "display_data"
    }
   ],
   "source": [
    "line_product = (\n",
    "    delbert_cob_downtime\n",
    "    .group_by(\"Line\", \"Product\")\n",
    "    .agg(pl.len())\n",
    "    .filter(pl.col(\"Product\") != \"NONE\")\n",
    "    .sort(\"Line\", \"Product\")\n",
    ")\n",
    "display(line_product)"
   ]
  },
  {
   "cell_type": "code",
   "execution_count": 7,
   "id": "70234d8b",
   "metadata": {},
   "outputs": [
    {
     "data": {
      "text/html": [
       "<div><style>\n",
       ".dataframe > thead > tr,\n",
       ".dataframe > tbody > tr {\n",
       "  text-align: right;\n",
       "  white-space: pre-wrap;\n",
       "}\n",
       "</style>\n",
       "<small>shape: (1_523, 4)</small><table border=\"1\" class=\"dataframe\"><thead><tr><th>Line</th><th>Product</th><th>Equipment Instance</th><th>len</th></tr><tr><td>str</td><td>str</td><td>str</td><td>u32</td></tr></thead><tbody><tr><td>&quot;Bread Line&quot;</td><td>&quot;B19011 ITALIAN BREAD&quot;</td><td>&quot;Bread Bag Inserter&quot;</td><td>1</td></tr><tr><td>&quot;Bread Line&quot;</td><td>&quot;B19011 ITALIAN BREAD&quot;</td><td>&quot;Bread Changeover&quot;</td><td>4</td></tr><tr><td>&quot;Bread Line&quot;</td><td>&quot;B19011 ITALIAN BREAD&quot;</td><td>&quot;Bread Chunker&quot;</td><td>7</td></tr><tr><td>&quot;Bread Line&quot;</td><td>&quot;B19011 ITALIAN BREAD&quot;</td><td>&quot;Bread Divider&quot;</td><td>16</td></tr><tr><td>&quot;Bread Line&quot;</td><td>&quot;B19011 ITALIAN BREAD&quot;</td><td>&quot;Bread Moulder&quot;</td><td>3</td></tr><tr><td>&hellip;</td><td>&hellip;</td><td>&hellip;</td><td>&hellip;</td></tr><tr><td>&quot;Roll Line&quot;</td><td>&quot;B19209 YEASTY&quot;</td><td>&quot;Roll Sheeter&quot;</td><td>6</td></tr><tr><td>&quot;Roll Line&quot;</td><td>&quot;B19209 YEASTY&quot;</td><td>&quot;Spiral Freezer&quot;</td><td>2</td></tr><tr><td>&quot;Roll Line&quot;</td><td>&quot;B19209 YEASTY&quot;</td><td>&quot;Sugar System&quot;</td><td>1</td></tr><tr><td>&quot;Roll Line&quot;</td><td>&quot;B19209 YEASTY&quot;</td><td>&quot;Water System&quot;</td><td>1</td></tr><tr><td>&quot;Roll Line&quot;</td><td>&quot;NONE&quot;</td><td>&quot;General&quot;</td><td>5</td></tr></tbody></table></div>"
      ],
      "text/plain": [
       "shape: (1_523, 4)\n",
       "┌────────────┬──────────────────────┬────────────────────┬─────┐\n",
       "│ Line       ┆ Product              ┆ Equipment Instance ┆ len │\n",
       "│ ---        ┆ ---                  ┆ ---                ┆ --- │\n",
       "│ str        ┆ str                  ┆ str                ┆ u32 │\n",
       "╞════════════╪══════════════════════╪════════════════════╪═════╡\n",
       "│ Bread Line ┆ B19011 ITALIAN BREAD ┆ Bread Bag Inserter ┆ 1   │\n",
       "│ Bread Line ┆ B19011 ITALIAN BREAD ┆ Bread Changeover   ┆ 4   │\n",
       "│ Bread Line ┆ B19011 ITALIAN BREAD ┆ Bread Chunker      ┆ 7   │\n",
       "│ Bread Line ┆ B19011 ITALIAN BREAD ┆ Bread Divider      ┆ 16  │\n",
       "│ Bread Line ┆ B19011 ITALIAN BREAD ┆ Bread Moulder      ┆ 3   │\n",
       "│ …          ┆ …                    ┆ …                  ┆ …   │\n",
       "│ Roll Line  ┆ B19209 YEASTY        ┆ Roll Sheeter       ┆ 6   │\n",
       "│ Roll Line  ┆ B19209 YEASTY        ┆ Spiral Freezer     ┆ 2   │\n",
       "│ Roll Line  ┆ B19209 YEASTY        ┆ Sugar System       ┆ 1   │\n",
       "│ Roll Line  ┆ B19209 YEASTY        ┆ Water System       ┆ 1   │\n",
       "│ Roll Line  ┆ NONE                 ┆ General            ┆ 5   │\n",
       "└────────────┴──────────────────────┴────────────────────┴─────┘"
      ]
     },
     "metadata": {},
     "output_type": "display_data"
    }
   ],
   "source": [
    "line_product_equip = (\n",
    "    delbert_cob_downtime\n",
    "    .group_by(\"Line\", \"Product\", \"Equipment Instance\")\n",
    "    .agg(pl.len())\n",
    "    .sort(\"Line\", \"Product\", \"Equipment Instance\")\n",
    ")\n",
    "display(line_product_equip)"
   ]
  },
  {
   "cell_type": "code",
   "execution_count": 10,
   "id": "e23a2b3b",
   "metadata": {},
   "outputs": [],
   "source": [
    "# DOWNTIME_BY_LINE_SHEET = \"Downtime by line and equipment\" # pivot table in excel\n",
    "# delbert_downtime_by_line_sheet = pl.read_excel(\n",
    "#     DELBERT_COB_KDT_PATH,\n",
    "#     sheet_name=DOWNTIME_BY_LINE_SHEET,\n",
    "# )\n",
    "# display(delbert_downtime_by_line_sheet)"
   ]
  },
  {
   "cell_type": "code",
   "execution_count": 11,
   "id": "1c488614",
   "metadata": {},
   "outputs": [],
   "source": [
    "# EQUIPMENT_BY_LINE_SHEET = \"KDT equipment by line\" # pivot table in excel\n",
    "# delbert_equipment_by_line_sheet = pl.read_excel(\n",
    "#     DELBERT_COB_KDT_PATH,\n",
    "#     sheet_name=EQUIPMENT_BY_LINE_SHEET,\n",
    "# )\n",
    "# display(delbert_equipment_by_line_sheet)"
   ]
  }
 ],
 "metadata": {
  "kernelspec": {
   "display_name": ".venv",
   "language": "python",
   "name": "python3"
  },
  "language_info": {
   "codemirror_mode": {
    "name": "ipython",
    "version": 3
   },
   "file_extension": ".py",
   "mimetype": "text/x-python",
   "name": "python",
   "nbconvert_exporter": "python",
   "pygments_lexer": "ipython3",
   "version": "3.13.2"
  }
 },
 "nbformat": 4,
 "nbformat_minor": 5
}
