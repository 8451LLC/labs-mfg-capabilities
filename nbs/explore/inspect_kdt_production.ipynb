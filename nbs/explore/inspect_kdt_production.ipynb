{
 "cells": [
  {
   "cell_type": "code",
   "execution_count": 1,
   "id": "215ec4ba",
   "metadata": {},
   "outputs": [
    {
     "data": {
      "text/plain": [
       "polars.config.Config"
      ]
     },
     "execution_count": 1,
     "metadata": {},
     "output_type": "execute_result"
    }
   ],
   "source": [
    "import polars as pl\n",
    "\n",
    "from mfg_capabilities.config import config\n",
    "\n",
    "\n",
    "pl.Config.set_tbl_rows(40)  # to set the number of rows displayed)\n",
    "# pl.Config.set_tbl_cols(10) # to set the number of columns\n",
    "# pl.Config.set_fmt_str_lengths(50) # to set the max string length displayed"
   ]
  },
  {
   "cell_type": "code",
   "execution_count": 2,
   "id": "23d7a11c",
   "metadata": {},
   "outputs": [
    {
     "data": {
      "text/html": [
       "<div><style>\n",
       ".dataframe > thead > tr,\n",
       ".dataframe > tbody > tr {\n",
       "  text-align: right;\n",
       "  white-space: pre-wrap;\n",
       "}\n",
       "</style>\n",
       "<small>shape: (7_432, 6)</small><table border=\"1\" class=\"dataframe\"><thead><tr><th>Active Line?</th><th>Area</th><th>Equipment</th><th>Line Name</th><th>Plant Name</th><th>Plant Number</th></tr><tr><td>str</td><td>str</td><td>str</td><td>str</td><td>str</td><td>str</td></tr></thead><tbody><tr><td>&quot;YES&quot;</td><td>&quot;BUNS&quot;</td><td>&quot;GENERAL&quot;</td><td>&quot;BUN LINE&quot;</td><td>&quot;INDIANAPOLIS BAKERY&quot;</td><td>&quot;005&quot;</td></tr><tr><td>&quot;NO&quot;</td><td>&quot;PROCESSING&quot;</td><td>&quot;GENERAL&quot;</td><td>&quot;1 LB GOGLIO&quot;</td><td>&quot;PONTIAC FOODS&quot;</td><td>&quot;042&quot;</td></tr><tr><td>&quot;YES&quot;</td><td>&quot;DISTRIBUTION&quot;</td><td>&quot;GENERAL&quot;</td><td>&quot;DM1 - STICK PACK&quot;</td><td>&quot;KENLAKE FOODS&quot;</td><td>&quot;043&quot;</td></tr><tr><td>&quot;YES&quot;</td><td>&quot;DISTRIBUTION&quot;</td><td>&quot;GENERAL&quot;</td><td>&quot;EXTRACT&quot;</td><td>&quot;TARA FOODS&quot;</td><td>&quot;046&quot;</td></tr><tr><td>&quot;YES&quot;</td><td>&quot;DISTRIBUTION&quot;</td><td>&quot;GENERAL&quot;</td><td>&quot;752 SEMI-SOLID LINE&quot;</td><td>&quot;STATE AVENUE FOODS&quot;</td><td>&quot;049&quot;</td></tr><tr><td>&quot;YES&quot;</td><td>&quot;NOVELTIES&quot;</td><td>&quot;GENERAL&quot;</td><td>&quot;19 - SANDWICH 1&quot;</td><td>&quot;CROSSROAD FARMS DAIRY&quot;</td><td>&quot;052&quot;</td></tr><tr><td>&quot;YES&quot;</td><td>&quot;CULTURE&quot;</td><td>&quot;GENERAL&quot;</td><td>&quot;CUP FILLER&quot;</td><td>&quot;VANDERVOORT&quot;</td><td>&quot;053&quot;</td></tr><tr><td>&quot;NO&quot;</td><td>&quot;MUFFINS&quot;</td><td>&quot;GENERAL&quot;</td><td>&quot;FEDERAL FILLER 3&quot;</td><td>&quot;WESTOVER&quot;</td><td>&quot;054&quot;</td></tr><tr><td>&quot;YES&quot;</td><td>&quot;DAIRY FLUID&quot;</td><td>&quot;GENERAL&quot;</td><td>&quot;FEDERAL 1&quot;</td><td>&quot;TAMARACK FARMS DAIRY&quot;</td><td>&quot;055&quot;</td></tr><tr><td>&quot;YES&quot;</td><td>&quot;CULTURE&quot;</td><td>&quot;GENERAL&quot;</td><td>&quot;MODERN&quot;</td><td>&quot;MICHIGAN DAIRY&quot;</td><td>&quot;056&quot;</td></tr><tr><td>&quot;YES&quot;</td><td>&quot;DAIRY FLUID&quot;</td><td>&quot;GENERAL&quot;</td><td>&quot;SMALL BOTTLE&quot;</td><td>&quot;JACKSON DAIRY&quot;</td><td>&quot;070&quot;</td></tr><tr><td>&quot;YES&quot;</td><td>&quot;BUNS&quot;</td><td>&quot;GENERAL&quot;</td><td>&quot;ROLL LINE&quot;</td><td>&quot;ANDERSON BAKERY&quot;</td><td>&quot;101&quot;</td></tr><tr><td>&quot;NO&quot;</td><td>&quot;*INTERNAL REPORTING*&quot;</td><td>&quot;GENERAL&quot;</td><td>&quot;ALL LINES&quot;</td><td>&quot;COUNTRY OVEN BAKERY&quot;</td><td>&quot;102&quot;</td></tr><tr><td>&quot;NO&quot;</td><td>&quot;PROCESS &quot;</td><td>&quot;GENERAL&quot;</td><td>&quot;LINE 01 IWS&quot;</td><td>&quot;PACE INDIANA&quot;</td><td>&quot;177&quot;</td></tr><tr><td>&quot;YES&quot;</td><td>&quot;SALAD&quot;</td><td>&quot;GENERAL&quot;</td><td>&quot;SALADS IN-LINE FILLER&quot;</td><td>&quot;K.B. SPECIALTY FOODS&quot;</td><td>&quot;192&quot;</td></tr><tr><td>&quot;YES&quot;</td><td>&quot;PROCESSING&quot;</td><td>&quot;GENERAL&quot;</td><td>&quot;L-1 PACKAGING&quot;</td><td>&quot;DELIGHT PRODUCTS&quot;</td><td>&quot;221&quot;</td></tr><tr><td>&quot;YES&quot;</td><td>&quot;BLOWMOLD&quot;</td><td>&quot;GENERAL&quot;</td><td>&quot;BLOWMOLD 1&quot;</td><td>&quot;HERITAGE FARMS DAIRY&quot;</td><td>&quot;252&quot;</td></tr><tr><td>&quot;YES&quot;</td><td>&quot;*INTERNAL REPORTING*&quot;</td><td>&quot;GENERAL&quot;</td><td>&quot;LOADOUT&quot;</td><td>&quot;CENTENNIAL FARMS DAIRY&quot;</td><td>&quot;258&quot;</td></tr><tr><td>&quot;YES&quot;</td><td>&quot;DONUTS&quot;</td><td>&quot;GENERAL&quot;</td><td>&quot;DONUT LINE&quot;</td><td>&quot;LA HABRA BAKERY&quot;</td><td>&quot;730&quot;</td></tr><tr><td>&quot;YES&quot;</td><td>&quot;BAGELS&quot;</td><td>&quot;GENERAL&quot;</td><td>&quot;BAGEL LINE&quot;</td><td>&quot;CLACKAMAS BAKERY&quot;</td><td>&quot;731&quot;</td></tr><tr><td>&hellip;</td><td>&hellip;</td><td>&hellip;</td><td>&hellip;</td><td>&hellip;</td><td>&hellip;</td></tr><tr><td>&quot;YES&quot;</td><td>&quot;BUNS&quot;</td><td>&quot;YEAST SYSTEM&quot;</td><td>&quot;ROLL 1&quot;</td><td>&quot;LAYTON DOUGH&quot;</td><td>&quot;732&quot;</td></tr><tr><td>&quot;YES&quot;</td><td>&quot;ICING&quot;</td><td>&quot;WHIPPY AXIS SPRINKLE TOPPER&quot;</td><td>&quot;ICED CUPCAKES&quot;</td><td>&quot;LAYTON DOUGH&quot;</td><td>&quot;732&quot;</td></tr><tr><td>&quot;YES&quot;</td><td>&quot;ICING&quot;</td><td>&quot;WHIPPY INDEX BELT&quot;</td><td>&quot;ICED CUPCAKES&quot;</td><td>&quot;LAYTON DOUGH&quot;</td><td>&quot;732&quot;</td></tr><tr><td>&quot;YES&quot;</td><td>&quot;ICING&quot;</td><td>&quot;WHIPPY OAKES PORTABLE MIXER 1&quot;</td><td>&quot;ICED CUPCAKES&quot;</td><td>&quot;LAYTON DOUGH&quot;</td><td>&quot;732&quot;</td></tr><tr><td>&quot;YES&quot;</td><td>&quot;ICING&quot;</td><td>&quot;WHIPPY OAKES PORTABLE MIXER 2&quot;</td><td>&quot;ICED CUPCAKES&quot;</td><td>&quot;LAYTON DOUGH&quot;</td><td>&quot;732&quot;</td></tr><tr><td>&quot;YES&quot;</td><td>&quot;ICING&quot;</td><td>&quot;WHIPPY TRAY FEED BELT&quot;</td><td>&quot;ICED CUPCAKES&quot;</td><td>&quot;LAYTON DOUGH&quot;</td><td>&quot;732&quot;</td></tr><tr><td>&quot;YES&quot;</td><td>&quot;ICING&quot;</td><td>&quot;WHIPPY UNIFILLR DEPOSITOR 1&quot;</td><td>&quot;ICED CUPCAKES&quot;</td><td>&quot;LAYTON DOUGH&quot;</td><td>&quot;732&quot;</td></tr><tr><td>&quot;YES&quot;</td><td>&quot;ICING&quot;</td><td>&quot;WHIPPY UNIFILLR DEPOSITOR 2&quot;</td><td>&quot;ICED CUPCAKES&quot;</td><td>&quot;LAYTON DOUGH&quot;</td><td>&quot;732&quot;</td></tr><tr><td>&quot;YES&quot;</td><td>&quot;PIE&quot;</td><td>&quot;FRUIT PIE PDT&quot;</td><td>&quot;FRUIT PIE&quot;</td><td>&quot;LAYTON DOUGH&quot;</td><td>&quot;732&quot;</td></tr><tr><td>&quot;YES&quot;</td><td>&quot;BAGELS&quot;</td><td>&quot;BAGEL PDT&quot;</td><td>&quot;BAGEL&quot;</td><td>&quot;LAYTON DOUGH&quot;</td><td>&quot;732&quot;</td></tr><tr><td>&quot;YES&quot;</td><td>&quot;BREAD&quot;</td><td>&quot;BREAD PDT&quot;</td><td>&quot;BREAD&quot;</td><td>&quot;LAYTON DOUGH&quot;</td><td>&quot;732&quot;</td></tr><tr><td>&quot;YES&quot;</td><td>&quot;CAKES&quot;</td><td>&quot;CAKE PDT&quot;</td><td>&quot;CAKE&quot;</td><td>&quot;LAYTON DOUGH&quot;</td><td>&quot;732&quot;</td></tr><tr><td>&quot;YES&quot;</td><td>&quot;COOKIES&quot;</td><td>&quot;COOKIE PDT&quot;</td><td>&quot;COOKIE&quot;</td><td>&quot;LAYTON DOUGH&quot;</td><td>&quot;732&quot;</td></tr><tr><td>&quot;YES&quot;</td><td>&quot;DONUTS&quot;</td><td>&quot;DONUT PDT&quot;</td><td>&quot;DONUT&quot;</td><td>&quot;LAYTON DOUGH&quot;</td><td>&quot;732&quot;</td></tr><tr><td>&quot;YES&quot;</td><td>&quot;ICING&quot;</td><td>&quot;ICED CAKE PDT&quot;</td><td>&quot;ICED CAKE&quot;</td><td>&quot;LAYTON DOUGH&quot;</td><td>&quot;732&quot;</td></tr><tr><td>&quot;YES&quot;</td><td>&quot;ICING&quot;</td><td>&quot;ICED CUPCAKE PDT&quot;</td><td>&quot;ICED CUPCAKES&quot;</td><td>&quot;LAYTON DOUGH&quot;</td><td>&quot;732&quot;</td></tr><tr><td>&quot;YES&quot;</td><td>&quot;BUNS&quot;</td><td>&quot;ROLL 1 PDT&quot;</td><td>&quot;ROLL 1&quot;</td><td>&quot;LAYTON DOUGH&quot;</td><td>&quot;732&quot;</td></tr><tr><td>&quot;YES&quot;</td><td>&quot;BUNS&quot;</td><td>&quot;ROLL 2 PDT&quot;</td><td>&quot;ROLL 2&quot;</td><td>&quot;LAYTON DOUGH&quot;</td><td>&quot;732&quot;</td></tr><tr><td>&quot;YES&quot;</td><td>&quot;DANISH&quot;</td><td>&quot;ROLL 3 PDT&quot;</td><td>&quot;ROLL 3&quot;</td><td>&quot;LAYTON DOUGH&quot;</td><td>&quot;732&quot;</td></tr><tr><td>&quot;YES&quot;</td><td>&quot;PIE&quot;</td><td>&quot;SHELLS PDT&quot;</td><td>&quot;FRUIT PIE&quot;</td><td>&quot;LAYTON DOUGH&quot;</td><td>&quot;732&quot;</td></tr></tbody></table></div>"
      ],
      "text/plain": [
       "shape: (7_432, 6)\n",
       "┌──────────────┬─────────────────┬────────────────┬────────────────┬────────────────┬──────────────┐\n",
       "│ Active Line? ┆ Area            ┆ Equipment      ┆ Line Name      ┆ Plant Name     ┆ Plant Number │\n",
       "│ ---          ┆ ---             ┆ ---            ┆ ---            ┆ ---            ┆ ---          │\n",
       "│ str          ┆ str             ┆ str            ┆ str            ┆ str            ┆ str          │\n",
       "╞══════════════╪═════════════════╪════════════════╪════════════════╪════════════════╪══════════════╡\n",
       "│ YES          ┆ BUNS            ┆ GENERAL        ┆ BUN LINE       ┆ INDIANAPOLIS   ┆ 005          │\n",
       "│              ┆                 ┆                ┆                ┆ BAKERY         ┆              │\n",
       "│ NO           ┆ PROCESSING      ┆ GENERAL        ┆ 1 LB GOGLIO    ┆ PONTIAC FOODS  ┆ 042          │\n",
       "│ YES          ┆ DISTRIBUTION    ┆ GENERAL        ┆ DM1 - STICK    ┆ KENLAKE FOODS  ┆ 043          │\n",
       "│              ┆                 ┆                ┆ PACK           ┆                ┆              │\n",
       "│ YES          ┆ DISTRIBUTION    ┆ GENERAL        ┆ EXTRACT        ┆ TARA FOODS     ┆ 046          │\n",
       "│ YES          ┆ DISTRIBUTION    ┆ GENERAL        ┆ 752 SEMI-SOLID ┆ STATE AVENUE   ┆ 049          │\n",
       "│              ┆                 ┆                ┆ LINE           ┆ FOODS          ┆              │\n",
       "│ YES          ┆ NOVELTIES       ┆ GENERAL        ┆ 19 - SANDWICH  ┆ CROSSROAD      ┆ 052          │\n",
       "│              ┆                 ┆                ┆ 1              ┆ FARMS DAIRY    ┆              │\n",
       "│ YES          ┆ CULTURE         ┆ GENERAL        ┆ CUP FILLER     ┆ VANDERVOORT    ┆ 053          │\n",
       "│ NO           ┆ MUFFINS         ┆ GENERAL        ┆ FEDERAL FILLER ┆ WESTOVER       ┆ 054          │\n",
       "│              ┆                 ┆                ┆ 3              ┆                ┆              │\n",
       "│ YES          ┆ DAIRY FLUID     ┆ GENERAL        ┆ FEDERAL 1      ┆ TAMARACK FARMS ┆ 055          │\n",
       "│              ┆                 ┆                ┆                ┆ DAIRY          ┆              │\n",
       "│ YES          ┆ CULTURE         ┆ GENERAL        ┆ MODERN         ┆ MICHIGAN DAIRY ┆ 056          │\n",
       "│ YES          ┆ DAIRY FLUID     ┆ GENERAL        ┆ SMALL BOTTLE   ┆ JACKSON DAIRY  ┆ 070          │\n",
       "│ YES          ┆ BUNS            ┆ GENERAL        ┆ ROLL LINE      ┆ ANDERSON       ┆ 101          │\n",
       "│              ┆                 ┆                ┆                ┆ BAKERY         ┆              │\n",
       "│ NO           ┆ *INTERNAL       ┆ GENERAL        ┆ ALL LINES      ┆ COUNTRY OVEN   ┆ 102          │\n",
       "│              ┆ REPORTING*      ┆                ┆                ┆ BAKERY         ┆              │\n",
       "│ NO           ┆ PROCESS         ┆ GENERAL        ┆ LINE 01 IWS    ┆ PACE INDIANA   ┆ 177          │\n",
       "│ YES          ┆ SALAD           ┆ GENERAL        ┆ SALADS IN-LINE ┆ K.B. SPECIALTY ┆ 192          │\n",
       "│              ┆                 ┆                ┆ FILLER         ┆ FOODS          ┆              │\n",
       "│ YES          ┆ PROCESSING      ┆ GENERAL        ┆ L-1 PACKAGING  ┆ DELIGHT        ┆ 221          │\n",
       "│              ┆                 ┆                ┆                ┆ PRODUCTS       ┆              │\n",
       "│ YES          ┆ BLOWMOLD        ┆ GENERAL        ┆ BLOWMOLD 1     ┆ HERITAGE FARMS ┆ 252          │\n",
       "│              ┆                 ┆                ┆                ┆ DAIRY          ┆              │\n",
       "│ YES          ┆ *INTERNAL       ┆ GENERAL        ┆ LOADOUT        ┆ CENTENNIAL     ┆ 258          │\n",
       "│              ┆ REPORTING*      ┆                ┆                ┆ FARMS DAIRY    ┆              │\n",
       "│ YES          ┆ DONUTS          ┆ GENERAL        ┆ DONUT LINE     ┆ LA HABRA       ┆ 730          │\n",
       "│              ┆                 ┆                ┆                ┆ BAKERY         ┆              │\n",
       "│ YES          ┆ BAGELS          ┆ GENERAL        ┆ BAGEL LINE     ┆ CLACKAMAS      ┆ 731          │\n",
       "│              ┆                 ┆                ┆                ┆ BAKERY         ┆              │\n",
       "│ …            ┆ …               ┆ …              ┆ …              ┆ …              ┆ …            │\n",
       "│ YES          ┆ BUNS            ┆ YEAST SYSTEM   ┆ ROLL 1         ┆ LAYTON DOUGH   ┆ 732          │\n",
       "│ YES          ┆ ICING           ┆ WHIPPY AXIS    ┆ ICED CUPCAKES  ┆ LAYTON DOUGH   ┆ 732          │\n",
       "│              ┆                 ┆ SPRINKLE       ┆                ┆                ┆              │\n",
       "│              ┆                 ┆ TOPPER         ┆                ┆                ┆              │\n",
       "│ YES          ┆ ICING           ┆ WHIPPY INDEX   ┆ ICED CUPCAKES  ┆ LAYTON DOUGH   ┆ 732          │\n",
       "│              ┆                 ┆ BELT           ┆                ┆                ┆              │\n",
       "│ YES          ┆ ICING           ┆ WHIPPY OAKES   ┆ ICED CUPCAKES  ┆ LAYTON DOUGH   ┆ 732          │\n",
       "│              ┆                 ┆ PORTABLE MIXER ┆                ┆                ┆              │\n",
       "│              ┆                 ┆ 1              ┆                ┆                ┆              │\n",
       "│ YES          ┆ ICING           ┆ WHIPPY OAKES   ┆ ICED CUPCAKES  ┆ LAYTON DOUGH   ┆ 732          │\n",
       "│              ┆                 ┆ PORTABLE MIXER ┆                ┆                ┆              │\n",
       "│              ┆                 ┆ 2              ┆                ┆                ┆              │\n",
       "│ YES          ┆ ICING           ┆ WHIPPY TRAY    ┆ ICED CUPCAKES  ┆ LAYTON DOUGH   ┆ 732          │\n",
       "│              ┆                 ┆ FEED BELT      ┆                ┆                ┆              │\n",
       "│ YES          ┆ ICING           ┆ WHIPPY         ┆ ICED CUPCAKES  ┆ LAYTON DOUGH   ┆ 732          │\n",
       "│              ┆                 ┆ UNIFILLR       ┆                ┆                ┆              │\n",
       "│              ┆                 ┆ DEPOSITOR 1    ┆                ┆                ┆              │\n",
       "│ YES          ┆ ICING           ┆ WHIPPY         ┆ ICED CUPCAKES  ┆ LAYTON DOUGH   ┆ 732          │\n",
       "│              ┆                 ┆ UNIFILLR       ┆                ┆                ┆              │\n",
       "│              ┆                 ┆ DEPOSITOR 2    ┆                ┆                ┆              │\n",
       "│ YES          ┆ PIE             ┆ FRUIT PIE PDT  ┆ FRUIT PIE      ┆ LAYTON DOUGH   ┆ 732          │\n",
       "│ YES          ┆ BAGELS          ┆ BAGEL PDT      ┆ BAGEL          ┆ LAYTON DOUGH   ┆ 732          │\n",
       "│ YES          ┆ BREAD           ┆ BREAD PDT      ┆ BREAD          ┆ LAYTON DOUGH   ┆ 732          │\n",
       "│ YES          ┆ CAKES           ┆ CAKE PDT       ┆ CAKE           ┆ LAYTON DOUGH   ┆ 732          │\n",
       "│ YES          ┆ COOKIES         ┆ COOKIE PDT     ┆ COOKIE         ┆ LAYTON DOUGH   ┆ 732          │\n",
       "│ YES          ┆ DONUTS          ┆ DONUT PDT      ┆ DONUT          ┆ LAYTON DOUGH   ┆ 732          │\n",
       "│ YES          ┆ ICING           ┆ ICED CAKE PDT  ┆ ICED CAKE      ┆ LAYTON DOUGH   ┆ 732          │\n",
       "│ YES          ┆ ICING           ┆ ICED CUPCAKE   ┆ ICED CUPCAKES  ┆ LAYTON DOUGH   ┆ 732          │\n",
       "│              ┆                 ┆ PDT            ┆                ┆                ┆              │\n",
       "│ YES          ┆ BUNS            ┆ ROLL 1 PDT     ┆ ROLL 1         ┆ LAYTON DOUGH   ┆ 732          │\n",
       "│ YES          ┆ BUNS            ┆ ROLL 2 PDT     ┆ ROLL 2         ┆ LAYTON DOUGH   ┆ 732          │\n",
       "│ YES          ┆ DANISH          ┆ ROLL 3 PDT     ┆ ROLL 3         ┆ LAYTON DOUGH   ┆ 732          │\n",
       "│ YES          ┆ PIE             ┆ SHELLS PDT     ┆ FRUIT PIE      ┆ LAYTON DOUGH   ┆ 732          │\n",
       "└──────────────┴─────────────────┴────────────────┴────────────────┴────────────────┴──────────────┘"
      ]
     },
     "metadata": {},
     "output_type": "display_data"
    }
   ],
   "source": [
    "KDT_PRODUCTION_PATH = config.data_dir / \"from_bzo\" / \"kdt_production_20250618.csv\"\n",
    "\n",
    "# Read all columns as strings first to handle concatenated CSVs with extra headers\n",
    "kdt_production_raw = pl.read_csv(\n",
    "    KDT_PRODUCTION_PATH,\n",
    "    has_header=True,\n",
    "    infer_schema_length=0  # Treat all columns as strings\n",
    ")\n",
    "\n",
    "display(kdt_production_raw)\n",
    "# display(kdt_downtime)"
   ]
  },
  {
   "cell_type": "code",
   "execution_count": 16,
   "id": "0a8d7726",
   "metadata": {},
   "outputs": [
    {
     "name": "stderr",
     "output_type": "stream",
     "text": [
      "/var/folders/jf/198d9jm50jq0drgyhvr6ll5r5r551n/T/ipykernel_4124/3028061896.py:17: DeprecationWarning: `pl.count()` is deprecated. Please use `pl.len()` instead.\n",
      "(Deprecated in version 0.20.5)\n",
      "  .agg(pl.count())\n"
     ]
    },
    {
     "data": {
      "text/html": [
       "<div><style>\n",
       ".dataframe > thead > tr,\n",
       ".dataframe > tbody > tr {\n",
       "  text-align: right;\n",
       "  white-space: pre-wrap;\n",
       "}\n",
       "</style>\n",
       "<small>shape: (23, 4)</small><table border=\"1\" class=\"dataframe\"><thead><tr><th>Plant Number</th><th>Plant Name</th><th>Line Name</th><th>count</th></tr><tr><td>str</td><td>str</td><td>str</td><td>u32</td></tr></thead><tbody><tr><td>&quot;049&quot;</td><td>&quot;STATE AVENUE FOODS&quot;</td><td>&quot;670 SPICE &quot;</td><td>14</td></tr><tr><td>&quot;049&quot;</td><td>&quot;STATE AVENUE FOODS&quot;</td><td>&quot;750 LIQUID LINE&quot;</td><td>43</td></tr><tr><td>&quot;049&quot;</td><td>&quot;STATE AVENUE FOODS&quot;</td><td>&quot;752 SEMI-SOLID LINE&quot;</td><td>41</td></tr><tr><td>&quot;049&quot;</td><td>&quot;STATE AVENUE FOODS&quot;</td><td>&quot;770 PRESERVES LINE&quot;</td><td>53</td></tr><tr><td>&quot;049&quot;</td><td>&quot;STATE AVENUE FOODS&quot;</td><td>&quot;771 BAKERY FILLING&quot;</td><td>22</td></tr><tr><td>&quot;049&quot;</td><td>&quot;STATE AVENUE FOODS&quot;</td><td>&quot;772 VINEGAR LINE&quot;</td><td>12</td></tr><tr><td>&quot;049&quot;</td><td>&quot;STATE AVENUE FOODS&quot;</td><td>&quot;790 RED SAUCE LINE&quot;</td><td>62</td></tr><tr><td>&quot;049&quot;</td><td>&quot;STATE AVENUE FOODS&quot;</td><td>&quot;800 CANNED FOODS&quot;</td><td>41</td></tr><tr><td>&quot;049&quot;</td><td>&quot;STATE AVENUE FOODS&quot;</td><td>&quot;820 BBQ/SYRUP LINE&quot;</td><td>19</td></tr><tr><td>&quot;102&quot;</td><td>&quot;COUNTRY OVEN BAKERY&quot;</td><td>&quot;BREAD LINE&quot;</td><td>34</td></tr><tr><td>&quot;102&quot;</td><td>&quot;COUNTRY OVEN BAKERY&quot;</td><td>&quot;CAKE MAKE-UP&quot;</td><td>53</td></tr><tr><td>&quot;102&quot;</td><td>&quot;COUNTRY OVEN BAKERY&quot;</td><td>&quot;CAKE MAKE-UP II&quot;</td><td>81</td></tr><tr><td>&quot;102&quot;</td><td>&quot;COUNTRY OVEN BAKERY&quot;</td><td>&quot;COOKIE LINE&quot;</td><td>38</td></tr><tr><td>&quot;102&quot;</td><td>&quot;COUNTRY OVEN BAKERY&quot;</td><td>&quot;DANISH LINE&quot;</td><td>54</td></tr><tr><td>&quot;102&quot;</td><td>&quot;COUNTRY OVEN BAKERY&quot;</td><td>&quot;ICED CAKE 1/4 SHEET&quot;</td><td>59</td></tr><tr><td>&quot;102&quot;</td><td>&quot;COUNTRY OVEN BAKERY&quot;</td><td>&quot;ICED CAKE LAYERS&quot;</td><td>48</td></tr><tr><td>&quot;102&quot;</td><td>&quot;COUNTRY OVEN BAKERY&quot;</td><td>&quot;ROLL LINE&quot;</td><td>31</td></tr><tr><td>&quot;714&quot;</td><td>&quot;RCK FOODS&quot;</td><td>&quot;DELI MODERN&quot;</td><td>7</td></tr><tr><td>&quot;714&quot;</td><td>&quot;RCK FOODS&quot;</td><td>&quot;DELI MULTIVAC 1&quot;</td><td>10</td></tr><tr><td>&quot;714&quot;</td><td>&quot;RCK FOODS&quot;</td><td>&quot;DELI MULTIVAC 2&quot;</td><td>7</td></tr><tr><td>&quot;714&quot;</td><td>&quot;RCK FOODS&quot;</td><td>&quot;DELI ORIC 1&quot;</td><td>9</td></tr><tr><td>&quot;714&quot;</td><td>&quot;RCK FOODS&quot;</td><td>&quot;DELI ORIC 2&quot;</td><td>9</td></tr><tr><td>&quot;714&quot;</td><td>&quot;RCK FOODS&quot;</td><td>&quot;SOUP MODERN&quot;</td><td>53</td></tr></tbody></table></div>"
      ],
      "text/plain": [
       "shape: (23, 4)\n",
       "┌──────────────┬─────────────────────┬─────────────────────┬───────┐\n",
       "│ Plant Number ┆ Plant Name          ┆ Line Name           ┆ count │\n",
       "│ ---          ┆ ---                 ┆ ---                 ┆ ---   │\n",
       "│ str          ┆ str                 ┆ str                 ┆ u32   │\n",
       "╞══════════════╪═════════════════════╪═════════════════════╪═══════╡\n",
       "│ 049          ┆ STATE AVENUE FOODS  ┆ 670 SPICE           ┆ 14    │\n",
       "│ 049          ┆ STATE AVENUE FOODS  ┆ 750 LIQUID LINE     ┆ 43    │\n",
       "│ 049          ┆ STATE AVENUE FOODS  ┆ 752 SEMI-SOLID LINE ┆ 41    │\n",
       "│ 049          ┆ STATE AVENUE FOODS  ┆ 770 PRESERVES LINE  ┆ 53    │\n",
       "│ 049          ┆ STATE AVENUE FOODS  ┆ 771 BAKERY FILLING  ┆ 22    │\n",
       "│ 049          ┆ STATE AVENUE FOODS  ┆ 772 VINEGAR LINE    ┆ 12    │\n",
       "│ 049          ┆ STATE AVENUE FOODS  ┆ 790 RED SAUCE LINE  ┆ 62    │\n",
       "│ 049          ┆ STATE AVENUE FOODS  ┆ 800 CANNED FOODS    ┆ 41    │\n",
       "│ 049          ┆ STATE AVENUE FOODS  ┆ 820 BBQ/SYRUP LINE  ┆ 19    │\n",
       "│ 102          ┆ COUNTRY OVEN BAKERY ┆ BREAD LINE          ┆ 34    │\n",
       "│ 102          ┆ COUNTRY OVEN BAKERY ┆ CAKE MAKE-UP        ┆ 53    │\n",
       "│ 102          ┆ COUNTRY OVEN BAKERY ┆ CAKE MAKE-UP II     ┆ 81    │\n",
       "│ 102          ┆ COUNTRY OVEN BAKERY ┆ COOKIE LINE         ┆ 38    │\n",
       "│ 102          ┆ COUNTRY OVEN BAKERY ┆ DANISH LINE         ┆ 54    │\n",
       "│ 102          ┆ COUNTRY OVEN BAKERY ┆ ICED CAKE 1/4 SHEET ┆ 59    │\n",
       "│ 102          ┆ COUNTRY OVEN BAKERY ┆ ICED CAKE LAYERS    ┆ 48    │\n",
       "│ 102          ┆ COUNTRY OVEN BAKERY ┆ ROLL LINE           ┆ 31    │\n",
       "│ 714          ┆ RCK FOODS           ┆ DELI MODERN         ┆ 7     │\n",
       "│ 714          ┆ RCK FOODS           ┆ DELI MULTIVAC 1     ┆ 10    │\n",
       "│ 714          ┆ RCK FOODS           ┆ DELI MULTIVAC 2     ┆ 7     │\n",
       "│ 714          ┆ RCK FOODS           ┆ DELI ORIC 1         ┆ 9     │\n",
       "│ 714          ┆ RCK FOODS           ┆ DELI ORIC 2         ┆ 9     │\n",
       "│ 714          ┆ RCK FOODS           ┆ SOUP MODERN         ┆ 53    │\n",
       "└──────────────┴─────────────────────┴─────────────────────┴───────┘"
      ]
     },
     "metadata": {},
     "output_type": "display_data"
    }
   ],
   "source": [
    "plants = [\n",
    "    \"102\", # Country Oven Bakery\n",
    "    \"049\", # State Avenue Foods\n",
    "    \"714\", # RCK Foods\n",
    "]\n",
    "\n",
    "kdt_production = (\n",
    "    kdt_production_raw\n",
    "    .filter(pl.col(\"Active Line?\") == \"YES\")\n",
    "    .filter(pl.col(\"Plant Number\").is_in(plants))\n",
    "    .group_by(\n",
    "        \"Plant Number\",\n",
    "        \"Plant Name\",\n",
    "        # \"Area\",\n",
    "        \"Line Name\"\n",
    "    )\n",
    "    .agg(pl.count())\n",
    "    .sort(\n",
    "        \"Plant Number\",\n",
    "        \"Plant Name\",\n",
    "        \"Line Name\"\n",
    "    )\n",
    ")\n",
    "\n",
    "display(kdt_production)"
   ]
  }
 ],
 "metadata": {
  "kernelspec": {
   "display_name": ".venv",
   "language": "python",
   "name": "python3"
  },
  "language_info": {
   "codemirror_mode": {
    "name": "ipython",
    "version": 3
   },
   "file_extension": ".py",
   "mimetype": "text/x-python",
   "name": "python",
   "nbconvert_exporter": "python",
   "pygments_lexer": "ipython3",
   "version": "3.13.2"
  }
 },
 "nbformat": 4,
 "nbformat_minor": 5
}
